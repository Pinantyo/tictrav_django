{
  "cells": [
    {
      "cell_type": "markdown",
      "source": [
        "# Pemodelan AI\n",
        "---\n",
        "Steven Christ Pinantyo Arwidarasto\n",
        "\n",
        "Referensi:\n",
        "* https://simpletransformers.ai/docs/usage/\n",
        "* https://towardsdatascience.com/how-to-train-a-bert-model-from-scratch-72cfce554fc6\n",
        "* https://medium.datadriveninvestor.com/build-a-custom-q-a-model-using-bert-in-easy-steps-241547d6310f\n",
        "* https://huggingface.co/course/chapter7/7?fw=pt\n",
        "* https://arxiv.org/ftp/arxiv/papers/2002/2002.10107.pdf (Predicting Subjective Features of Questions of QA Websites using BERT)\n",
        "* https://web.stanford.edu/class/archive/cs/cs224n/cs224n.1194/reports/default/15812785.pdf (Question and Answering on SQuAD 2.0: BERT Is All You Need To Know)\n",
        "* https://blog.paperspace.com/how-to-train-question-answering-machine-learning-models/"
      ],
      "metadata": {
        "id": "n2fFWPOE2zv2"
      },
      "id": "n2fFWPOE2zv2"
    },
    {
      "cell_type": "code",
      "execution_count": null,
      "metadata": {
        "colab": {
          "base_uri": "https://localhost:8080/"
        },
        "id": "vc6U2o2GePpY",
        "outputId": "7b5f4857-228e-49f8-822b-fb4608caaf65"
      },
      "outputs": [
        {
          "output_type": "stream",
          "name": "stdout",
          "text": [
            "Mounted at /content/drive\n"
          ]
        }
      ],
      "source": [
        "from google.colab import drive\n",
        "drive.mount('/content/drive')"
      ],
      "id": "vc6U2o2GePpY"
    },
    {
      "cell_type": "code",
      "execution_count": null,
      "metadata": {
        "id": "21dcfbeb"
      },
      "outputs": [],
      "source": [
        "import sqlalchemy as sa # Pembacaan SQL\n",
        "\n",
        "import pandas as pd\n",
        "import numpy as np\n",
        "import json\n",
        "\n",
        "# Visualisasi\n",
        "import seaborn as sns\n",
        "import matplotlib.pyplot as plt\n",
        "\n",
        "import re"
      ],
      "id": "21dcfbeb"
    },
    {
      "cell_type": "code",
      "source": [
        "# Load data informasi tempat wisata\n",
        "df_tourism = pd.read_csv('/content/drive/MyDrive/Colab Notebooks/PA/Tourism.csv') "
      ],
      "metadata": {
        "id": "MbuGwjgtCkIR"
      },
      "id": "MbuGwjgtCkIR",
      "execution_count": null,
      "outputs": []
    },
    {
      "cell_type": "markdown",
      "source": [
        "# Preprocessing"
      ],
      "metadata": {
        "id": "0dfV56i6Ckll"
      },
      "id": "0dfV56i6Ckll"
    },
    {
      "cell_type": "markdown",
      "source": [
        "> Pengecekan nilai null dan jumlah total keseluruhan data. Terdapat 437 tempat wisata dan beberapa nilai null yang terdapat pada kolom Time_Minutes, hal ini dikarenakan tidak semua tempat wisata memiliki batas waktu yang ditetapkan kepada individu pengunjung. Oleh karena itu, akan dihapus kolom tersebut dari data\n",
        "\n",
        "> Adapun kolom yang tidak digunakan seperti latitude, longitude, dan koordinat juga akan dihapus."
      ],
      "metadata": {
        "id": "1rnjwLp5DRdH"
      },
      "id": "1rnjwLp5DRdH"
    },
    {
      "cell_type": "code",
      "source": [
        "df_tourism.info()"
      ],
      "metadata": {
        "id": "Tv5sqQriC6Oo",
        "colab": {
          "base_uri": "https://localhost:8080/"
        },
        "outputId": "e763d644-ae67-4203-dcad-f2f066ec1980"
      },
      "id": "Tv5sqQriC6Oo",
      "execution_count": null,
      "outputs": [
        {
          "output_type": "stream",
          "name": "stdout",
          "text": [
            "<class 'pandas.core.frame.DataFrame'>\n",
            "RangeIndex: 437 entries, 0 to 436\n",
            "Data columns (total 12 columns):\n",
            " #   Column        Non-Null Count  Dtype  \n",
            "---  ------        --------------  -----  \n",
            " 0   Unnamed: 0    437 non-null    int64  \n",
            " 1   Place_Id      437 non-null    int64  \n",
            " 2   Place_Name    437 non-null    object \n",
            " 3   Description   437 non-null    object \n",
            " 4   Category      437 non-null    object \n",
            " 5   City          437 non-null    object \n",
            " 6   Price         437 non-null    float64\n",
            " 7   Rating        437 non-null    float64\n",
            " 8   Time_Minutes  205 non-null    float64\n",
            " 9   Coordinate    437 non-null    object \n",
            " 10  Lat           437 non-null    float64\n",
            " 11  Long          437 non-null    float64\n",
            "dtypes: float64(5), int64(2), object(5)\n",
            "memory usage: 41.1+ KB\n"
          ]
        }
      ]
    },
    {
      "cell_type": "code",
      "source": [
        "# Memasukan dataset\n",
        "df_text = df_tourism.drop(['Lat','Long','Coordinate'],axis=1)\n",
        "df_text.dropna(inplace=True)\n",
        "df_text.head()"
      ],
      "metadata": {
        "id": "bcpoGBbrC87A",
        "colab": {
          "base_uri": "https://localhost:8080/",
          "height": 206
        },
        "outputId": "07a37257-234f-498b-87b0-afa183294bc7"
      },
      "id": "bcpoGBbrC87A",
      "execution_count": null,
      "outputs": [
        {
          "output_type": "execute_result",
          "data": {
            "text/plain": [
              "   Unnamed: 0  Place_Id                Place_Name  \\\n",
              "0           0         1          Monumen Nasional   \n",
              "1           1         2                  Kota Tua   \n",
              "2           2         3             Dunia Fantasi   \n",
              "4           4         5  Atlantis Water Adventure   \n",
              "5           5         6   Taman Impian Jaya Ancol   \n",
              "\n",
              "                                         Description       Category     City  \\\n",
              "0  Monumen Nasional atau yang populer disingkat d...         Budaya  Jakarta   \n",
              "1  Kota tua di Jakarta, yang juga bernama Kota Tu...         Budaya  Jakarta   \n",
              "2  Dunia Fantasi atau disebut juga Dufan adalah t...  Taman Hiburan  Jakarta   \n",
              "4  Atlantis Water Adventure atau dikenal dengan A...  Taman Hiburan  Jakarta   \n",
              "5  Taman Impian Jaya Ancol merupakan sebuah objek...  Taman Hiburan  Jakarta   \n",
              "\n",
              "      Price  Rating  Time_Minutes  \n",
              "0   20000.0     4.6          15.0  \n",
              "1       0.0     4.6          90.0  \n",
              "2  270000.0     4.6         360.0  \n",
              "4   94000.0     4.5          60.0  \n",
              "5   25000.0     4.5          10.0  "
            ],
            "text/html": [
              "\n",
              "  <div id=\"df-9c448f33-795a-4822-96b2-e591634621ff\">\n",
              "    <div class=\"colab-df-container\">\n",
              "      <div>\n",
              "<style scoped>\n",
              "    .dataframe tbody tr th:only-of-type {\n",
              "        vertical-align: middle;\n",
              "    }\n",
              "\n",
              "    .dataframe tbody tr th {\n",
              "        vertical-align: top;\n",
              "    }\n",
              "\n",
              "    .dataframe thead th {\n",
              "        text-align: right;\n",
              "    }\n",
              "</style>\n",
              "<table border=\"1\" class=\"dataframe\">\n",
              "  <thead>\n",
              "    <tr style=\"text-align: right;\">\n",
              "      <th></th>\n",
              "      <th>Unnamed: 0</th>\n",
              "      <th>Place_Id</th>\n",
              "      <th>Place_Name</th>\n",
              "      <th>Description</th>\n",
              "      <th>Category</th>\n",
              "      <th>City</th>\n",
              "      <th>Price</th>\n",
              "      <th>Rating</th>\n",
              "      <th>Time_Minutes</th>\n",
              "    </tr>\n",
              "  </thead>\n",
              "  <tbody>\n",
              "    <tr>\n",
              "      <th>0</th>\n",
              "      <td>0</td>\n",
              "      <td>1</td>\n",
              "      <td>Monumen Nasional</td>\n",
              "      <td>Monumen Nasional atau yang populer disingkat d...</td>\n",
              "      <td>Budaya</td>\n",
              "      <td>Jakarta</td>\n",
              "      <td>20000.0</td>\n",
              "      <td>4.6</td>\n",
              "      <td>15.0</td>\n",
              "    </tr>\n",
              "    <tr>\n",
              "      <th>1</th>\n",
              "      <td>1</td>\n",
              "      <td>2</td>\n",
              "      <td>Kota Tua</td>\n",
              "      <td>Kota tua di Jakarta, yang juga bernama Kota Tu...</td>\n",
              "      <td>Budaya</td>\n",
              "      <td>Jakarta</td>\n",
              "      <td>0.0</td>\n",
              "      <td>4.6</td>\n",
              "      <td>90.0</td>\n",
              "    </tr>\n",
              "    <tr>\n",
              "      <th>2</th>\n",
              "      <td>2</td>\n",
              "      <td>3</td>\n",
              "      <td>Dunia Fantasi</td>\n",
              "      <td>Dunia Fantasi atau disebut juga Dufan adalah t...</td>\n",
              "      <td>Taman Hiburan</td>\n",
              "      <td>Jakarta</td>\n",
              "      <td>270000.0</td>\n",
              "      <td>4.6</td>\n",
              "      <td>360.0</td>\n",
              "    </tr>\n",
              "    <tr>\n",
              "      <th>4</th>\n",
              "      <td>4</td>\n",
              "      <td>5</td>\n",
              "      <td>Atlantis Water Adventure</td>\n",
              "      <td>Atlantis Water Adventure atau dikenal dengan A...</td>\n",
              "      <td>Taman Hiburan</td>\n",
              "      <td>Jakarta</td>\n",
              "      <td>94000.0</td>\n",
              "      <td>4.5</td>\n",
              "      <td>60.0</td>\n",
              "    </tr>\n",
              "    <tr>\n",
              "      <th>5</th>\n",
              "      <td>5</td>\n",
              "      <td>6</td>\n",
              "      <td>Taman Impian Jaya Ancol</td>\n",
              "      <td>Taman Impian Jaya Ancol merupakan sebuah objek...</td>\n",
              "      <td>Taman Hiburan</td>\n",
              "      <td>Jakarta</td>\n",
              "      <td>25000.0</td>\n",
              "      <td>4.5</td>\n",
              "      <td>10.0</td>\n",
              "    </tr>\n",
              "  </tbody>\n",
              "</table>\n",
              "</div>\n",
              "      <button class=\"colab-df-convert\" onclick=\"convertToInteractive('df-9c448f33-795a-4822-96b2-e591634621ff')\"\n",
              "              title=\"Convert this dataframe to an interactive table.\"\n",
              "              style=\"display:none;\">\n",
              "        \n",
              "  <svg xmlns=\"http://www.w3.org/2000/svg\" height=\"24px\"viewBox=\"0 0 24 24\"\n",
              "       width=\"24px\">\n",
              "    <path d=\"M0 0h24v24H0V0z\" fill=\"none\"/>\n",
              "    <path d=\"M18.56 5.44l.94 2.06.94-2.06 2.06-.94-2.06-.94-.94-2.06-.94 2.06-2.06.94zm-11 1L8.5 8.5l.94-2.06 2.06-.94-2.06-.94L8.5 2.5l-.94 2.06-2.06.94zm10 10l.94 2.06.94-2.06 2.06-.94-2.06-.94-.94-2.06-.94 2.06-2.06.94z\"/><path d=\"M17.41 7.96l-1.37-1.37c-.4-.4-.92-.59-1.43-.59-.52 0-1.04.2-1.43.59L10.3 9.45l-7.72 7.72c-.78.78-.78 2.05 0 2.83L4 21.41c.39.39.9.59 1.41.59.51 0 1.02-.2 1.41-.59l7.78-7.78 2.81-2.81c.8-.78.8-2.07 0-2.86zM5.41 20L4 18.59l7.72-7.72 1.47 1.35L5.41 20z\"/>\n",
              "  </svg>\n",
              "      </button>\n",
              "      \n",
              "  <style>\n",
              "    .colab-df-container {\n",
              "      display:flex;\n",
              "      flex-wrap:wrap;\n",
              "      gap: 12px;\n",
              "    }\n",
              "\n",
              "    .colab-df-convert {\n",
              "      background-color: #E8F0FE;\n",
              "      border: none;\n",
              "      border-radius: 50%;\n",
              "      cursor: pointer;\n",
              "      display: none;\n",
              "      fill: #1967D2;\n",
              "      height: 32px;\n",
              "      padding: 0 0 0 0;\n",
              "      width: 32px;\n",
              "    }\n",
              "\n",
              "    .colab-df-convert:hover {\n",
              "      background-color: #E2EBFA;\n",
              "      box-shadow: 0px 1px 2px rgba(60, 64, 67, 0.3), 0px 1px 3px 1px rgba(60, 64, 67, 0.15);\n",
              "      fill: #174EA6;\n",
              "    }\n",
              "\n",
              "    [theme=dark] .colab-df-convert {\n",
              "      background-color: #3B4455;\n",
              "      fill: #D2E3FC;\n",
              "    }\n",
              "\n",
              "    [theme=dark] .colab-df-convert:hover {\n",
              "      background-color: #434B5C;\n",
              "      box-shadow: 0px 1px 3px 1px rgba(0, 0, 0, 0.15);\n",
              "      filter: drop-shadow(0px 1px 2px rgba(0, 0, 0, 0.3));\n",
              "      fill: #FFFFFF;\n",
              "    }\n",
              "  </style>\n",
              "\n",
              "      <script>\n",
              "        const buttonEl =\n",
              "          document.querySelector('#df-9c448f33-795a-4822-96b2-e591634621ff button.colab-df-convert');\n",
              "        buttonEl.style.display =\n",
              "          google.colab.kernel.accessAllowed ? 'block' : 'none';\n",
              "\n",
              "        async function convertToInteractive(key) {\n",
              "          const element = document.querySelector('#df-9c448f33-795a-4822-96b2-e591634621ff');\n",
              "          const dataTable =\n",
              "            await google.colab.kernel.invokeFunction('convertToInteractive',\n",
              "                                                     [key], {});\n",
              "          if (!dataTable) return;\n",
              "\n",
              "          const docLinkHtml = 'Like what you see? Visit the ' +\n",
              "            '<a target=\"_blank\" href=https://colab.research.google.com/notebooks/data_table.ipynb>data table notebook</a>'\n",
              "            + ' to learn more about interactive tables.';\n",
              "          element.innerHTML = '';\n",
              "          dataTable['output_type'] = 'display_data';\n",
              "          await google.colab.output.renderOutput(dataTable, element);\n",
              "          const docLink = document.createElement('div');\n",
              "          docLink.innerHTML = docLinkHtml;\n",
              "          element.appendChild(docLink);\n",
              "        }\n",
              "      </script>\n",
              "    </div>\n",
              "  </div>\n",
              "  "
            ]
          },
          "metadata": {},
          "execution_count": 5
        }
      ]
    },
    {
      "cell_type": "markdown",
      "source": [
        "> Setelah itu, teks akan dilakukan transformasi seperti menyeragamkan huruf menjadi huruf kecil, menghapus URL, dan hanya menerima pattern string A-Z atau a-z, angka, spasi, titik, koma, dan petik."
      ],
      "metadata": {
        "id": "PM4SHMF2D2rp"
      },
      "id": "PM4SHMF2D2rp"
    },
    {
      "cell_type": "code",
      "source": [
        "def textPreprocessing(text):\n",
        "    text = text.casefold().strip()\n",
        "    text = re.sub(r'https?://\\S+|www\\.\\S+', '', text)\n",
        "    text = re.sub(\"[^A-Za-z0-9\\s.,']\",\"\",text)\n",
        "    return text"
      ],
      "metadata": {
        "id": "YT2sRlueC-zH"
      },
      "id": "YT2sRlueC-zH",
      "execution_count": null,
      "outputs": []
    },
    {
      "cell_type": "code",
      "source": [
        "# Pembersihan simbol-simbol, dan angka, serta penghapusan URL\n",
        "df_text['Description'] = df_text['Description'].apply(textPreprocessing)\n",
        "df_text['Place_Name'] = df_text['Place_Name'].apply(textPreprocessing)\n",
        "df_text['City'] = df_text['City'].apply(textPreprocessing)\n",
        "df_text['Category'] = df_text['Category'].apply(textPreprocessing)\n",
        "df_text.head()"
      ],
      "metadata": {
        "id": "fRLrZeETDBOS",
        "colab": {
          "base_uri": "https://localhost:8080/",
          "height": 206
        },
        "outputId": "d130e084-6459-4042-bc21-0c8469e3fbaf"
      },
      "id": "fRLrZeETDBOS",
      "execution_count": null,
      "outputs": [
        {
          "output_type": "execute_result",
          "data": {
            "text/plain": [
              "   Unnamed: 0  Place_Id                Place_Name  \\\n",
              "0           0         1          monumen nasional   \n",
              "1           1         2                  kota tua   \n",
              "2           2         3             dunia fantasi   \n",
              "4           4         5  atlantis water adventure   \n",
              "5           5         6   taman impian jaya ancol   \n",
              "\n",
              "                                         Description       Category     City  \\\n",
              "0  monumen nasional atau yang populer disingkat d...         budaya  jakarta   \n",
              "1  kota tua di jakarta, yang juga bernama kota tu...         budaya  jakarta   \n",
              "2  dunia fantasi atau disebut juga dufan adalah t...  taman hiburan  jakarta   \n",
              "4  atlantis water adventure atau dikenal dengan a...  taman hiburan  jakarta   \n",
              "5  taman impian jaya ancol merupakan sebuah objek...  taman hiburan  jakarta   \n",
              "\n",
              "      Price  Rating  Time_Minutes  \n",
              "0   20000.0     4.6          15.0  \n",
              "1       0.0     4.6          90.0  \n",
              "2  270000.0     4.6         360.0  \n",
              "4   94000.0     4.5          60.0  \n",
              "5   25000.0     4.5          10.0  "
            ],
            "text/html": [
              "\n",
              "  <div id=\"df-93cf5183-5001-4303-8734-bab61805c47a\">\n",
              "    <div class=\"colab-df-container\">\n",
              "      <div>\n",
              "<style scoped>\n",
              "    .dataframe tbody tr th:only-of-type {\n",
              "        vertical-align: middle;\n",
              "    }\n",
              "\n",
              "    .dataframe tbody tr th {\n",
              "        vertical-align: top;\n",
              "    }\n",
              "\n",
              "    .dataframe thead th {\n",
              "        text-align: right;\n",
              "    }\n",
              "</style>\n",
              "<table border=\"1\" class=\"dataframe\">\n",
              "  <thead>\n",
              "    <tr style=\"text-align: right;\">\n",
              "      <th></th>\n",
              "      <th>Unnamed: 0</th>\n",
              "      <th>Place_Id</th>\n",
              "      <th>Place_Name</th>\n",
              "      <th>Description</th>\n",
              "      <th>Category</th>\n",
              "      <th>City</th>\n",
              "      <th>Price</th>\n",
              "      <th>Rating</th>\n",
              "      <th>Time_Minutes</th>\n",
              "    </tr>\n",
              "  </thead>\n",
              "  <tbody>\n",
              "    <tr>\n",
              "      <th>0</th>\n",
              "      <td>0</td>\n",
              "      <td>1</td>\n",
              "      <td>monumen nasional</td>\n",
              "      <td>monumen nasional atau yang populer disingkat d...</td>\n",
              "      <td>budaya</td>\n",
              "      <td>jakarta</td>\n",
              "      <td>20000.0</td>\n",
              "      <td>4.6</td>\n",
              "      <td>15.0</td>\n",
              "    </tr>\n",
              "    <tr>\n",
              "      <th>1</th>\n",
              "      <td>1</td>\n",
              "      <td>2</td>\n",
              "      <td>kota tua</td>\n",
              "      <td>kota tua di jakarta, yang juga bernama kota tu...</td>\n",
              "      <td>budaya</td>\n",
              "      <td>jakarta</td>\n",
              "      <td>0.0</td>\n",
              "      <td>4.6</td>\n",
              "      <td>90.0</td>\n",
              "    </tr>\n",
              "    <tr>\n",
              "      <th>2</th>\n",
              "      <td>2</td>\n",
              "      <td>3</td>\n",
              "      <td>dunia fantasi</td>\n",
              "      <td>dunia fantasi atau disebut juga dufan adalah t...</td>\n",
              "      <td>taman hiburan</td>\n",
              "      <td>jakarta</td>\n",
              "      <td>270000.0</td>\n",
              "      <td>4.6</td>\n",
              "      <td>360.0</td>\n",
              "    </tr>\n",
              "    <tr>\n",
              "      <th>4</th>\n",
              "      <td>4</td>\n",
              "      <td>5</td>\n",
              "      <td>atlantis water adventure</td>\n",
              "      <td>atlantis water adventure atau dikenal dengan a...</td>\n",
              "      <td>taman hiburan</td>\n",
              "      <td>jakarta</td>\n",
              "      <td>94000.0</td>\n",
              "      <td>4.5</td>\n",
              "      <td>60.0</td>\n",
              "    </tr>\n",
              "    <tr>\n",
              "      <th>5</th>\n",
              "      <td>5</td>\n",
              "      <td>6</td>\n",
              "      <td>taman impian jaya ancol</td>\n",
              "      <td>taman impian jaya ancol merupakan sebuah objek...</td>\n",
              "      <td>taman hiburan</td>\n",
              "      <td>jakarta</td>\n",
              "      <td>25000.0</td>\n",
              "      <td>4.5</td>\n",
              "      <td>10.0</td>\n",
              "    </tr>\n",
              "  </tbody>\n",
              "</table>\n",
              "</div>\n",
              "      <button class=\"colab-df-convert\" onclick=\"convertToInteractive('df-93cf5183-5001-4303-8734-bab61805c47a')\"\n",
              "              title=\"Convert this dataframe to an interactive table.\"\n",
              "              style=\"display:none;\">\n",
              "        \n",
              "  <svg xmlns=\"http://www.w3.org/2000/svg\" height=\"24px\"viewBox=\"0 0 24 24\"\n",
              "       width=\"24px\">\n",
              "    <path d=\"M0 0h24v24H0V0z\" fill=\"none\"/>\n",
              "    <path d=\"M18.56 5.44l.94 2.06.94-2.06 2.06-.94-2.06-.94-.94-2.06-.94 2.06-2.06.94zm-11 1L8.5 8.5l.94-2.06 2.06-.94-2.06-.94L8.5 2.5l-.94 2.06-2.06.94zm10 10l.94 2.06.94-2.06 2.06-.94-2.06-.94-.94-2.06-.94 2.06-2.06.94z\"/><path d=\"M17.41 7.96l-1.37-1.37c-.4-.4-.92-.59-1.43-.59-.52 0-1.04.2-1.43.59L10.3 9.45l-7.72 7.72c-.78.78-.78 2.05 0 2.83L4 21.41c.39.39.9.59 1.41.59.51 0 1.02-.2 1.41-.59l7.78-7.78 2.81-2.81c.8-.78.8-2.07 0-2.86zM5.41 20L4 18.59l7.72-7.72 1.47 1.35L5.41 20z\"/>\n",
              "  </svg>\n",
              "      </button>\n",
              "      \n",
              "  <style>\n",
              "    .colab-df-container {\n",
              "      display:flex;\n",
              "      flex-wrap:wrap;\n",
              "      gap: 12px;\n",
              "    }\n",
              "\n",
              "    .colab-df-convert {\n",
              "      background-color: #E8F0FE;\n",
              "      border: none;\n",
              "      border-radius: 50%;\n",
              "      cursor: pointer;\n",
              "      display: none;\n",
              "      fill: #1967D2;\n",
              "      height: 32px;\n",
              "      padding: 0 0 0 0;\n",
              "      width: 32px;\n",
              "    }\n",
              "\n",
              "    .colab-df-convert:hover {\n",
              "      background-color: #E2EBFA;\n",
              "      box-shadow: 0px 1px 2px rgba(60, 64, 67, 0.3), 0px 1px 3px 1px rgba(60, 64, 67, 0.15);\n",
              "      fill: #174EA6;\n",
              "    }\n",
              "\n",
              "    [theme=dark] .colab-df-convert {\n",
              "      background-color: #3B4455;\n",
              "      fill: #D2E3FC;\n",
              "    }\n",
              "\n",
              "    [theme=dark] .colab-df-convert:hover {\n",
              "      background-color: #434B5C;\n",
              "      box-shadow: 0px 1px 3px 1px rgba(0, 0, 0, 0.15);\n",
              "      filter: drop-shadow(0px 1px 2px rgba(0, 0, 0, 0.3));\n",
              "      fill: #FFFFFF;\n",
              "    }\n",
              "  </style>\n",
              "\n",
              "      <script>\n",
              "        const buttonEl =\n",
              "          document.querySelector('#df-93cf5183-5001-4303-8734-bab61805c47a button.colab-df-convert');\n",
              "        buttonEl.style.display =\n",
              "          google.colab.kernel.accessAllowed ? 'block' : 'none';\n",
              "\n",
              "        async function convertToInteractive(key) {\n",
              "          const element = document.querySelector('#df-93cf5183-5001-4303-8734-bab61805c47a');\n",
              "          const dataTable =\n",
              "            await google.colab.kernel.invokeFunction('convertToInteractive',\n",
              "                                                     [key], {});\n",
              "          if (!dataTable) return;\n",
              "\n",
              "          const docLinkHtml = 'Like what you see? Visit the ' +\n",
              "            '<a target=\"_blank\" href=https://colab.research.google.com/notebooks/data_table.ipynb>data table notebook</a>'\n",
              "            + ' to learn more about interactive tables.';\n",
              "          element.innerHTML = '';\n",
              "          dataTable['output_type'] = 'display_data';\n",
              "          await google.colab.output.renderOutput(dataTable, element);\n",
              "          const docLink = document.createElement('div');\n",
              "          docLink.innerHTML = docLinkHtml;\n",
              "          element.appendChild(docLink);\n",
              "        }\n",
              "      </script>\n",
              "    </div>\n",
              "  </div>\n",
              "  "
            ]
          },
          "metadata": {},
          "execution_count": 7
        }
      ]
    },
    {
      "cell_type": "markdown",
      "source": [
        "> Data yang telah dibersihkan akan disimpan ke dalam file JSON, yang nantinya akan dilakukan modifikasi penambahan pertanyaan untuk digunakan pada klasifikasi konteks pertanyaan."
      ],
      "metadata": {
        "id": "0B1i-ohfEFD4"
      },
      "id": "0B1i-ohfEFD4"
    },
    {
      "cell_type": "code",
      "source": [
        "json_text = df_text.to_json('/content/drive/MyDrive/Colab Notebooks/PA/CleanTourismSample.JSON',orient=\"index\")"
      ],
      "metadata": {
        "id": "OtQZJbv_DDWq"
      },
      "id": "OtQZJbv_DDWq",
      "execution_count": null,
      "outputs": []
    },
    {
      "cell_type": "markdown",
      "source": [
        "# Import Data Bersih"
      ],
      "metadata": {
        "id": "ML79sJ3YY1Me"
      },
      "id": "ML79sJ3YY1Me"
    },
    {
      "cell_type": "code",
      "source": [
        "data_json = pd.read_json('/content/drive/MyDrive/Colab Notebooks/PA/CleanTourismSample.JSON')"
      ],
      "metadata": {
        "id": "f50F6yYPY2Zw"
      },
      "id": "f50F6yYPY2Zw",
      "execution_count": null,
      "outputs": []
    },
    {
      "cell_type": "markdown",
      "source": [
        "> Data bersih tersebut akan dikelompokkan ke dalam dictionary untuk dibentukan dataframenya."
      ],
      "metadata": {
        "id": "PUYwYNI2EQNm"
      },
      "id": "PUYwYNI2EQNm"
    },
    {
      "cell_type": "code",
      "source": [
        "Description = []\n",
        "Pertanyaan = []\n",
        "Jawaban_Text = []\n",
        "Jawaban_Akurat = []\n",
        "Place_Name = []\n",
        "Place_Id = []\n",
        "Price = []\n",
        "Average_Rating = []\n",
        "\n",
        "for data in data_json.data:\n",
        "    for i in range(len(data['Pertanyaan'])):\n",
        "        Place_Id.append(data['Place_Id'])\n",
        "        Place_Name.append(data['Place_Name'])\n",
        "        Price.append(data['Price'])\n",
        "        Average_Rating.append(data['Rating'])\n",
        "        Description.append(data['Description'])\n",
        "        Pertanyaan.append(data['Pertanyaan'][i]['text'])\n",
        "        Jawaban_Text.append(data['Jawaban'][i]['jawaban_text'])\n",
        "        Jawaban_Akurat.append(data['Jawaban'][i]['jawaban_akurat'])\n",
        "\n",
        "\n",
        "data_QAS2 = pd.DataFrame({\n",
        "    \"Place_Id\":Place_Id,\n",
        "    \"Place_Name\":Place_Name,\n",
        "    \"Price\":Price,\n",
        "    \"Average_Rating\":Average_Rating,\n",
        "    \"Description\":Description,\n",
        "    \"Pertanyaan\":Pertanyaan,\n",
        "    \"Jawaban_Text\":Jawaban_Text,\n",
        "    \"Jawaban_Akurat\":Jawaban_Akurat\n",
        "})\n",
        "\n",
        "data_QAS2.to_csv('/content/drive/MyDrive/Colab Notebooks/PA/data_QAS2.csv')"
      ],
      "metadata": {
        "id": "Iduv8XcFZDC5"
      },
      "id": "Iduv8XcFZDC5",
      "execution_count": null,
      "outputs": []
    },
    {
      "cell_type": "markdown",
      "metadata": {
        "id": "Y1HkCIvweKB4"
      },
      "source": [
        "# Read Json"
      ],
      "id": "Y1HkCIvweKB4"
    },
    {
      "cell_type": "code",
      "execution_count": null,
      "metadata": {
        "colab": {
          "base_uri": "https://localhost:8080/",
          "height": 337
        },
        "id": "87f18dbd",
        "outputId": "6392febd-fa69-4b16-fb00-7b7da7191d52"
      },
      "outputs": [
        {
          "output_type": "execute_result",
          "data": {
            "text/plain": [
              "   Place_Id        Place_Name    Price  Average_Rating  \\\n",
              "0         1  monumen nasional  20000.0             4.6   \n",
              "1         1  monumen nasional  20000.0             4.6   \n",
              "2         1  monumen nasional  20000.0             4.6   \n",
              "3         1  monumen nasional  20000.0             4.6   \n",
              "4         2          kota tua      0.0             4.6   \n",
              "\n",
              "                                         Description  \\\n",
              "0  monumen nasional atau yang populer disingkat d...   \n",
              "1  monumen nasional atau yang populer disingkat d...   \n",
              "2  monumen nasional atau yang populer disingkat d...   \n",
              "3  monumen nasional atau yang populer disingkat d...   \n",
              "4  kota tua di jakarta, yang juga bernama kota tu...   \n",
              "\n",
              "                             Pertanyaan  \\\n",
              "0              Apa itu monumen nasional   \n",
              "1        Dimana monumen nasional berada   \n",
              "2   Siapa yang membuat monumen nasional   \n",
              "3  Tahun berapa monumen nasional dibuat   \n",
              "4                      Apa itu kota tua   \n",
              "\n",
              "                                        Jawaban_Text  \\\n",
              "0  monumen nasional atau yang populer disingkat d...   \n",
              "1  tugu ini dimahkotai lidah api yang dilapisi le...   \n",
              "2  pembangunan monumen ini dimulai pada tanggal 1...   \n",
              "3  pembangunan monumen ini dimulai pada tanggal 1...   \n",
              "4  kota tua di jakarta, yang juga bernama kota tu...   \n",
              "\n",
              "                                      Jawaban_Akurat  \n",
              "0  monumen nasional atau yang populer disingkat d...  \n",
              "1   di tengah lapangan medan merdeka, jakarta pusat.  \n",
              "2                                  presiden soekarno  \n",
              "3                            tanggal 17 agustus 1961  \n",
              "4  kota tua di jakarta, yang juga bernama kota tu...  "
            ],
            "text/html": [
              "\n",
              "  <div id=\"df-4de35059-2e4f-4eae-aff3-afc919542c6f\">\n",
              "    <div class=\"colab-df-container\">\n",
              "      <div>\n",
              "<style scoped>\n",
              "    .dataframe tbody tr th:only-of-type {\n",
              "        vertical-align: middle;\n",
              "    }\n",
              "\n",
              "    .dataframe tbody tr th {\n",
              "        vertical-align: top;\n",
              "    }\n",
              "\n",
              "    .dataframe thead th {\n",
              "        text-align: right;\n",
              "    }\n",
              "</style>\n",
              "<table border=\"1\" class=\"dataframe\">\n",
              "  <thead>\n",
              "    <tr style=\"text-align: right;\">\n",
              "      <th></th>\n",
              "      <th>Place_Id</th>\n",
              "      <th>Place_Name</th>\n",
              "      <th>Price</th>\n",
              "      <th>Average_Rating</th>\n",
              "      <th>Description</th>\n",
              "      <th>Pertanyaan</th>\n",
              "      <th>Jawaban_Text</th>\n",
              "      <th>Jawaban_Akurat</th>\n",
              "    </tr>\n",
              "  </thead>\n",
              "  <tbody>\n",
              "    <tr>\n",
              "      <th>0</th>\n",
              "      <td>1</td>\n",
              "      <td>monumen nasional</td>\n",
              "      <td>20000.0</td>\n",
              "      <td>4.6</td>\n",
              "      <td>monumen nasional atau yang populer disingkat d...</td>\n",
              "      <td>Apa itu monumen nasional</td>\n",
              "      <td>monumen nasional atau yang populer disingkat d...</td>\n",
              "      <td>monumen nasional atau yang populer disingkat d...</td>\n",
              "    </tr>\n",
              "    <tr>\n",
              "      <th>1</th>\n",
              "      <td>1</td>\n",
              "      <td>monumen nasional</td>\n",
              "      <td>20000.0</td>\n",
              "      <td>4.6</td>\n",
              "      <td>monumen nasional atau yang populer disingkat d...</td>\n",
              "      <td>Dimana monumen nasional berada</td>\n",
              "      <td>tugu ini dimahkotai lidah api yang dilapisi le...</td>\n",
              "      <td>di tengah lapangan medan merdeka, jakarta pusat.</td>\n",
              "    </tr>\n",
              "    <tr>\n",
              "      <th>2</th>\n",
              "      <td>1</td>\n",
              "      <td>monumen nasional</td>\n",
              "      <td>20000.0</td>\n",
              "      <td>4.6</td>\n",
              "      <td>monumen nasional atau yang populer disingkat d...</td>\n",
              "      <td>Siapa yang membuat monumen nasional</td>\n",
              "      <td>pembangunan monumen ini dimulai pada tanggal 1...</td>\n",
              "      <td>presiden soekarno</td>\n",
              "    </tr>\n",
              "    <tr>\n",
              "      <th>3</th>\n",
              "      <td>1</td>\n",
              "      <td>monumen nasional</td>\n",
              "      <td>20000.0</td>\n",
              "      <td>4.6</td>\n",
              "      <td>monumen nasional atau yang populer disingkat d...</td>\n",
              "      <td>Tahun berapa monumen nasional dibuat</td>\n",
              "      <td>pembangunan monumen ini dimulai pada tanggal 1...</td>\n",
              "      <td>tanggal 17 agustus 1961</td>\n",
              "    </tr>\n",
              "    <tr>\n",
              "      <th>4</th>\n",
              "      <td>2</td>\n",
              "      <td>kota tua</td>\n",
              "      <td>0.0</td>\n",
              "      <td>4.6</td>\n",
              "      <td>kota tua di jakarta, yang juga bernama kota tu...</td>\n",
              "      <td>Apa itu kota tua</td>\n",
              "      <td>kota tua di jakarta, yang juga bernama kota tu...</td>\n",
              "      <td>kota tua di jakarta, yang juga bernama kota tu...</td>\n",
              "    </tr>\n",
              "  </tbody>\n",
              "</table>\n",
              "</div>\n",
              "      <button class=\"colab-df-convert\" onclick=\"convertToInteractive('df-4de35059-2e4f-4eae-aff3-afc919542c6f')\"\n",
              "              title=\"Convert this dataframe to an interactive table.\"\n",
              "              style=\"display:none;\">\n",
              "        \n",
              "  <svg xmlns=\"http://www.w3.org/2000/svg\" height=\"24px\"viewBox=\"0 0 24 24\"\n",
              "       width=\"24px\">\n",
              "    <path d=\"M0 0h24v24H0V0z\" fill=\"none\"/>\n",
              "    <path d=\"M18.56 5.44l.94 2.06.94-2.06 2.06-.94-2.06-.94-.94-2.06-.94 2.06-2.06.94zm-11 1L8.5 8.5l.94-2.06 2.06-.94-2.06-.94L8.5 2.5l-.94 2.06-2.06.94zm10 10l.94 2.06.94-2.06 2.06-.94-2.06-.94-.94-2.06-.94 2.06-2.06.94z\"/><path d=\"M17.41 7.96l-1.37-1.37c-.4-.4-.92-.59-1.43-.59-.52 0-1.04.2-1.43.59L10.3 9.45l-7.72 7.72c-.78.78-.78 2.05 0 2.83L4 21.41c.39.39.9.59 1.41.59.51 0 1.02-.2 1.41-.59l7.78-7.78 2.81-2.81c.8-.78.8-2.07 0-2.86zM5.41 20L4 18.59l7.72-7.72 1.47 1.35L5.41 20z\"/>\n",
              "  </svg>\n",
              "      </button>\n",
              "      \n",
              "  <style>\n",
              "    .colab-df-container {\n",
              "      display:flex;\n",
              "      flex-wrap:wrap;\n",
              "      gap: 12px;\n",
              "    }\n",
              "\n",
              "    .colab-df-convert {\n",
              "      background-color: #E8F0FE;\n",
              "      border: none;\n",
              "      border-radius: 50%;\n",
              "      cursor: pointer;\n",
              "      display: none;\n",
              "      fill: #1967D2;\n",
              "      height: 32px;\n",
              "      padding: 0 0 0 0;\n",
              "      width: 32px;\n",
              "    }\n",
              "\n",
              "    .colab-df-convert:hover {\n",
              "      background-color: #E2EBFA;\n",
              "      box-shadow: 0px 1px 2px rgba(60, 64, 67, 0.3), 0px 1px 3px 1px rgba(60, 64, 67, 0.15);\n",
              "      fill: #174EA6;\n",
              "    }\n",
              "\n",
              "    [theme=dark] .colab-df-convert {\n",
              "      background-color: #3B4455;\n",
              "      fill: #D2E3FC;\n",
              "    }\n",
              "\n",
              "    [theme=dark] .colab-df-convert:hover {\n",
              "      background-color: #434B5C;\n",
              "      box-shadow: 0px 1px 3px 1px rgba(0, 0, 0, 0.15);\n",
              "      filter: drop-shadow(0px 1px 2px rgba(0, 0, 0, 0.3));\n",
              "      fill: #FFFFFF;\n",
              "    }\n",
              "  </style>\n",
              "\n",
              "      <script>\n",
              "        const buttonEl =\n",
              "          document.querySelector('#df-4de35059-2e4f-4eae-aff3-afc919542c6f button.colab-df-convert');\n",
              "        buttonEl.style.display =\n",
              "          google.colab.kernel.accessAllowed ? 'block' : 'none';\n",
              "\n",
              "        async function convertToInteractive(key) {\n",
              "          const element = document.querySelector('#df-4de35059-2e4f-4eae-aff3-afc919542c6f');\n",
              "          const dataTable =\n",
              "            await google.colab.kernel.invokeFunction('convertToInteractive',\n",
              "                                                     [key], {});\n",
              "          if (!dataTable) return;\n",
              "\n",
              "          const docLinkHtml = 'Like what you see? Visit the ' +\n",
              "            '<a target=\"_blank\" href=https://colab.research.google.com/notebooks/data_table.ipynb>data table notebook</a>'\n",
              "            + ' to learn more about interactive tables.';\n",
              "          element.innerHTML = '';\n",
              "          dataTable['output_type'] = 'display_data';\n",
              "          await google.colab.output.renderOutput(dataTable, element);\n",
              "          const docLink = document.createElement('div');\n",
              "          docLink.innerHTML = docLinkHtml;\n",
              "          element.appendChild(docLink);\n",
              "        }\n",
              "      </script>\n",
              "    </div>\n",
              "  </div>\n",
              "  "
            ]
          },
          "metadata": {},
          "execution_count": 11
        }
      ],
      "source": [
        "data_QAS2 = pd.read_csv(\"/content/drive/MyDrive/Colab Notebooks/PA/data_QAS2.csv\")\n",
        "data_QAS2.drop(['Unnamed: 0'],axis=1,inplace=True)\n",
        "data_QAS2.head()"
      ],
      "id": "87f18dbd"
    },
    {
      "cell_type": "markdown",
      "metadata": {
        "id": "D2w91uHB6E4z"
      },
      "source": [
        "# Data Untuk Training Model Bert"
      ],
      "id": "D2w91uHB6E4z"
    },
    {
      "cell_type": "markdown",
      "source": [
        "> Pengambilan data dari SQuAD yang telah ditranslasikan ke bahasa Indonesia"
      ],
      "metadata": {
        "id": "Nm6XEfmk_IRg"
      },
      "id": "Nm6XEfmk_IRg"
    },
    {
      "cell_type": "code",
      "execution_count": null,
      "metadata": {
        "colab": {
          "base_uri": "https://localhost:8080/"
        },
        "id": "ef5TxSN99VgZ",
        "outputId": "cfda67ae-99c9-43f4-d962-8489405aa323"
      },
      "outputs": [
        {
          "output_type": "stream",
          "name": "stdout",
          "text": [
            "--2022-06-12 05:43:19--  https://cloud.depia.wiki/squad/train-v2.0.json\n",
            "Resolving cloud.depia.wiki (cloud.depia.wiki)... 162.55.245.197\n",
            "Connecting to cloud.depia.wiki (cloud.depia.wiki)|162.55.245.197|:443... connected.\n",
            "HTTP request sent, awaiting response... 200 OK\n",
            "Length: 87558609 (84M) [application/json]\n",
            "Saving to: ‘train-v2.0.json’\n",
            "\n",
            "train-v2.0.json     100%[===================>]  83.50M  26.4MB/s    in 3.6s    \n",
            "\n",
            "2022-06-12 05:43:23 (23.5 MB/s) - ‘train-v2.0.json’ saved [87558609/87558609]\n",
            "\n",
            "--2022-06-12 05:43:23--  https://raw.githubusercontent.com/Wikidepia/SQuAD-id/master/data/train-SQuAD-id.json\n",
            "Resolving raw.githubusercontent.com (raw.githubusercontent.com)... 185.199.108.133, 185.199.109.133, 185.199.110.133, ...\n",
            "Connecting to raw.githubusercontent.com (raw.githubusercontent.com)|185.199.108.133|:443... connected.\n",
            "HTTP request sent, awaiting response... 200 OK\n",
            "Length: 37852227 (36M) [text/plain]\n",
            "Saving to: ‘train-SQuAD-id.json’\n",
            "\n",
            "train-SQuAD-id.json 100%[===================>]  36.10M   193MB/s    in 0.2s    \n",
            "\n",
            "2022-06-12 05:43:24 (193 MB/s) - ‘train-SQuAD-id.json’ saved [37852227/37852227]\n",
            "\n"
          ]
        }
      ],
      "source": [
        "!wget \"https://cloud.depia.wiki/squad/train-v2.0.json\"\n",
        "!wget \"https://raw.githubusercontent.com/Wikidepia/SQuAD-id/master/data/train-SQuAD-id.json\""
      ],
      "id": "ef5TxSN99VgZ"
    },
    {
      "cell_type": "code",
      "execution_count": null,
      "metadata": {
        "colab": {
          "base_uri": "https://localhost:8080/",
          "height": 206
        },
        "id": "p6-7fW026HDY",
        "outputId": "58e4338e-1a65-49be-8abd-892d1133172b"
      },
      "outputs": [
        {
          "output_type": "execute_result",
          "data": {
            "text/plain": [
              "  version                                               data\n",
              "0    v2.0  {'title': 'Beyoncé', 'paragraphs': [{'qas': [{...\n",
              "1    v2.0  {'title': 'Frédéric_Chopin', 'paragraphs': [{'...\n",
              "2    v2.0  {'title': 'Sino-Tibetan_relations_during_the_M...\n",
              "3    v2.0  {'title': 'IPod', 'paragraphs': [{'qas': [{'qu...\n",
              "4    v2.0  {'title': 'The_Legend_of_Zelda:_Twilight_Princ..."
            ],
            "text/html": [
              "\n",
              "  <div id=\"df-15ff9466-3b3f-4ddb-9908-34814bd32bf9\">\n",
              "    <div class=\"colab-df-container\">\n",
              "      <div>\n",
              "<style scoped>\n",
              "    .dataframe tbody tr th:only-of-type {\n",
              "        vertical-align: middle;\n",
              "    }\n",
              "\n",
              "    .dataframe tbody tr th {\n",
              "        vertical-align: top;\n",
              "    }\n",
              "\n",
              "    .dataframe thead th {\n",
              "        text-align: right;\n",
              "    }\n",
              "</style>\n",
              "<table border=\"1\" class=\"dataframe\">\n",
              "  <thead>\n",
              "    <tr style=\"text-align: right;\">\n",
              "      <th></th>\n",
              "      <th>version</th>\n",
              "      <th>data</th>\n",
              "    </tr>\n",
              "  </thead>\n",
              "  <tbody>\n",
              "    <tr>\n",
              "      <th>0</th>\n",
              "      <td>v2.0</td>\n",
              "      <td>{'title': 'Beyoncé', 'paragraphs': [{'qas': [{...</td>\n",
              "    </tr>\n",
              "    <tr>\n",
              "      <th>1</th>\n",
              "      <td>v2.0</td>\n",
              "      <td>{'title': 'Frédéric_Chopin', 'paragraphs': [{'...</td>\n",
              "    </tr>\n",
              "    <tr>\n",
              "      <th>2</th>\n",
              "      <td>v2.0</td>\n",
              "      <td>{'title': 'Sino-Tibetan_relations_during_the_M...</td>\n",
              "    </tr>\n",
              "    <tr>\n",
              "      <th>3</th>\n",
              "      <td>v2.0</td>\n",
              "      <td>{'title': 'IPod', 'paragraphs': [{'qas': [{'qu...</td>\n",
              "    </tr>\n",
              "    <tr>\n",
              "      <th>4</th>\n",
              "      <td>v2.0</td>\n",
              "      <td>{'title': 'The_Legend_of_Zelda:_Twilight_Princ...</td>\n",
              "    </tr>\n",
              "  </tbody>\n",
              "</table>\n",
              "</div>\n",
              "      <button class=\"colab-df-convert\" onclick=\"convertToInteractive('df-15ff9466-3b3f-4ddb-9908-34814bd32bf9')\"\n",
              "              title=\"Convert this dataframe to an interactive table.\"\n",
              "              style=\"display:none;\">\n",
              "        \n",
              "  <svg xmlns=\"http://www.w3.org/2000/svg\" height=\"24px\"viewBox=\"0 0 24 24\"\n",
              "       width=\"24px\">\n",
              "    <path d=\"M0 0h24v24H0V0z\" fill=\"none\"/>\n",
              "    <path d=\"M18.56 5.44l.94 2.06.94-2.06 2.06-.94-2.06-.94-.94-2.06-.94 2.06-2.06.94zm-11 1L8.5 8.5l.94-2.06 2.06-.94-2.06-.94L8.5 2.5l-.94 2.06-2.06.94zm10 10l.94 2.06.94-2.06 2.06-.94-2.06-.94-.94-2.06-.94 2.06-2.06.94z\"/><path d=\"M17.41 7.96l-1.37-1.37c-.4-.4-.92-.59-1.43-.59-.52 0-1.04.2-1.43.59L10.3 9.45l-7.72 7.72c-.78.78-.78 2.05 0 2.83L4 21.41c.39.39.9.59 1.41.59.51 0 1.02-.2 1.41-.59l7.78-7.78 2.81-2.81c.8-.78.8-2.07 0-2.86zM5.41 20L4 18.59l7.72-7.72 1.47 1.35L5.41 20z\"/>\n",
              "  </svg>\n",
              "      </button>\n",
              "      \n",
              "  <style>\n",
              "    .colab-df-container {\n",
              "      display:flex;\n",
              "      flex-wrap:wrap;\n",
              "      gap: 12px;\n",
              "    }\n",
              "\n",
              "    .colab-df-convert {\n",
              "      background-color: #E8F0FE;\n",
              "      border: none;\n",
              "      border-radius: 50%;\n",
              "      cursor: pointer;\n",
              "      display: none;\n",
              "      fill: #1967D2;\n",
              "      height: 32px;\n",
              "      padding: 0 0 0 0;\n",
              "      width: 32px;\n",
              "    }\n",
              "\n",
              "    .colab-df-convert:hover {\n",
              "      background-color: #E2EBFA;\n",
              "      box-shadow: 0px 1px 2px rgba(60, 64, 67, 0.3), 0px 1px 3px 1px rgba(60, 64, 67, 0.15);\n",
              "      fill: #174EA6;\n",
              "    }\n",
              "\n",
              "    [theme=dark] .colab-df-convert {\n",
              "      background-color: #3B4455;\n",
              "      fill: #D2E3FC;\n",
              "    }\n",
              "\n",
              "    [theme=dark] .colab-df-convert:hover {\n",
              "      background-color: #434B5C;\n",
              "      box-shadow: 0px 1px 3px 1px rgba(0, 0, 0, 0.15);\n",
              "      filter: drop-shadow(0px 1px 2px rgba(0, 0, 0, 0.3));\n",
              "      fill: #FFFFFF;\n",
              "    }\n",
              "  </style>\n",
              "\n",
              "      <script>\n",
              "        const buttonEl =\n",
              "          document.querySelector('#df-15ff9466-3b3f-4ddb-9908-34814bd32bf9 button.colab-df-convert');\n",
              "        buttonEl.style.display =\n",
              "          google.colab.kernel.accessAllowed ? 'block' : 'none';\n",
              "\n",
              "        async function convertToInteractive(key) {\n",
              "          const element = document.querySelector('#df-15ff9466-3b3f-4ddb-9908-34814bd32bf9');\n",
              "          const dataTable =\n",
              "            await google.colab.kernel.invokeFunction('convertToInteractive',\n",
              "                                                     [key], {});\n",
              "          if (!dataTable) return;\n",
              "\n",
              "          const docLinkHtml = 'Like what you see? Visit the ' +\n",
              "            '<a target=\"_blank\" href=https://colab.research.google.com/notebooks/data_table.ipynb>data table notebook</a>'\n",
              "            + ' to learn more about interactive tables.';\n",
              "          element.innerHTML = '';\n",
              "          dataTable['output_type'] = 'display_data';\n",
              "          await google.colab.output.renderOutput(dataTable, element);\n",
              "          const docLink = document.createElement('div');\n",
              "          docLink.innerHTML = docLinkHtml;\n",
              "          element.appendChild(docLink);\n",
              "        }\n",
              "      </script>\n",
              "    </div>\n",
              "  </div>\n",
              "  "
            ]
          },
          "metadata": {},
          "execution_count": 13
        }
      ],
      "source": [
        "\"\"\" \n",
        "  Refensi: \n",
        "  https://github.com/Wikidepia/indonesian_datasets/tree/master/question-answering/squad\n",
        "\"\"\"\n",
        "\"\"\"\n",
        "dataset = pd.read_json(\"https://cloud.depia.wiki/squad/train-v2.0.json\",\n",
        "             orient='records', dtype='dict')\n",
        "\"\"\"\n",
        "dataset = pd.read_json(\"https://raw.githubusercontent.com/Wikidepia/SQuAD-id/master/data/train-SQuAD-id.json\",\n",
        "             orient='records', dtype='dict')\n",
        "dataset.head()"
      ],
      "id": "p6-7fW026HDY"
    },
    {
      "cell_type": "markdown",
      "source": [
        "> Pembacaan data SQuAD yang berbentuk json"
      ],
      "metadata": {
        "id": "zkwDXDQs_Qx1"
      },
      "id": "zkwDXDQs_Qx1"
    },
    {
      "cell_type": "code",
      "execution_count": null,
      "metadata": {
        "id": "yUzI2ApW77X6"
      },
      "outputs": [],
      "source": [
        "\"\"\"\n",
        "  Data Training model BERT\n",
        "\"\"\"\n",
        "import json\n",
        "\n",
        "\n",
        "with open(\"/content/train-SQuAD-id.json\", 'r') as f:\n",
        "    train_data = json.load(f)\n",
        "\n",
        "train_data = [item for topic in train_data['data'] for item in topic['paragraphs']]"
      ],
      "id": "yUzI2ApW77X6"
    },
    {
      "cell_type": "markdown",
      "source": [
        "> Import data tourism untuk kebutuhan klasifikasi konteks"
      ],
      "metadata": {
        "id": "lyeqfCGv_W1M"
      },
      "id": "lyeqfCGv_W1M"
    },
    {
      "cell_type": "code",
      "source": [
        "textContext = pd.read_csv(\"/content/drive/MyDrive/Colab Notebooks/PA/Tourism.csv\")\n",
        "textContext.head()"
      ],
      "metadata": {
        "colab": {
          "base_uri": "https://localhost:8080/",
          "height": 372
        },
        "id": "k3s0mMiHyuTs",
        "outputId": "a2a120b3-46f5-4340-d791-2bfe1e3dc75e"
      },
      "id": "k3s0mMiHyuTs",
      "execution_count": null,
      "outputs": [
        {
          "output_type": "execute_result",
          "data": {
            "text/plain": [
              "   Unnamed: 0  Place_Id                         Place_Name  \\\n",
              "0           0         1                   Monumen Nasional   \n",
              "1           1         2                           Kota Tua   \n",
              "2           2         3                      Dunia Fantasi   \n",
              "3           3         4  Taman Mini Indonesia Indah (TMII)   \n",
              "4           4         5           Atlantis Water Adventure   \n",
              "\n",
              "                                         Description       Category     City  \\\n",
              "0  Monumen Nasional atau yang populer disingkat d...         Budaya  Jakarta   \n",
              "1  Kota tua di Jakarta, yang juga bernama Kota Tu...         Budaya  Jakarta   \n",
              "2  Dunia Fantasi atau disebut juga Dufan adalah t...  Taman Hiburan  Jakarta   \n",
              "3  Taman Mini Indonesia Indah merupakan suatu kaw...  Taman Hiburan  Jakarta   \n",
              "4  Atlantis Water Adventure atau dikenal dengan A...  Taman Hiburan  Jakarta   \n",
              "\n",
              "      Price  Rating  Time_Minutes  \\\n",
              "0   20000.0     4.6          15.0   \n",
              "1       0.0     4.6          90.0   \n",
              "2  270000.0     4.6         360.0   \n",
              "3   10000.0     4.5           NaN   \n",
              "4   94000.0     4.5          60.0   \n",
              "\n",
              "                                        Coordinate       Lat        Long  \n",
              "0          {'lat': -6.1753924, 'lng': 106.8271528} -6.175392  106.827153  \n",
              "1  {'lat': -6.137644799999999, 'lng': 106.8171245} -6.137645  106.817125  \n",
              "2  {'lat': -6.125312399999999, 'lng': 106.8335377} -6.125312  106.833538  \n",
              "3  {'lat': -6.302445899999999, 'lng': 106.8951559} -6.302446  106.895156  \n",
              "4             {'lat': -6.12419, 'lng': 106.839134} -6.124190  106.839134  "
            ],
            "text/html": [
              "\n",
              "  <div id=\"df-0f7d05b5-c057-4c6f-b7a7-9e78fd4ca198\">\n",
              "    <div class=\"colab-df-container\">\n",
              "      <div>\n",
              "<style scoped>\n",
              "    .dataframe tbody tr th:only-of-type {\n",
              "        vertical-align: middle;\n",
              "    }\n",
              "\n",
              "    .dataframe tbody tr th {\n",
              "        vertical-align: top;\n",
              "    }\n",
              "\n",
              "    .dataframe thead th {\n",
              "        text-align: right;\n",
              "    }\n",
              "</style>\n",
              "<table border=\"1\" class=\"dataframe\">\n",
              "  <thead>\n",
              "    <tr style=\"text-align: right;\">\n",
              "      <th></th>\n",
              "      <th>Unnamed: 0</th>\n",
              "      <th>Place_Id</th>\n",
              "      <th>Place_Name</th>\n",
              "      <th>Description</th>\n",
              "      <th>Category</th>\n",
              "      <th>City</th>\n",
              "      <th>Price</th>\n",
              "      <th>Rating</th>\n",
              "      <th>Time_Minutes</th>\n",
              "      <th>Coordinate</th>\n",
              "      <th>Lat</th>\n",
              "      <th>Long</th>\n",
              "    </tr>\n",
              "  </thead>\n",
              "  <tbody>\n",
              "    <tr>\n",
              "      <th>0</th>\n",
              "      <td>0</td>\n",
              "      <td>1</td>\n",
              "      <td>Monumen Nasional</td>\n",
              "      <td>Monumen Nasional atau yang populer disingkat d...</td>\n",
              "      <td>Budaya</td>\n",
              "      <td>Jakarta</td>\n",
              "      <td>20000.0</td>\n",
              "      <td>4.6</td>\n",
              "      <td>15.0</td>\n",
              "      <td>{'lat': -6.1753924, 'lng': 106.8271528}</td>\n",
              "      <td>-6.175392</td>\n",
              "      <td>106.827153</td>\n",
              "    </tr>\n",
              "    <tr>\n",
              "      <th>1</th>\n",
              "      <td>1</td>\n",
              "      <td>2</td>\n",
              "      <td>Kota Tua</td>\n",
              "      <td>Kota tua di Jakarta, yang juga bernama Kota Tu...</td>\n",
              "      <td>Budaya</td>\n",
              "      <td>Jakarta</td>\n",
              "      <td>0.0</td>\n",
              "      <td>4.6</td>\n",
              "      <td>90.0</td>\n",
              "      <td>{'lat': -6.137644799999999, 'lng': 106.8171245}</td>\n",
              "      <td>-6.137645</td>\n",
              "      <td>106.817125</td>\n",
              "    </tr>\n",
              "    <tr>\n",
              "      <th>2</th>\n",
              "      <td>2</td>\n",
              "      <td>3</td>\n",
              "      <td>Dunia Fantasi</td>\n",
              "      <td>Dunia Fantasi atau disebut juga Dufan adalah t...</td>\n",
              "      <td>Taman Hiburan</td>\n",
              "      <td>Jakarta</td>\n",
              "      <td>270000.0</td>\n",
              "      <td>4.6</td>\n",
              "      <td>360.0</td>\n",
              "      <td>{'lat': -6.125312399999999, 'lng': 106.8335377}</td>\n",
              "      <td>-6.125312</td>\n",
              "      <td>106.833538</td>\n",
              "    </tr>\n",
              "    <tr>\n",
              "      <th>3</th>\n",
              "      <td>3</td>\n",
              "      <td>4</td>\n",
              "      <td>Taman Mini Indonesia Indah (TMII)</td>\n",
              "      <td>Taman Mini Indonesia Indah merupakan suatu kaw...</td>\n",
              "      <td>Taman Hiburan</td>\n",
              "      <td>Jakarta</td>\n",
              "      <td>10000.0</td>\n",
              "      <td>4.5</td>\n",
              "      <td>NaN</td>\n",
              "      <td>{'lat': -6.302445899999999, 'lng': 106.8951559}</td>\n",
              "      <td>-6.302446</td>\n",
              "      <td>106.895156</td>\n",
              "    </tr>\n",
              "    <tr>\n",
              "      <th>4</th>\n",
              "      <td>4</td>\n",
              "      <td>5</td>\n",
              "      <td>Atlantis Water Adventure</td>\n",
              "      <td>Atlantis Water Adventure atau dikenal dengan A...</td>\n",
              "      <td>Taman Hiburan</td>\n",
              "      <td>Jakarta</td>\n",
              "      <td>94000.0</td>\n",
              "      <td>4.5</td>\n",
              "      <td>60.0</td>\n",
              "      <td>{'lat': -6.12419, 'lng': 106.839134}</td>\n",
              "      <td>-6.124190</td>\n",
              "      <td>106.839134</td>\n",
              "    </tr>\n",
              "  </tbody>\n",
              "</table>\n",
              "</div>\n",
              "      <button class=\"colab-df-convert\" onclick=\"convertToInteractive('df-0f7d05b5-c057-4c6f-b7a7-9e78fd4ca198')\"\n",
              "              title=\"Convert this dataframe to an interactive table.\"\n",
              "              style=\"display:none;\">\n",
              "        \n",
              "  <svg xmlns=\"http://www.w3.org/2000/svg\" height=\"24px\"viewBox=\"0 0 24 24\"\n",
              "       width=\"24px\">\n",
              "    <path d=\"M0 0h24v24H0V0z\" fill=\"none\"/>\n",
              "    <path d=\"M18.56 5.44l.94 2.06.94-2.06 2.06-.94-2.06-.94-.94-2.06-.94 2.06-2.06.94zm-11 1L8.5 8.5l.94-2.06 2.06-.94-2.06-.94L8.5 2.5l-.94 2.06-2.06.94zm10 10l.94 2.06.94-2.06 2.06-.94-2.06-.94-.94-2.06-.94 2.06-2.06.94z\"/><path d=\"M17.41 7.96l-1.37-1.37c-.4-.4-.92-.59-1.43-.59-.52 0-1.04.2-1.43.59L10.3 9.45l-7.72 7.72c-.78.78-.78 2.05 0 2.83L4 21.41c.39.39.9.59 1.41.59.51 0 1.02-.2 1.41-.59l7.78-7.78 2.81-2.81c.8-.78.8-2.07 0-2.86zM5.41 20L4 18.59l7.72-7.72 1.47 1.35L5.41 20z\"/>\n",
              "  </svg>\n",
              "      </button>\n",
              "      \n",
              "  <style>\n",
              "    .colab-df-container {\n",
              "      display:flex;\n",
              "      flex-wrap:wrap;\n",
              "      gap: 12px;\n",
              "    }\n",
              "\n",
              "    .colab-df-convert {\n",
              "      background-color: #E8F0FE;\n",
              "      border: none;\n",
              "      border-radius: 50%;\n",
              "      cursor: pointer;\n",
              "      display: none;\n",
              "      fill: #1967D2;\n",
              "      height: 32px;\n",
              "      padding: 0 0 0 0;\n",
              "      width: 32px;\n",
              "    }\n",
              "\n",
              "    .colab-df-convert:hover {\n",
              "      background-color: #E2EBFA;\n",
              "      box-shadow: 0px 1px 2px rgba(60, 64, 67, 0.3), 0px 1px 3px 1px rgba(60, 64, 67, 0.15);\n",
              "      fill: #174EA6;\n",
              "    }\n",
              "\n",
              "    [theme=dark] .colab-df-convert {\n",
              "      background-color: #3B4455;\n",
              "      fill: #D2E3FC;\n",
              "    }\n",
              "\n",
              "    [theme=dark] .colab-df-convert:hover {\n",
              "      background-color: #434B5C;\n",
              "      box-shadow: 0px 1px 3px 1px rgba(0, 0, 0, 0.15);\n",
              "      filter: drop-shadow(0px 1px 2px rgba(0, 0, 0, 0.3));\n",
              "      fill: #FFFFFF;\n",
              "    }\n",
              "  </style>\n",
              "\n",
              "      <script>\n",
              "        const buttonEl =\n",
              "          document.querySelector('#df-0f7d05b5-c057-4c6f-b7a7-9e78fd4ca198 button.colab-df-convert');\n",
              "        buttonEl.style.display =\n",
              "          google.colab.kernel.accessAllowed ? 'block' : 'none';\n",
              "\n",
              "        async function convertToInteractive(key) {\n",
              "          const element = document.querySelector('#df-0f7d05b5-c057-4c6f-b7a7-9e78fd4ca198');\n",
              "          const dataTable =\n",
              "            await google.colab.kernel.invokeFunction('convertToInteractive',\n",
              "                                                     [key], {});\n",
              "          if (!dataTable) return;\n",
              "\n",
              "          const docLinkHtml = 'Like what you see? Visit the ' +\n",
              "            '<a target=\"_blank\" href=https://colab.research.google.com/notebooks/data_table.ipynb>data table notebook</a>'\n",
              "            + ' to learn more about interactive tables.';\n",
              "          element.innerHTML = '';\n",
              "          dataTable['output_type'] = 'display_data';\n",
              "          await google.colab.output.renderOutput(dataTable, element);\n",
              "          const docLink = document.createElement('div');\n",
              "          docLink.innerHTML = docLinkHtml;\n",
              "          element.appendChild(docLink);\n",
              "        }\n",
              "      </script>\n",
              "    </div>\n",
              "  </div>\n",
              "  "
            ]
          },
          "metadata": {},
          "execution_count": 15
        }
      ]
    },
    {
      "cell_type": "code",
      "source": [
        "textContext.shape"
      ],
      "metadata": {
        "colab": {
          "base_uri": "https://localhost:8080/"
        },
        "id": "aLLuXjYcYqy3",
        "outputId": "32b7f5bc-6f66-41a3-a47a-e7a46ec4df63"
      },
      "id": "aLLuXjYcYqy3",
      "execution_count": null,
      "outputs": [
        {
          "output_type": "execute_result",
          "data": {
            "text/plain": [
              "(437, 12)"
            ]
          },
          "metadata": {},
          "execution_count": 16
        }
      ]
    },
    {
      "cell_type": "markdown",
      "metadata": {
        "id": "b32a1dd8"
      },
      "source": [
        "# BERT-QAS"
      ],
      "id": "b32a1dd8"
    },
    {
      "cell_type": "markdown",
      "source": [
        "> Untuk pelatihan QAS, akan digunakan fine-tuned indo-bert-uncased dengan menggunakan simpletransformers\n",
        "---\n",
        "Referensi: https://simpletransformers.ai/docs/qa-model/"
      ],
      "metadata": {
        "id": "XstWGFep_a45"
      },
      "id": "XstWGFep_a45"
    },
    {
      "cell_type": "code",
      "execution_count": null,
      "metadata": {
        "id": "e86f5bc1",
        "colab": {
          "base_uri": "https://localhost:8080/"
        },
        "outputId": "224f2859-6481-422b-b7d8-7ec4548bfdf8"
      },
      "outputs": [
        {
          "output_type": "stream",
          "name": "stdout",
          "text": [
            "\u001b[K     |████████████████████████████████| 249 kB 5.2 MB/s \n",
            "\u001b[K     |████████████████████████████████| 1.2 MB 70.0 MB/s \n",
            "\u001b[K     |████████████████████████████████| 9.1 MB 22.6 MB/s \n",
            "\u001b[K     |████████████████████████████████| 1.8 MB 49.0 MB/s \n",
            "\u001b[K     |████████████████████████████████| 6.6 MB 46.9 MB/s \n",
            "\u001b[K     |████████████████████████████████| 4.2 MB 58.6 MB/s \n",
            "\u001b[K     |████████████████████████████████| 346 kB 74.2 MB/s \n",
            "\u001b[K     |████████████████████████████████| 43 kB 2.4 MB/s \n",
            "\u001b[K     |████████████████████████████████| 86 kB 6.5 MB/s \n",
            "\u001b[K     |████████████████████████████████| 596 kB 56.3 MB/s \n",
            "\u001b[K     |████████████████████████████████| 145 kB 77.3 MB/s \n",
            "\u001b[K     |████████████████████████████████| 181 kB 68.2 MB/s \n",
            "\u001b[K     |████████████████████████████████| 63 kB 1.8 MB/s \n",
            "\u001b[K     |████████████████████████████████| 86 kB 7.2 MB/s \n",
            "\u001b[K     |████████████████████████████████| 140 kB 69.0 MB/s \n",
            "\u001b[K     |████████████████████████████████| 1.1 MB 63.0 MB/s \n",
            "\u001b[K     |████████████████████████████████| 212 kB 68.4 MB/s \n",
            "\u001b[K     |████████████████████████████████| 127 kB 78.2 MB/s \n",
            "\u001b[K     |████████████████████████████████| 94 kB 3.7 MB/s \n",
            "\u001b[K     |████████████████████████████████| 271 kB 69.9 MB/s \n",
            "\u001b[K     |████████████████████████████████| 144 kB 60.0 MB/s \n",
            "\u001b[K     |████████████████████████████████| 112 kB 75.8 MB/s \n",
            "\u001b[K     |████████████████████████████████| 111 kB 79.3 MB/s \n",
            "\u001b[K     |████████████████████████████████| 232 kB 71.6 MB/s \n",
            "\u001b[K     |████████████████████████████████| 4.3 MB 47.6 MB/s \n",
            "\u001b[K     |████████████████████████████████| 78 kB 8.9 MB/s \n",
            "\u001b[K     |████████████████████████████████| 164 kB 74.9 MB/s \n",
            "\u001b[K     |████████████████████████████████| 133 kB 67.8 MB/s \n",
            "\u001b[K     |████████████████████████████████| 132 kB 78.0 MB/s \n",
            "\u001b[K     |████████████████████████████████| 428 kB 71.6 MB/s \n",
            "\u001b[K     |████████████████████████████████| 793 kB 65.2 MB/s \n",
            "\u001b[K     |████████████████████████████████| 381 kB 76.2 MB/s \n",
            "\u001b[K     |████████████████████████████████| 51 kB 8.2 MB/s \n",
            "\u001b[?25h  Building wheel for pathtools (setup.py) ... \u001b[?25l\u001b[?25hdone\n",
            "  Building wheel for seqeval (setup.py) ... \u001b[?25l\u001b[?25hdone\n",
            "  Building wheel for blinker (setup.py) ... \u001b[?25l\u001b[?25hdone\n",
            "  Building wheel for validators (setup.py) ... \u001b[?25l\u001b[?25hdone\n",
            "\u001b[31mERROR: pip's dependency resolver does not currently take into account all the packages that are installed. This behaviour is the source of the following dependency conflicts.\n",
            "nbclient 0.6.4 requires traitlets>=5.2.2, but you have traitlets 5.1.1 which is incompatible.\n",
            "jupyter-console 5.2.0 requires prompt-toolkit<2.0.0,>=1.0.0, but you have prompt-toolkit 3.0.29 which is incompatible.\n",
            "google-colab 1.0.0 requires ipykernel~=4.10, but you have ipykernel 6.13.1 which is incompatible.\n",
            "google-colab 1.0.0 requires ipython~=5.5.0, but you have ipython 7.34.0 which is incompatible.\n",
            "google-colab 1.0.0 requires tornado~=5.1.0; python_version >= \"3.0\", but you have tornado 6.1 which is incompatible.\n",
            "datascience 0.10.6 requires folium==0.2.1, but you have folium 0.8.3 which is incompatible.\u001b[0m\n"
          ]
        }
      ],
      "source": [
        "# Instalasi lib\n",
        "!pip install -q simpletransformers"
      ],
      "id": "e86f5bc1"
    },
    {
      "cell_type": "code",
      "execution_count": null,
      "metadata": {
        "id": "dUZWRjhm3ACm"
      },
      "outputs": [],
      "source": [
        "from simpletransformers.question_answering import QuestionAnsweringModel, QuestionAnsweringArgs"
      ],
      "id": "dUZWRjhm3ACm"
    },
    {
      "cell_type": "markdown",
      "source": [
        "## Konfigurasi Model"
      ],
      "metadata": {
        "id": "pIMt2ADjsMsI"
      },
      "id": "pIMt2ADjsMsI"
    },
    {
      "cell_type": "code",
      "execution_count": null,
      "metadata": {
        "id": "3dw0fkFq3S58"
      },
      "outputs": [],
      "source": [
        "\"\"\"\n",
        "  Inisialisasi nama model dan tipe modelnya\n",
        "\"\"\"\n",
        "model_type=\"bert\"\n",
        "# model_name= \"indolem/indobert-base-uncased\"\n",
        "model_name = \"/content/drive/MyDrive/Colab Notebooks/PA/best_save_model2\"\n",
        "# model_name = \"/content/drive/MyDrive/Colab Notebooks/PA/saved_model2/checkpoint-51813-epoch-4\""
      ],
      "id": "3dw0fkFq3S58"
    },
    {
      "cell_type": "code",
      "execution_count": null,
      "metadata": {
        "id": "hLtaSENG3ewD"
      },
      "outputs": [],
      "source": [
        "\"\"\"\n",
        "  Konfigurasi model untuk QASnya dengan menggunakan adam_epsilon, dan pengaturan\n",
        "  direktori penyimpanan checkpoint\n",
        "\"\"\"\n",
        "model_args = QuestionAnsweringArgs()\n",
        "model_args.train_batch_size = 16\n",
        "model_args.n_best_size=3\n",
        "model_args.num_train_epochs=10\n",
        "model_args.evaluate_during_training = True\n",
        "model_args.adam_epsilon=1e-8\n",
        "# model_args.lazy_loading = True\n",
        "model_args.optimizer='AdamW'\n",
        "model_args.best_model_dir=\"/content/drive/MyDrive/Colab Notebooks/PA/best_save_model2\"\n",
        "model_args.cache_dir=\"/content/drive/MyDrive/Colab Notebooks/PA/caches\"\n",
        "model_args.overwrite_output_dir=\"/content/drive/MyDrive/Colab Notebooks/PA/output\"\n",
        "model_args.sliding_window=True\n",
        "\n",
        "model = QuestionAnsweringModel(\n",
        "    model_type, model_name, args=model_args, use_cuda=False\n",
        ")"
      ],
      "id": "hLtaSENG3ewD"
    },
    {
      "cell_type": "markdown",
      "source": [
        "## Training Model"
      ],
      "metadata": {
        "id": "gUq7VK9zsPc9"
      },
      "id": "gUq7VK9zsPc9"
    },
    {
      "cell_type": "code",
      "execution_count": null,
      "metadata": {
        "id": "NJ8Rk-lWAZPj"
      },
      "outputs": [],
      "source": [
        "# Pembagian data untuk training dan testing\n",
        "from sklearn.model_selection import train_test_split\n",
        "X_train, X_test = train_test_split(train_data,test_size=0.2, random_state=42)"
      ],
      "id": "NJ8Rk-lWAZPj"
    },
    {
      "cell_type": "code",
      "execution_count": null,
      "metadata": {
        "colab": {
          "base_uri": "https://localhost:8080/",
          "height": 756,
          "referenced_widgets": [
            "5ab2db8ab1764b20b5706d1f133ab550",
            "aa187dc4a51b43e681ecfbfc045c0bd6",
            "30116de37b624401963effeca02f26e3",
            "c9a11aaf5de44e5d9622ce54f25d7638",
            "42da34bb7808429392d07030a332f358",
            "431500384e7e44eb9d812c0316805244",
            "918e489b2e8241199d2d1e0c98065eb4",
            "6b766143909b4079acb75c72b20f3831",
            "b29dcbb1d63e41db843033d25917afd7",
            "d491fbcb0e6340539cf60b630e5158b5",
            "43c715e52f6e4782a86b14a3807b38dd",
            "c5f54ce9481e48738b56e01cbe529775",
            "5f610fd7ae7346b08b43f970ebec317c",
            "d0c37b254e434a4bad7d9c46e7333b9e",
            "0ccf5fe3bcd2487e8b83f68678cdef31",
            "93a41857230b4824bb0d8ca754323186",
            "e123b4b9c9ed41c28962c3b7b21e62d8",
            "83aaaafe460e43cea4be5392c2d08f4c",
            "af13387eb2c944ceb1e155ca4e8c105b",
            "31476f07bb3f43be99476f3872c57785",
            "9b0355c9865b458fb77d0e0305809d3d",
            "af4543769f1c45d1a49b8e8812422f09",
            "498db6a5044f4c9abe44c3b9e362960f",
            "0c8d8bcd5e13480a86a8d42ebe176480",
            "bf3e733815394429a9dfe4459c7db380",
            "09b047aba22c4eeeba4a47012819d43a",
            "13dc533460114d39a1005d33ad282c6a",
            "009fb21a47534f19b34165046ac7ee4b",
            "87b766d86e77424bb49374783cad9147",
            "f98b38c3fa6a422e8660acd719922e71",
            "ba6de96c967743b7abd5b8430c1bb8c4",
            "1128474b7f43416fbfde261ea68ca4b1",
            "e7c9ae162ddd4afc8df1b0a7b36ed653"
          ]
        },
        "id": "y_P-EJ7Z3jOs",
        "outputId": "21351936-f324-45e5-a055-f66a5c9fc261"
      },
      "outputs": [
        {
          "output_type": "stream",
          "name": "stderr",
          "text": [
            "convert squad examples to features: 100%|██████████| 91792/91792 [09:53<00:00, 154.55it/s]\n",
            "add example index and unique id: 100%|██████████| 91792/91792 [00:00<00:00, 834077.61it/s]\n",
            "/usr/local/lib/python3.7/dist-packages/transformers/optimization.py:309: FutureWarning: This implementation of AdamW is deprecated and will be removed in a future version. Use the PyTorch implementation torch.optim.AdamW instead, or set `no_deprecation_warning=True` to disable this warning\n",
            "  FutureWarning,\n"
          ]
        },
        {
          "output_type": "display_data",
          "data": {
            "text/plain": [
              "Epoch:   0%|          | 0/10 [00:00<?, ?it/s]"
            ],
            "application/vnd.jupyter.widget-view+json": {
              "version_major": 2,
              "version_minor": 0,
              "model_id": "5ab2db8ab1764b20b5706d1f133ab550"
            }
          },
          "metadata": {}
        },
        {
          "output_type": "display_data",
          "data": {
            "text/plain": [
              "Running Epoch 0 of 10:   0%|          | 0/5757 [00:00<?, ?it/s]"
            ],
            "application/vnd.jupyter.widget-view+json": {
              "version_major": 2,
              "version_minor": 0,
              "model_id": "c5f54ce9481e48738b56e01cbe529775"
            }
          },
          "metadata": {}
        },
        {
          "output_type": "stream",
          "name": "stderr",
          "text": [
            "/usr/local/lib/python3.7/dist-packages/torch/optim/lr_scheduler.py:136: UserWarning: Detected call of `lr_scheduler.step()` before `optimizer.step()`. In PyTorch 1.1.0 and later, you should call them in the opposite order: `optimizer.step()` before `lr_scheduler.step()`.  Failure to do this will result in PyTorch skipping the first value of the learning rate schedule. See more details at https://pytorch.org/docs/stable/optim.html#how-to-adjust-learning-rate\n",
            "  \"https://pytorch.org/docs/stable/optim.html#how-to-adjust-learning-rate\", UserWarning)\n",
            "\n",
            "\n",
            "convert squad examples to features:   0%|          | 0/23033 [00:00<?, ?it/s]\u001b[A\u001b[A\n",
            "\n",
            "convert squad examples to features:   0%|          | 1/23033 [01:14<478:19:57, 74.77s/it]\u001b[A\u001b[A\n",
            "\n",
            "convert squad examples to features: 100%|██████████| 23033/23033 [02:27<00:00, 155.89it/s]\n",
            "\n",
            "\n",
            "add example index and unique id: 100%|██████████| 23033/23033 [00:00<00:00, 805598.77it/s]\n"
          ]
        },
        {
          "output_type": "display_data",
          "data": {
            "text/plain": [
              "Running Evaluation:   0%|          | 0/2889 [00:00<?, ?it/s]"
            ],
            "application/vnd.jupyter.widget-view+json": {
              "version_major": 2,
              "version_minor": 0,
              "model_id": "498db6a5044f4c9abe44c3b9e362960f"
            }
          },
          "metadata": {}
        },
        {
          "output_type": "error",
          "ename": "TypeError",
          "evalue": "ignored",
          "traceback": [
            "\u001b[0;31m---------------------------------------------------------------------------\u001b[0m",
            "\u001b[0;31mTypeError\u001b[0m                                 Traceback (most recent call last)",
            "\u001b[0;32m<ipython-input-234-685ba89d9195>\u001b[0m in \u001b[0;36m<module>\u001b[0;34m()\u001b[0m\n\u001b[1;32m      1\u001b[0m model.train_model(X_train,overwrite_output_dir=\"/content/drive/MyDrive/Colab Notebooks/PA/saved_model3\",\n\u001b[1;32m      2\u001b[0m                   \u001b[0mshow_running_loss\u001b[0m\u001b[0;34m=\u001b[0m\u001b[0;32mTrue\u001b[0m\u001b[0;34m,\u001b[0m\u001b[0;34m\u001b[0m\u001b[0;34m\u001b[0m\u001b[0m\n\u001b[0;32m----> 3\u001b[0;31m                   eval_data=X_test)\n\u001b[0m",
            "\u001b[0;32m/usr/local/lib/python3.7/dist-packages/simpletransformers/question_answering/question_answering_model.py\u001b[0m in \u001b[0;36mtrain_model\u001b[0;34m(self, train_data, output_dir, show_running_loss, args, eval_data, verbose, **kwargs)\u001b[0m\n\u001b[1;32m    455\u001b[0m             \u001b[0mshow_running_loss\u001b[0m\u001b[0;34m=\u001b[0m\u001b[0mshow_running_loss\u001b[0m\u001b[0;34m,\u001b[0m\u001b[0;34m\u001b[0m\u001b[0;34m\u001b[0m\u001b[0m\n\u001b[1;32m    456\u001b[0m             \u001b[0meval_data\u001b[0m\u001b[0;34m=\u001b[0m\u001b[0meval_data\u001b[0m\u001b[0;34m,\u001b[0m\u001b[0;34m\u001b[0m\u001b[0;34m\u001b[0m\u001b[0m\n\u001b[0;32m--> 457\u001b[0;31m             \u001b[0;34m**\u001b[0m\u001b[0mkwargs\u001b[0m\u001b[0;34m,\u001b[0m\u001b[0;34m\u001b[0m\u001b[0;34m\u001b[0m\u001b[0m\n\u001b[0m\u001b[1;32m    458\u001b[0m         )\n\u001b[1;32m    459\u001b[0m \u001b[0;34m\u001b[0m\u001b[0m\n",
            "\u001b[0;32m/usr/local/lib/python3.7/dist-packages/simpletransformers/question_answering/question_answering_model.py\u001b[0m in \u001b[0;36mtrain\u001b[0;34m(self, train_dataset, output_dir, show_running_loss, eval_data, verbose, **kwargs)\u001b[0m\n\u001b[1;32m    799\u001b[0m                     ):\n\u001b[1;32m    800\u001b[0m                         \u001b[0;31m# Only evaluate when single GPU otherwise metrics may not average well\u001b[0m\u001b[0;34m\u001b[0m\u001b[0;34m\u001b[0m\u001b[0;34m\u001b[0m\u001b[0m\n\u001b[0;32m--> 801\u001b[0;31m                         \u001b[0mresults\u001b[0m\u001b[0;34m,\u001b[0m \u001b[0m_\u001b[0m \u001b[0;34m=\u001b[0m \u001b[0mself\u001b[0m\u001b[0;34m.\u001b[0m\u001b[0meval_model\u001b[0m\u001b[0;34m(\u001b[0m\u001b[0meval_data\u001b[0m\u001b[0;34m,\u001b[0m \u001b[0mverbose\u001b[0m\u001b[0;34m=\u001b[0m\u001b[0;32mFalse\u001b[0m\u001b[0;34m,\u001b[0m \u001b[0;34m**\u001b[0m\u001b[0mkwargs\u001b[0m\u001b[0;34m)\u001b[0m\u001b[0;34m\u001b[0m\u001b[0;34m\u001b[0m\u001b[0m\n\u001b[0m\u001b[1;32m    802\u001b[0m                         \u001b[0;32mfor\u001b[0m \u001b[0mkey\u001b[0m\u001b[0;34m,\u001b[0m \u001b[0mvalue\u001b[0m \u001b[0;32min\u001b[0m \u001b[0mresults\u001b[0m\u001b[0;34m.\u001b[0m\u001b[0mitems\u001b[0m\u001b[0;34m(\u001b[0m\u001b[0;34m)\u001b[0m\u001b[0;34m:\u001b[0m\u001b[0;34m\u001b[0m\u001b[0;34m\u001b[0m\u001b[0m\n\u001b[1;32m    803\u001b[0m                             \u001b[0;32mtry\u001b[0m\u001b[0;34m:\u001b[0m\u001b[0;34m\u001b[0m\u001b[0;34m\u001b[0m\u001b[0m\n",
            "\u001b[0;32m/usr/local/lib/python3.7/dist-packages/simpletransformers/question_answering/question_answering_model.py\u001b[0m in \u001b[0;36meval_model\u001b[0;34m(self, eval_data, output_dir, verbose, verbose_logging, **kwargs)\u001b[0m\n\u001b[1;32m   1105\u001b[0m             \u001b[0mtruth\u001b[0m \u001b[0;34m=\u001b[0m \u001b[0meval_data\u001b[0m\u001b[0;34m\u001b[0m\u001b[0;34m\u001b[0m\u001b[0m\n\u001b[1;32m   1106\u001b[0m \u001b[0;34m\u001b[0m\u001b[0m\n\u001b[0;32m-> 1107\u001b[0;31m         \u001b[0mresult\u001b[0m\u001b[0;34m,\u001b[0m \u001b[0mtexts\u001b[0m \u001b[0;34m=\u001b[0m \u001b[0mself\u001b[0m\u001b[0;34m.\u001b[0m\u001b[0mcalculate_results\u001b[0m\u001b[0;34m(\u001b[0m\u001b[0mtruth\u001b[0m\u001b[0;34m,\u001b[0m \u001b[0mall_predictions\u001b[0m\u001b[0;34m,\u001b[0m \u001b[0;34m**\u001b[0m\u001b[0mkwargs\u001b[0m\u001b[0;34m)\u001b[0m\u001b[0;34m\u001b[0m\u001b[0;34m\u001b[0m\u001b[0m\n\u001b[0m\u001b[1;32m   1108\u001b[0m         \u001b[0mresult\u001b[0m\u001b[0;34m[\u001b[0m\u001b[0;34m\"eval_loss\"\u001b[0m\u001b[0;34m]\u001b[0m \u001b[0;34m=\u001b[0m \u001b[0meval_loss\u001b[0m\u001b[0;34m\u001b[0m\u001b[0;34m\u001b[0m\u001b[0m\n\u001b[1;32m   1109\u001b[0m \u001b[0;34m\u001b[0m\u001b[0m\n",
            "\u001b[0;32m/usr/local/lib/python3.7/dist-packages/simpletransformers/question_answering/question_answering_model.py\u001b[0m in \u001b[0;36mcalculate_results\u001b[0;34m(self, truth, predictions, **kwargs)\u001b[0m\n\u001b[1;32m   1452\u001b[0m         \u001b[0mextra_metrics\u001b[0m \u001b[0;34m=\u001b[0m \u001b[0;34m{\u001b[0m\u001b[0;34m}\u001b[0m\u001b[0;34m\u001b[0m\u001b[0;34m\u001b[0m\u001b[0m\n\u001b[1;32m   1453\u001b[0m         \u001b[0;32mfor\u001b[0m \u001b[0mmetric\u001b[0m\u001b[0;34m,\u001b[0m \u001b[0mfunc\u001b[0m \u001b[0;32min\u001b[0m \u001b[0mkwargs\u001b[0m\u001b[0;34m.\u001b[0m\u001b[0mitems\u001b[0m\u001b[0;34m(\u001b[0m\u001b[0;34m)\u001b[0m\u001b[0;34m:\u001b[0m\u001b[0;34m\u001b[0m\u001b[0;34m\u001b[0m\u001b[0m\n\u001b[0;32m-> 1454\u001b[0;31m             \u001b[0mextra_metrics\u001b[0m\u001b[0;34m[\u001b[0m\u001b[0mmetric\u001b[0m\u001b[0;34m]\u001b[0m \u001b[0;34m=\u001b[0m \u001b[0mfunc\u001b[0m\u001b[0;34m(\u001b[0m\u001b[0mtrue_answers\u001b[0m\u001b[0;34m,\u001b[0m \u001b[0mpredicted_answers\u001b[0m\u001b[0;34m)\u001b[0m\u001b[0;34m\u001b[0m\u001b[0;34m\u001b[0m\u001b[0m\n\u001b[0m\u001b[1;32m   1455\u001b[0m \u001b[0;34m\u001b[0m\u001b[0m\n\u001b[1;32m   1456\u001b[0m         result = {\n",
            "\u001b[0;31mTypeError\u001b[0m: 'str' object is not callable"
          ]
        }
      ],
      "source": [
        "model.train_model(X_train,overwrite_output_dir=\"/content/drive/MyDrive/Colab Notebooks/PA/saved_model3\",\n",
        "                  show_running_loss=True,\n",
        "                  eval_data=X_test)"
      ],
      "id": "y_P-EJ7Z3jOs"
    },
    {
      "cell_type": "markdown",
      "source": [
        "## Model Testing Menggunakan Simpletransformers"
      ],
      "metadata": {
        "id": "DbskWGcQsTgF"
      },
      "id": "DbskWGcQsTgF"
    },
    {
      "cell_type": "markdown",
      "source": [
        "> Percobaan pengujian QAS dengan simpletransformers"
      ],
      "metadata": {
        "id": "wLIhmzVFAGy2"
      },
      "id": "wLIhmzVFAGy2"
    },
    {
      "cell_type": "code",
      "execution_count": null,
      "metadata": {
        "id": "05e6t5TbmaNZ"
      },
      "outputs": [],
      "source": [
        "text = \" \".join(textContext['Description'])"
      ],
      "id": "05e6t5TbmaNZ"
    },
    {
      "cell_type": "code",
      "execution_count": null,
      "metadata": {
        "colab": {
          "base_uri": "https://localhost:8080/",
          "height": 223,
          "referenced_widgets": [
            "d53860df59794125bc5964ee153a07a2",
            "bac8e2e439dd41928885a2db99b51b7d",
            "e59c9afe8fc145a78dc780058429ca7d",
            "ef36aab465c64d3cb19a9297c91b1b62",
            "4da115e8adc742dabb9a54c8540d0283",
            "d7cbedc58491470fbd245fb5bac17198",
            "f72d5c82d39a4837bd3b7c12146a10f7",
            "a052f83da4e141ac85de1a1f77443ac6",
            "4c0bfc062f354b97b4cc572329998521",
            "edbc00ab04844272967e38b1c3ccad58",
            "3a3e504946b542e58ee018379363c48e"
          ]
        },
        "id": "GfBKVpu4t_MW",
        "outputId": "48f405a5-9087-419a-cf47-030e3e345b4e"
      },
      "outputs": [
        {
          "output_type": "stream",
          "name": "stderr",
          "text": [
            "convert squad examples to features: 100%|██████████| 1/1 [00:04<00:00,  4.96s/it]\n",
            "add example index and unique id: 100%|██████████| 1/1 [00:00<00:00, 4733.98it/s]\n"
          ]
        },
        {
          "output_type": "display_data",
          "data": {
            "text/plain": [
              "Running Prediction:   0%|          | 0/17 [00:00<?, ?it/s]"
            ],
            "application/vnd.jupyter.widget-view+json": {
              "version_major": 2,
              "version_minor": 0,
              "model_id": "d53860df59794125bc5964ee153a07a2"
            }
          },
          "metadata": {}
        },
        {
          "output_type": "execute_result",
          "data": {
            "text/plain": [
              "([{'answer': ['ibukota Jawa Tengah',\n",
              "    'di ibukota Jawa Tengah',\n",
              "    'ibukota Jawa Tengah ini'],\n",
              "   'id': '0'}],\n",
              " [{'id': '0',\n",
              "   'probability': [0.685648810701097,\n",
              "    0.26075171834989036,\n",
              "    0.05359937641108391]}])"
            ]
          },
          "metadata": {},
          "execution_count": 18
        }
      ],
      "source": [
        "predictions, raw_outputs = model.predict(\n",
        "    [\n",
        "        {\n",
        "            \"context\": text,\n",
        "            \"qas\": [\n",
        "                {\n",
        "                    \"question\": data_QAS2['Pertanyaan'][1],\n",
        "                    \"id\": \"0\",\n",
        "                }\n",
        "            ],\n",
        "        }\n",
        "    ]\n",
        ")\n",
        "\n",
        "predictions, raw_outputs"
      ],
      "id": "GfBKVpu4t_MW"
    },
    {
      "cell_type": "markdown",
      "source": [
        "> Berdasarkan percobaan diatas, model tidak dapat mendapatkan jawaban dari konteks yang disatukan, oleh karena itu, dikarenakan keterbatasan data tourism dan pertanyaan, saya memilih untuk melakukan klasifikasi pertanyaan ke dalam konteks tempat wisatanya"
      ],
      "metadata": {
        "id": "3bqpInUrARB7"
      },
      "id": "3bqpInUrARB7"
    },
    {
      "cell_type": "markdown",
      "metadata": {
        "id": "j2HA5SoT3A80"
      },
      "source": [
        "## Model Lib Transformers"
      ],
      "id": "j2HA5SoT3A80"
    },
    {
      "cell_type": "code",
      "execution_count": null,
      "metadata": {
        "id": "pKDAS_2xG-4k"
      },
      "outputs": [],
      "source": [
        "pip install -q transformers"
      ],
      "id": "pKDAS_2xG-4k"
    },
    {
      "cell_type": "code",
      "execution_count": null,
      "metadata": {
        "id": "8275225c"
      },
      "outputs": [],
      "source": [
        "from transformers import BertTokenizer, BertForQuestionAnswering\n",
        "import torch"
      ],
      "id": "8275225c"
    },
    {
      "cell_type": "markdown",
      "source": [
        "# Klasifikasi Topik Pertanyaan"
      ],
      "metadata": {
        "id": "m6pBFpe5YVIn"
      },
      "id": "m6pBFpe5YVIn"
    },
    {
      "cell_type": "markdown",
      "source": [
        "> Untuk melakukan training klasifikasi pertanyaan, kami menggunakan data kumpulan pertanyaan yang kami buat berdasarkan tempat wisatanya masing-masing. Berikut data yang ada:"
      ],
      "metadata": {
        "id": "pWcvcwqvAoJF"
      },
      "id": "pWcvcwqvAoJF"
    },
    {
      "cell_type": "markdown",
      "source": [
        "## Data Preprocessing"
      ],
      "metadata": {
        "id": "vxDdAhz8sr_x"
      },
      "id": "vxDdAhz8sr_x"
    },
    {
      "cell_type": "code",
      "source": [
        "data_QAS2.columns"
      ],
      "metadata": {
        "colab": {
          "base_uri": "https://localhost:8080/"
        },
        "id": "NMal0JNOYV6V",
        "outputId": "244546a2-9fba-4e14-c1a6-71be6c5ef70e"
      },
      "id": "NMal0JNOYV6V",
      "execution_count": null,
      "outputs": [
        {
          "output_type": "execute_result",
          "data": {
            "text/plain": [
              "Index(['Place_Id', 'Place_Name', 'Price', 'Average_Rating', 'Description',\n",
              "       'Pertanyaan', 'Jawaban_Text', 'Jawaban_Akurat'],\n",
              "      dtype='object')"
            ]
          },
          "metadata": {},
          "execution_count": 23
        }
      ]
    },
    {
      "cell_type": "code",
      "source": [
        "# Seleksi Fitur Place_Id, Place_Name, dan Pertanyaan\n",
        "data_klasifikasi = data_QAS2[['Pertanyaan','Place_Name','Place_Id']]\n",
        "data_klasifikasi.dropna()\n",
        "data_klasifikasi.shape"
      ],
      "metadata": {
        "colab": {
          "base_uri": "https://localhost:8080/"
        },
        "id": "MvIFvrH6a0pZ",
        "outputId": "6328276b-547b-4f71-814b-4a5188e551ac"
      },
      "id": "MvIFvrH6a0pZ",
      "execution_count": null,
      "outputs": [
        {
          "output_type": "execute_result",
          "data": {
            "text/plain": [
              "(143, 3)"
            ]
          },
          "metadata": {},
          "execution_count": 24
        }
      ]
    },
    {
      "cell_type": "code",
      "source": [
        "# Standarisasi huruf kecil\n",
        "data_klasifikasi['Place_Name'] = data_klasifikasi['Place_Name'].apply(lambda x:x.lower().strip())\n",
        "data_klasifikasi['Pertanyaan'] = data_klasifikasi['Pertanyaan'].apply(lambda x:x.lower().strip())\n",
        "data_klasifikasi.head()"
      ],
      "metadata": {
        "colab": {
          "base_uri": "https://localhost:8080/",
          "height": 414
        },
        "id": "GjtOKpGacQHo",
        "outputId": "7c3d8fdb-65ea-439c-bf20-4d03d67a0856"
      },
      "id": "GjtOKpGacQHo",
      "execution_count": null,
      "outputs": [
        {
          "output_type": "stream",
          "name": "stderr",
          "text": [
            "/usr/local/lib/python3.7/dist-packages/ipykernel_launcher.py:2: SettingWithCopyWarning: \n",
            "A value is trying to be set on a copy of a slice from a DataFrame.\n",
            "Try using .loc[row_indexer,col_indexer] = value instead\n",
            "\n",
            "See the caveats in the documentation: https://pandas.pydata.org/pandas-docs/stable/user_guide/indexing.html#returning-a-view-versus-a-copy\n",
            "  \n",
            "/usr/local/lib/python3.7/dist-packages/ipykernel_launcher.py:3: SettingWithCopyWarning: \n",
            "A value is trying to be set on a copy of a slice from a DataFrame.\n",
            "Try using .loc[row_indexer,col_indexer] = value instead\n",
            "\n",
            "See the caveats in the documentation: https://pandas.pydata.org/pandas-docs/stable/user_guide/indexing.html#returning-a-view-versus-a-copy\n",
            "  This is separate from the ipykernel package so we can avoid doing imports until\n"
          ]
        },
        {
          "output_type": "execute_result",
          "data": {
            "text/plain": [
              "                             Pertanyaan        Place_Name  Place_Id\n",
              "0              apa itu monumen nasional  monumen nasional         1\n",
              "1        dimana monumen nasional berada  monumen nasional         1\n",
              "2   siapa yang membuat monumen nasional  monumen nasional         1\n",
              "3  tahun berapa monumen nasional dibuat  monumen nasional         1\n",
              "4                      apa itu kota tua          kota tua         2"
            ],
            "text/html": [
              "\n",
              "  <div id=\"df-d2b6d7bf-2494-4173-a6a1-d29650ff8b30\">\n",
              "    <div class=\"colab-df-container\">\n",
              "      <div>\n",
              "<style scoped>\n",
              "    .dataframe tbody tr th:only-of-type {\n",
              "        vertical-align: middle;\n",
              "    }\n",
              "\n",
              "    .dataframe tbody tr th {\n",
              "        vertical-align: top;\n",
              "    }\n",
              "\n",
              "    .dataframe thead th {\n",
              "        text-align: right;\n",
              "    }\n",
              "</style>\n",
              "<table border=\"1\" class=\"dataframe\">\n",
              "  <thead>\n",
              "    <tr style=\"text-align: right;\">\n",
              "      <th></th>\n",
              "      <th>Pertanyaan</th>\n",
              "      <th>Place_Name</th>\n",
              "      <th>Place_Id</th>\n",
              "    </tr>\n",
              "  </thead>\n",
              "  <tbody>\n",
              "    <tr>\n",
              "      <th>0</th>\n",
              "      <td>apa itu monumen nasional</td>\n",
              "      <td>monumen nasional</td>\n",
              "      <td>1</td>\n",
              "    </tr>\n",
              "    <tr>\n",
              "      <th>1</th>\n",
              "      <td>dimana monumen nasional berada</td>\n",
              "      <td>monumen nasional</td>\n",
              "      <td>1</td>\n",
              "    </tr>\n",
              "    <tr>\n",
              "      <th>2</th>\n",
              "      <td>siapa yang membuat monumen nasional</td>\n",
              "      <td>monumen nasional</td>\n",
              "      <td>1</td>\n",
              "    </tr>\n",
              "    <tr>\n",
              "      <th>3</th>\n",
              "      <td>tahun berapa monumen nasional dibuat</td>\n",
              "      <td>monumen nasional</td>\n",
              "      <td>1</td>\n",
              "    </tr>\n",
              "    <tr>\n",
              "      <th>4</th>\n",
              "      <td>apa itu kota tua</td>\n",
              "      <td>kota tua</td>\n",
              "      <td>2</td>\n",
              "    </tr>\n",
              "  </tbody>\n",
              "</table>\n",
              "</div>\n",
              "      <button class=\"colab-df-convert\" onclick=\"convertToInteractive('df-d2b6d7bf-2494-4173-a6a1-d29650ff8b30')\"\n",
              "              title=\"Convert this dataframe to an interactive table.\"\n",
              "              style=\"display:none;\">\n",
              "        \n",
              "  <svg xmlns=\"http://www.w3.org/2000/svg\" height=\"24px\"viewBox=\"0 0 24 24\"\n",
              "       width=\"24px\">\n",
              "    <path d=\"M0 0h24v24H0V0z\" fill=\"none\"/>\n",
              "    <path d=\"M18.56 5.44l.94 2.06.94-2.06 2.06-.94-2.06-.94-.94-2.06-.94 2.06-2.06.94zm-11 1L8.5 8.5l.94-2.06 2.06-.94-2.06-.94L8.5 2.5l-.94 2.06-2.06.94zm10 10l.94 2.06.94-2.06 2.06-.94-2.06-.94-.94-2.06-.94 2.06-2.06.94z\"/><path d=\"M17.41 7.96l-1.37-1.37c-.4-.4-.92-.59-1.43-.59-.52 0-1.04.2-1.43.59L10.3 9.45l-7.72 7.72c-.78.78-.78 2.05 0 2.83L4 21.41c.39.39.9.59 1.41.59.51 0 1.02-.2 1.41-.59l7.78-7.78 2.81-2.81c.8-.78.8-2.07 0-2.86zM5.41 20L4 18.59l7.72-7.72 1.47 1.35L5.41 20z\"/>\n",
              "  </svg>\n",
              "      </button>\n",
              "      \n",
              "  <style>\n",
              "    .colab-df-container {\n",
              "      display:flex;\n",
              "      flex-wrap:wrap;\n",
              "      gap: 12px;\n",
              "    }\n",
              "\n",
              "    .colab-df-convert {\n",
              "      background-color: #E8F0FE;\n",
              "      border: none;\n",
              "      border-radius: 50%;\n",
              "      cursor: pointer;\n",
              "      display: none;\n",
              "      fill: #1967D2;\n",
              "      height: 32px;\n",
              "      padding: 0 0 0 0;\n",
              "      width: 32px;\n",
              "    }\n",
              "\n",
              "    .colab-df-convert:hover {\n",
              "      background-color: #E2EBFA;\n",
              "      box-shadow: 0px 1px 2px rgba(60, 64, 67, 0.3), 0px 1px 3px 1px rgba(60, 64, 67, 0.15);\n",
              "      fill: #174EA6;\n",
              "    }\n",
              "\n",
              "    [theme=dark] .colab-df-convert {\n",
              "      background-color: #3B4455;\n",
              "      fill: #D2E3FC;\n",
              "    }\n",
              "\n",
              "    [theme=dark] .colab-df-convert:hover {\n",
              "      background-color: #434B5C;\n",
              "      box-shadow: 0px 1px 3px 1px rgba(0, 0, 0, 0.15);\n",
              "      filter: drop-shadow(0px 1px 2px rgba(0, 0, 0, 0.3));\n",
              "      fill: #FFFFFF;\n",
              "    }\n",
              "  </style>\n",
              "\n",
              "      <script>\n",
              "        const buttonEl =\n",
              "          document.querySelector('#df-d2b6d7bf-2494-4173-a6a1-d29650ff8b30 button.colab-df-convert');\n",
              "        buttonEl.style.display =\n",
              "          google.colab.kernel.accessAllowed ? 'block' : 'none';\n",
              "\n",
              "        async function convertToInteractive(key) {\n",
              "          const element = document.querySelector('#df-d2b6d7bf-2494-4173-a6a1-d29650ff8b30');\n",
              "          const dataTable =\n",
              "            await google.colab.kernel.invokeFunction('convertToInteractive',\n",
              "                                                     [key], {});\n",
              "          if (!dataTable) return;\n",
              "\n",
              "          const docLinkHtml = 'Like what you see? Visit the ' +\n",
              "            '<a target=\"_blank\" href=https://colab.research.google.com/notebooks/data_table.ipynb>data table notebook</a>'\n",
              "            + ' to learn more about interactive tables.';\n",
              "          element.innerHTML = '';\n",
              "          dataTable['output_type'] = 'display_data';\n",
              "          await google.colab.output.renderOutput(dataTable, element);\n",
              "          const docLink = document.createElement('div');\n",
              "          docLink.innerHTML = docLinkHtml;\n",
              "          element.appendChild(docLink);\n",
              "        }\n",
              "      </script>\n",
              "    </div>\n",
              "  </div>\n",
              "  "
            ]
          },
          "metadata": {},
          "execution_count": 25
        }
      ]
    },
    {
      "cell_type": "code",
      "source": [
        "data_klasifikasi.groupby('Place_Id')['Pertanyaan'].count()"
      ],
      "metadata": {
        "colab": {
          "base_uri": "https://localhost:8080/"
        },
        "id": "oSQehhy0eL41",
        "outputId": "5658e96f-97e7-4b9c-dcb8-7be5daa33f54"
      },
      "id": "oSQehhy0eL41",
      "execution_count": null,
      "outputs": [
        {
          "output_type": "execute_result",
          "data": {
            "text/plain": [
              "Place_Id\n",
              "1     4\n",
              "2     3\n",
              "3     3\n",
              "4     2\n",
              "5     2\n",
              "     ..\n",
              "78    1\n",
              "79    3\n",
              "80    1\n",
              "81    1\n",
              "82    2\n",
              "Name: Pertanyaan, Length: 80, dtype: int64"
            ]
          },
          "metadata": {},
          "execution_count": 26
        }
      ]
    },
    {
      "cell_type": "code",
      "source": [
        "X = data_klasifikasi['Pertanyaan']\n",
        "y = data_klasifikasi['Place_Id']"
      ],
      "metadata": {
        "id": "Swo1lGY7KMsQ"
      },
      "id": "Swo1lGY7KMsQ",
      "execution_count": null,
      "outputs": []
    },
    {
      "cell_type": "code",
      "source": [
        "from sklearn.model_selection import train_test_split\n",
        "\n",
        "data_klasifikasi_train, data_klasifikasi_test = train_test_split(data_klasifikasi,test_size=0.2, random_state=20)\n",
        "data_klasifikasi_test, data_klasifikasi_val = train_test_split(data_klasifikasi_test,test_size=0.2, random_state=20)\n",
        "\n",
        "print(f'X_train {data_klasifikasi_train.shape}')\n",
        "print(f'X_test {data_klasifikasi_test.shape}')\n",
        "print(f'X_val {data_klasifikasi_val.shape}')"
      ],
      "metadata": {
        "colab": {
          "base_uri": "https://localhost:8080/"
        },
        "id": "y1gWTzOdM1L3",
        "outputId": "1e71f2fb-408d-487a-86ab-6e6f97a14fb6"
      },
      "id": "y1gWTzOdM1L3",
      "execution_count": null,
      "outputs": [
        {
          "output_type": "stream",
          "name": "stdout",
          "text": [
            "X_train (114, 3)\n",
            "X_test (23, 3)\n",
            "X_val (6, 3)\n"
          ]
        }
      ]
    },
    {
      "cell_type": "markdown",
      "source": [
        "# LSTM Klasifikasi"
      ],
      "metadata": {
        "id": "JO8QHOtOIUoE"
      },
      "id": "JO8QHOtOIUoE"
    },
    {
      "cell_type": "code",
      "source": [
        "!pip install -q tensorflow-model-optimization"
      ],
      "metadata": {
        "id": "hhOLM5YKPpJA",
        "colab": {
          "base_uri": "https://localhost:8080/"
        },
        "outputId": "98f1a5f5-663b-465d-92c5-f8ab4e9b15bd"
      },
      "id": "hhOLM5YKPpJA",
      "execution_count": null,
      "outputs": [
        {
          "output_type": "stream",
          "name": "stdout",
          "text": [
            "\u001b[?25l\r\u001b[K     |█▍                              | 10 kB 32.4 MB/s eta 0:00:01\r\u001b[K     |██▊                             | 20 kB 36.1 MB/s eta 0:00:01\r\u001b[K     |████▏                           | 30 kB 12.8 MB/s eta 0:00:01\r\u001b[K     |█████▌                          | 40 kB 4.6 MB/s eta 0:00:01\r\u001b[K     |███████                         | 51 kB 4.4 MB/s eta 0:00:01\r\u001b[K     |████████▎                       | 61 kB 5.2 MB/s eta 0:00:01\r\u001b[K     |█████████▋                      | 71 kB 5.6 MB/s eta 0:00:01\r\u001b[K     |███████████                     | 81 kB 5.7 MB/s eta 0:00:01\r\u001b[K     |████████████▍                   | 92 kB 6.3 MB/s eta 0:00:01\r\u001b[K     |█████████████▉                  | 102 kB 5.3 MB/s eta 0:00:01\r\u001b[K     |███████████████▏                | 112 kB 5.3 MB/s eta 0:00:01\r\u001b[K     |████████████████▌               | 122 kB 5.3 MB/s eta 0:00:01\r\u001b[K     |██████████████████              | 133 kB 5.3 MB/s eta 0:00:01\r\u001b[K     |███████████████████▎            | 143 kB 5.3 MB/s eta 0:00:01\r\u001b[K     |████████████████████▊           | 153 kB 5.3 MB/s eta 0:00:01\r\u001b[K     |██████████████████████          | 163 kB 5.3 MB/s eta 0:00:01\r\u001b[K     |███████████████████████▌        | 174 kB 5.3 MB/s eta 0:00:01\r\u001b[K     |████████████████████████▉       | 184 kB 5.3 MB/s eta 0:00:01\r\u001b[K     |██████████████████████████▏     | 194 kB 5.3 MB/s eta 0:00:01\r\u001b[K     |███████████████████████████▋    | 204 kB 5.3 MB/s eta 0:00:01\r\u001b[K     |█████████████████████████████   | 215 kB 5.3 MB/s eta 0:00:01\r\u001b[K     |██████████████████████████████▍ | 225 kB 5.3 MB/s eta 0:00:01\r\u001b[K     |███████████████████████████████▊| 235 kB 5.3 MB/s eta 0:00:01\r\u001b[K     |████████████████████████████████| 237 kB 5.3 MB/s \n",
            "\u001b[?25h"
          ]
        }
      ]
    },
    {
      "cell_type": "code",
      "source": [
        "# Klasifikasi Place_Id\n",
        "import tensorflow as tf\n",
        "from tensorflow.keras.preprocessing.text import Tokenizer\n",
        "from tensorflow.keras.preprocessing.sequence import pad_sequences\n",
        "from sklearn.model_selection import train_test_split\n",
        "import pickle"
      ],
      "metadata": {
        "id": "0lKTuURihLhq"
      },
      "id": "0lKTuURihLhq",
      "execution_count": null,
      "outputs": []
    },
    {
      "cell_type": "markdown",
      "source": [
        "## Tokenisasi"
      ],
      "metadata": {
        "id": "91zFGyuPPhGi"
      },
      "id": "91zFGyuPPhGi"
    },
    {
      "cell_type": "code",
      "source": [
        "tokenizer = Tokenizer(lower=True)\n",
        "tokenizer.fit_on_texts(data_klasifikasi['Pertanyaan'].values)\n",
        "word_index = tokenizer.word_index\n",
        "\n",
        "\n",
        "# Penyimpanan tokenizer\n",
        "with open('/content/drive/MyDrive/Colab Notebooks/PA/tokenizerTextClassification.pickle', 'wb') as handle:\n",
        "    pickle.dump(tokenizer, handle, protocol=pickle.HIGHEST_PROTOCOL)\n",
        "\n",
        "X = tokenizer.texts_to_sequences(data_klasifikasi['Pertanyaan'].values)\n",
        "print(X)\n",
        "X = pad_sequences(X,maxlen=20) # pemberian maxlen = 20 berdasarkan token terpanjang\n",
        "print(X.shape)"
      ],
      "metadata": {
        "colab": {
          "base_uri": "https://localhost:8080/"
        },
        "id": "gCm8dHXXhdyR",
        "outputId": "ef689cde-cabb-454d-f0c1-556d7bf39cf8"
      },
      "id": "gCm8dHXXhdyR",
      "execution_count": null,
      "outputs": [
        {
          "output_type": "stream",
          "name": "stdout",
          "text": [
            "[[2, 13, 18, 14], [1, 18, 14, 25], [35, 4, 52, 18, 14], [144, 36, 18, 14, 53], [2, 13, 22, 54], [1, 22, 54, 25], [35, 4, 52, 18, 14], [2, 13, 145, 146, 55, 37], [1, 3, 37], [9, 37, 38], [2, 13, 10, 56], [1, 3, 10, 56], [2, 13, 57, 58, 59], [1, 3, 57, 58, 59], [2, 13, 10, 60, 61, 26], [1, 11, 10, 60, 61, 26], [2, 13, 23, 27, 28], [1, 3, 23, 27, 28], [9, 23, 27, 28, 53], [2, 4, 147, 7, 23, 27, 28], [2, 13, 62, 63], [1, 3, 62, 63], [2, 13, 64, 65], [1, 3, 64, 65], [1, 3, 16, 66], [1, 3, 16, 66], [1, 3, 16, 67], [1, 3, 16, 67], [1, 3, 10, 68], [2, 69, 70, 29, 10, 68], [2, 13, 5, 24, 71, 39, 72], [1, 3, 5, 24, 71, 39, 72], [1, 3, 16, 73], [2, 12, 4, 74, 7, 16, 73], [2, 13, 17, 24], [9, 17, 24, 19], [9, 148, 149, 75, 17, 24], [9, 150, 17, 24], [9, 40, 22, 41, 151], [35, 4, 152, 40, 22, 41], [1, 3, 40, 22, 41], [1, 3, 5, 42], [2, 69, 153, 5, 42], [9, 5, 42, 20], [1, 3, 5, 76, 15], [9, 5, 76, 15, 20, 75, 154], [2, 13, 155], [1, 3, 5, 10, 77], [2, 12, 4, 78, 43, 5, 10, 77], [1, 3, 11, 5, 156], [1, 3, 30, 157, 158, 79], [1, 3, 80, 81], [2, 159, 70, 29, 80, 81], [9, 160, 161, 20], [1, 3, 5, 14], [2, 12, 4, 74, 43, 5, 14], [9, 17, 162, 163, 19], [1, 3, 82, 83], [2, 12, 4, 84, 7, 82, 83], [2, 4, 6, 8, 43, 85, 86], [9, 85, 86, 19], [2, 4, 6, 8, 7, 30, 164, 87, 44, 88, 45], [36, 89, 165, 30, 166, 87, 44, 88, 45], [1, 3, 30, 167, 168], [1, 3, 46, 90], [2, 12, 4, 84, 29, 169, 90], [170], [2, 12, 4, 6, 8, 7, 17, 10, 171], [1, 3, 91, 15, 31], [9, 91, 15, 31, 38], [1, 3, 172, 31, 10, 173], [2, 4, 6, 8, 7, 92, 93, 47], [1, 3, 11, 92, 93, 47], [2, 4, 6, 8, 7, 44, 174, 175, 15], [2, 4, 6, 8, 7, 5, 94, 95, 96, 97, 98, 99, 100], [1, 3, 11, 5, 94, 95, 96, 97, 98, 99, 100], [2, 4, 6, 8, 7, 32, 14, 15], [1, 3, 11, 32, 14, 15], [2, 4, 6, 8, 7, 5, 101, 33], [1, 3, 11, 5, 101, 33], [2, 4, 6, 8, 7, 102, 103, 104], [1, 3, 11, 102, 103, 104], [1, 3, 11, 18, 105, 106], [2, 176, 55, 177, 29, 18, 105, 106], [2, 4, 6, 8, 7, 33, 178, 39, 179], [1, 3, 16, 107, 108], [2, 4, 6, 21, 7, 16, 107, 108], [1, 3, 10, 46, 109], [2, 4, 6, 21, 7, 10, 46, 109], [11, 10, 180, 181, 1], [1, 3, 11, 32, 15, 110], [2, 12, 4, 6, 21, 7, 32, 15, 110], [1, 3, 5, 111, 112], [9, 5, 111, 112, 20], [1, 3, 33, 182], [1, 3, 183, 184], [2, 4, 6, 21, 7, 113, 114], [1, 113, 114, 25], [185, 11, 115, 116], [2, 12, 4, 6, 8, 7, 115, 116], [186, 3, 10, 117, 118], [2, 12, 187, 4, 78, 7, 10, 117, 118], [9, 188, 189, 190, 191, 19], [2, 4, 6, 8, 7, 34, 26], [1, 34, 26, 6, 8], [1, 3, 10, 192], [1, 3, 5, 119, 120], [9, 48, 49, 5, 119, 120], [1, 5, 121, 6, 8], [9, 5, 121, 19], [1, 11, 10, 122, 123, 124], [2, 12, 4, 6, 21, 7, 10, 122, 123, 124], [1, 11, 5, 125, 14, 25], [2, 4, 6, 8, 7, 5, 125, 14], [1, 5, 126, 127, 128, 129, 6, 8], [9, 48, 49, 5, 126, 127, 128, 129], [2, 4, 6, 21, 7, 5, 130, 131], [1, 3, 5, 130, 131], [1, 11, 5, 132], [9, 48, 49, 5, 132], [1, 11, 193, 194, 79], [1, 11, 17, 133, 134], [2, 12, 4, 6, 8, 7, 17, 133, 134], [2, 4, 6, 8, 7, 195, 196], [1, 11, 47, 197, 198, 45], [1, 3, 31, 199, 200], [1, 3, 135, 136, 34, 137, 138], [36, 89, 201, 202, 135, 136, 34, 137, 138], [9, 5, 139, 20], [2, 4, 6, 8, 7, 5, 139], [2, 12, 4, 6, 8, 7, 203, 5, 140, 23], [1, 5, 140, 23, 6, 8], [2, 4, 6, 8, 7, 204, 205], [1, 10, 206, 6, 8], [9, 10, 50, 141, 19], [2, 207, 4, 6, 21, 7, 50, 141, 19], [1, 3, 50, 22, 208], [1, 3, 10, 51], [9, 10, 51, 38], [2, 12, 4, 6, 8, 7, 10, 51], [9, 209, 15, 20], [9, 5, 142, 143, 20], [1, 11, 5, 142, 143]]\n",
            "(143, 20)\n"
          ]
        }
      ]
    },
    {
      "cell_type": "markdown",
      "source": [
        "> Transformasi data target yang berisi id tempat wisata menjadi data kategorikal"
      ],
      "metadata": {
        "id": "ewgvvz7WOWMY"
      },
      "id": "ewgvvz7WOWMY"
    },
    {
      "cell_type": "code",
      "source": [
        "Y = pd.get_dummies(data_klasifikasi['Place_Id']).values\n",
        "Y.shape"
      ],
      "metadata": {
        "colab": {
          "base_uri": "https://localhost:8080/"
        },
        "id": "_lYC2Iofhvh4",
        "outputId": "709016aa-8bd5-4ad4-a605-c38dc29322fc"
      },
      "id": "_lYC2Iofhvh4",
      "execution_count": null,
      "outputs": [
        {
          "output_type": "execute_result",
          "data": {
            "text/plain": [
              "(143, 80)"
            ]
          },
          "metadata": {},
          "execution_count": 35
        }
      ]
    },
    {
      "cell_type": "code",
      "source": [
        "Y"
      ],
      "metadata": {
        "colab": {
          "base_uri": "https://localhost:8080/"
        },
        "id": "sOX-FmrIZXcx",
        "outputId": "f68f7d0c-aaef-4cee-d62d-6a1ef7cf91f4"
      },
      "id": "sOX-FmrIZXcx",
      "execution_count": null,
      "outputs": [
        {
          "output_type": "execute_result",
          "data": {
            "text/plain": [
              "array([[1, 0, 0, ..., 0, 0, 0],\n",
              "       [1, 0, 0, ..., 0, 0, 0],\n",
              "       [1, 0, 0, ..., 0, 0, 0],\n",
              "       ...,\n",
              "       [0, 0, 0, ..., 1, 0, 0],\n",
              "       [0, 0, 0, ..., 0, 0, 1],\n",
              "       [0, 0, 0, ..., 0, 0, 1]], dtype=uint8)"
            ]
          },
          "metadata": {},
          "execution_count": 36
        }
      ]
    },
    {
      "cell_type": "markdown",
      "source": [
        "> Pembagian data training dan testing"
      ],
      "metadata": {
        "id": "PGx-mBvCOjAD"
      },
      "id": "PGx-mBvCOjAD"
    },
    {
      "cell_type": "code",
      "source": [
        "X_train, X_test, Y_train, Y_test = train_test_split(X,Y,test_size=0.2, random_state=0)"
      ],
      "metadata": {
        "id": "7fnG8UNuiC-u"
      },
      "id": "7fnG8UNuiC-u",
      "execution_count": null,
      "outputs": []
    },
    {
      "cell_type": "markdown",
      "source": [
        "## Konfigurasi Model dan Training"
      ],
      "metadata": {
        "id": "L-m3Cd9lPb_J"
      },
      "id": "L-m3Cd9lPb_J"
    },
    {
      "cell_type": "code",
      "source": [
        "%%time\n",
        "# Inisialisasi model menggunakan LSTM\n",
        "\n",
        "input = tf.keras.layers.Input(shape=X.shape[1])\n",
        "embed = tf.keras.layers.Embedding(10000,10000, input_length = X.shape[1])(input)\n",
        "lstm = tf.keras.layers.LSTM(100) (embed)\n",
        "layer_dense = tf.keras.layers.Dense(128, activation=\"elu\", kernel_regularizer=\"l2\")(lstm)\n",
        "layer_dense = tf.keras.layers.BatchNormalization()(layer_dense)\n",
        "layer_dense = tf.keras.layers.Dense(128, activation=\"elu\", kernel_regularizer=\"l2\")(layer_dense)\n",
        "layer_dense = tf.keras.layers.BatchNormalization()(layer_dense)\n",
        "layer_dense = tf.keras.layers.Dense(128, activation=\"elu\", kernel_regularizer=\"l2\")(layer_dense)\n",
        "layer_dense = tf.keras.layers.BatchNormalization()(layer_dense)\n",
        "layer_dense = tf.keras.layers.Dense(128, activation=\"elu\", kernel_regularizer=\"l2\")(layer_dense)\n",
        "\n",
        "layer_dense = tf.keras.layers.Dense(128, activation=\"elu\", kernel_regularizer=\"l2\")(layer_dense)\n",
        "output = tf.keras.layers.Dense(Y.shape[1], activation='softmax')(layer_dense)\n",
        "\n",
        "\n",
        "model = tf.keras.Model(inputs=input, outputs=output)\n",
        "model.compile(loss='categorical_crossentropy', optimizer='adam', metrics=[tf.keras.metrics.CategoricalAccuracy(name=\"accuracy\")])\n",
        "\n",
        "epochs = 25\n",
        "batch_size = 16\n",
        "history = model.fit(X_train, Y_train, epochs=epochs, batch_size=batch_size,validation_split=0.1)"
      ],
      "metadata": {
        "colab": {
          "base_uri": "https://localhost:8080/"
        },
        "id": "7LrVkKWdiNEJ",
        "outputId": "f640645f-9a59-4939-bb30-706bf2faec85"
      },
      "id": "7LrVkKWdiNEJ",
      "execution_count": null,
      "outputs": [
        {
          "output_type": "stream",
          "name": "stdout",
          "text": [
            "Epoch 1/25\n",
            "7/7 [==============================] - 4s 165ms/step - loss: 10.4492 - accuracy: 0.0882 - val_loss: 10.5167 - val_accuracy: 0.0833\n",
            "Epoch 2/25\n",
            "7/7 [==============================] - 0s 65ms/step - loss: 8.4586 - accuracy: 0.6569 - val_loss: 10.3374 - val_accuracy: 0.1667\n",
            "Epoch 3/25\n",
            "7/7 [==============================] - 0s 66ms/step - loss: 7.5474 - accuracy: 0.8137 - val_loss: 10.1283 - val_accuracy: 0.2500\n",
            "Epoch 4/25\n",
            "7/7 [==============================] - 0s 68ms/step - loss: 6.9580 - accuracy: 0.9216 - val_loss: 9.9261 - val_accuracy: 0.2500\n",
            "Epoch 5/25\n",
            "7/7 [==============================] - 0s 68ms/step - loss: 6.5167 - accuracy: 0.9510 - val_loss: 9.7388 - val_accuracy: 0.2500\n",
            "Epoch 6/25\n",
            "7/7 [==============================] - 0s 68ms/step - loss: 6.2114 - accuracy: 0.9804 - val_loss: 9.5185 - val_accuracy: 0.4167\n",
            "Epoch 7/25\n",
            "7/7 [==============================] - 0s 68ms/step - loss: 6.0103 - accuracy: 0.9804 - val_loss: 9.2997 - val_accuracy: 0.4167\n",
            "Epoch 8/25\n",
            "7/7 [==============================] - 0s 69ms/step - loss: 5.7545 - accuracy: 0.9902 - val_loss: 9.1099 - val_accuracy: 0.4167\n",
            "Epoch 9/25\n",
            "7/7 [==============================] - 0s 68ms/step - loss: 5.5688 - accuracy: 0.9902 - val_loss: 8.9333 - val_accuracy: 0.5000\n",
            "Epoch 10/25\n",
            "7/7 [==============================] - 0s 69ms/step - loss: 5.4100 - accuracy: 0.9902 - val_loss: 8.7642 - val_accuracy: 0.5833\n",
            "Epoch 11/25\n",
            "7/7 [==============================] - 0s 67ms/step - loss: 5.2595 - accuracy: 0.9902 - val_loss: 8.6169 - val_accuracy: 0.5833\n",
            "Epoch 12/25\n",
            "7/7 [==============================] - 0s 67ms/step - loss: 5.1002 - accuracy: 0.9902 - val_loss: 8.4660 - val_accuracy: 0.5833\n",
            "Epoch 13/25\n",
            "7/7 [==============================] - 0s 67ms/step - loss: 4.9666 - accuracy: 0.9804 - val_loss: 8.3139 - val_accuracy: 0.5833\n",
            "Epoch 14/25\n",
            "7/7 [==============================] - 0s 67ms/step - loss: 4.8104 - accuracy: 0.9902 - val_loss: 8.1590 - val_accuracy: 0.5833\n",
            "Epoch 15/25\n",
            "7/7 [==============================] - 0s 66ms/step - loss: 4.6647 - accuracy: 0.9902 - val_loss: 7.9970 - val_accuracy: 0.5833\n",
            "Epoch 16/25\n",
            "7/7 [==============================] - 0s 67ms/step - loss: 4.5418 - accuracy: 0.9902 - val_loss: 7.8444 - val_accuracy: 0.5833\n",
            "Epoch 17/25\n",
            "7/7 [==============================] - 0s 67ms/step - loss: 4.3890 - accuracy: 0.9902 - val_loss: 7.7076 - val_accuracy: 0.5833\n",
            "Epoch 18/25\n",
            "7/7 [==============================] - 0s 67ms/step - loss: 4.2636 - accuracy: 0.9804 - val_loss: 7.5664 - val_accuracy: 0.5833\n",
            "Epoch 19/25\n",
            "7/7 [==============================] - 0s 68ms/step - loss: 4.1426 - accuracy: 0.9804 - val_loss: 7.4103 - val_accuracy: 0.5833\n",
            "Epoch 20/25\n",
            "7/7 [==============================] - 0s 66ms/step - loss: 3.9777 - accuracy: 0.9902 - val_loss: 7.2606 - val_accuracy: 0.5833\n",
            "Epoch 21/25\n",
            "7/7 [==============================] - 0s 66ms/step - loss: 3.8795 - accuracy: 0.9902 - val_loss: 7.1252 - val_accuracy: 0.5833\n",
            "Epoch 22/25\n",
            "7/7 [==============================] - 0s 67ms/step - loss: 3.7132 - accuracy: 0.9902 - val_loss: 6.9911 - val_accuracy: 0.5833\n",
            "Epoch 23/25\n",
            "7/7 [==============================] - 0s 66ms/step - loss: 3.5846 - accuracy: 0.9902 - val_loss: 6.8639 - val_accuracy: 0.5833\n",
            "Epoch 24/25\n",
            "7/7 [==============================] - 0s 66ms/step - loss: 3.4692 - accuracy: 0.9902 - val_loss: 6.7277 - val_accuracy: 0.5833\n",
            "Epoch 25/25\n",
            "7/7 [==============================] - 0s 66ms/step - loss: 3.3424 - accuracy: 0.9902 - val_loss: 6.6251 - val_accuracy: 0.5833\n",
            "CPU times: user 12.6 s, sys: 415 ms, total: 13 s\n",
            "Wall time: 16 s\n"
          ]
        }
      ]
    },
    {
      "cell_type": "code",
      "source": [
        "# Evaluasi LSTM \n",
        "fig, ax = plt.subplots(1, 2)\n",
        "\n",
        "ax[0].plot(history.history['loss'], label='train')\n",
        "ax[0].plot(history.history['val_loss'], label='test')\n",
        "ax[0].title.set_text('Evaluasi Loss')\n",
        "ax[0].set_xlabel(\"Epochs\")\n",
        "ax[0].set_ylabel(\"Loss\")\n",
        "ax[0].legend(loc=\"upper right\")\n",
        "\n",
        "\n",
        "\n",
        "ax[1].plot(history.history['accuracy'], label='train')\n",
        "ax[1].plot(history.history['val_accuracy'], label='test')\n",
        "ax[1].title.set_text('Evaluasi Akurasi')\n",
        "ax[1].set_xlabel(\"Epochs\")\n",
        "ax[1].set_ylabel(\"Akurasi\")\n",
        "ax[1].legend(loc=\"upper right\")\n",
        "\n",
        "plt.tight_layout()\n",
        "plt.show();"
      ],
      "metadata": {
        "colab": {
          "base_uri": "https://localhost:8080/",
          "height": 297
        },
        "id": "Jt5G4m8giYOI",
        "outputId": "a5ca5a7a-6661-4d0d-9f16-208010e6d050"
      },
      "id": "Jt5G4m8giYOI",
      "execution_count": null,
      "outputs": [
        {
          "output_type": "display_data",
          "data": {
            "text/plain": [
              "<Figure size 432x288 with 2 Axes>"
            ],
            "image/png": "[encoded data removed]"
          },
          "metadata": {
            "needs_background": "light"
          }
        }
      ]
    },
    {
      "cell_type": "markdown",
      "source": [
        "> Adapun akurasi yang di dapatkan berkisar antara 50% sampai 58.3% untuk beberapa kali percobaan"
      ],
      "metadata": {
        "id": "zIjnsNoLBIl_"
      },
      "id": "zIjnsNoLBIl_"
    },
    {
      "cell_type": "code",
      "source": [
        "model.save(\"/content/drive/MyDrive/Colab Notebooks/PA/saved_model_clasif/ClassificationLSTM.h5\")"
      ],
      "metadata": {
        "id": "Qe3PdifaIebM"
      },
      "id": "Qe3PdifaIebM",
      "execution_count": null,
      "outputs": []
    },
    {
      "cell_type": "code",
      "source": [
        "import tensorflow as tf\n",
        "from IPython.display import SVG\n",
        "from keras.utils.vis_utils import model_to_dot\n",
        "\n",
        "\n",
        "model = tf.keras.models.load_model('/content/drive/MyDrive/Colab Notebooks/PA/saved_model_clasif/ClassificationLSTM.h5')\n",
        "\n",
        "SVG(model_to_dot(model, show_shapes= True, show_layer_names=True, dpi=65).create(prog='dot', format='svg'))"
      ],
      "metadata": {
        "colab": {
          "base_uri": "https://localhost:8080/",
          "height": 886
        },
        "id": "lL-UBQkryliu",
        "outputId": "9754bc85-c187-4a1c-e72a-73db3f5a2cbf"
      },
      "id": "lL-UBQkryliu",
      "execution_count": null,
      "outputs": [
        {
          "output_type": "execute_result",
          "data": {
            "text/plain": [
              "<IPython.core.display.SVG object>"
            ],
            "image/svg+xml": "<svg height=\"649pt\" viewBox=\"0.00 0.00 375.00 719.00\" width=\"339pt\" xmlns=\"http://www.w3.org/2000/svg\" xmlns:xlink=\"http://www.w3.org/1999/xlink\">\n<g class=\"graph\" id=\"graph0\" transform=\"scale(.9028 .9028) rotate(0) translate(4 715)\">\n<title>G</title>\n<polygon fill=\"#ffffff\" points=\"-4,4 -4,-715 371,-715 371,4 -4,4\" stroke=\"transparent\"/>\n<!-- 139899762169616 -->\n<g class=\"node\" id=\"node1\">\n<title>139899762169616</title>\n<polygon fill=\"none\" points=\"25.5,-664.5 25.5,-710.5 341.5,-710.5 341.5,-664.5 25.5,-664.5\" stroke=\"#000000\"/>\n<text fill=\"#000000\" font-family=\"Times,serif\" font-size=\"14.00\" text-anchor=\"middle\" x=\"65.5\" y=\"-695.3\">input_7</text>\n<polyline fill=\"none\" points=\"25.5,-687.5 105.5,-687.5 \" stroke=\"#000000\"/>\n<text fill=\"#000000\" font-family=\"Times,serif\" font-size=\"14.00\" text-anchor=\"middle\" x=\"65.5\" y=\"-672.3\">InputLayer</text>\n<polyline fill=\"none\" points=\"105.5,-664.5 105.5,-710.5 \" stroke=\"#000000\"/>\n<text fill=\"#000000\" font-family=\"Times,serif\" font-size=\"14.00\" text-anchor=\"middle\" x=\"134.5\" y=\"-695.3\">input:</text>\n<polyline fill=\"none\" points=\"105.5,-687.5 163.5,-687.5 \" stroke=\"#000000\"/>\n<text fill=\"#000000\" font-family=\"Times,serif\" font-size=\"14.00\" text-anchor=\"middle\" x=\"134.5\" y=\"-672.3\">output:</text>\n<polyline fill=\"none\" points=\"163.5,-664.5 163.5,-710.5 \" stroke=\"#000000\"/>\n<text fill=\"#000000\" font-family=\"Times,serif\" font-size=\"14.00\" text-anchor=\"middle\" x=\"208\" y=\"-683.8\">[(None, 20)]</text>\n<polyline fill=\"none\" points=\"252.5,-664.5 252.5,-710.5 \" stroke=\"#000000\"/>\n<text fill=\"#000000\" font-family=\"Times,serif\" font-size=\"14.00\" text-anchor=\"middle\" x=\"297\" y=\"-683.8\">[(None, 20)]</text>\n</g>\n<!-- 139899760852880 -->\n<g class=\"node\" id=\"node2\">\n<title>139899760852880</title>\n<polygon fill=\"none\" points=\"0,-581.5 0,-627.5 367,-627.5 367,-581.5 0,-581.5\" stroke=\"#000000\"/>\n<text fill=\"#000000\" font-family=\"Times,serif\" font-size=\"14.00\" text-anchor=\"middle\" x=\"52\" y=\"-612.3\">embedding_14</text>\n<polyline fill=\"none\" points=\"0,-604.5 104,-604.5 \" stroke=\"#000000\"/>\n<text fill=\"#000000\" font-family=\"Times,serif\" font-size=\"14.00\" text-anchor=\"middle\" x=\"52\" y=\"-589.3\">Embedding</text>\n<polyline fill=\"none\" points=\"104,-581.5 104,-627.5 \" stroke=\"#000000\"/>\n<text fill=\"#000000\" font-family=\"Times,serif\" font-size=\"14.00\" text-anchor=\"middle\" x=\"133\" y=\"-612.3\">input:</text>\n<polyline fill=\"none\" points=\"104,-604.5 162,-604.5 \" stroke=\"#000000\"/>\n<text fill=\"#000000\" font-family=\"Times,serif\" font-size=\"14.00\" text-anchor=\"middle\" x=\"133\" y=\"-589.3\">output:</text>\n<polyline fill=\"none\" points=\"162,-581.5 162,-627.5 \" stroke=\"#000000\"/>\n<text fill=\"#000000\" font-family=\"Times,serif\" font-size=\"14.00\" text-anchor=\"middle\" x=\"202\" y=\"-600.8\">(None, 20)</text>\n<polyline fill=\"none\" points=\"242,-581.5 242,-627.5 \" stroke=\"#000000\"/>\n<text fill=\"#000000\" font-family=\"Times,serif\" font-size=\"14.00\" text-anchor=\"middle\" x=\"304.5\" y=\"-600.8\">(None, 20, 10000)</text>\n</g>\n<!-- 139899762169616&#45;&gt;139899760852880 -->\n<g class=\"edge\" id=\"edge1\">\n<title>139899762169616-&gt;139899760852880</title>\n<path d=\"M183.5,-664.3799C183.5,-656.1745 183.5,-646.7679 183.5,-637.8786\" fill=\"none\" stroke=\"#000000\"/>\n<polygon fill=\"#000000\" points=\"187.0001,-637.784 183.5,-627.784 180.0001,-637.784 187.0001,-637.784\" stroke=\"#000000\"/>\n</g>\n<!-- 139899765697872 -->\n<g class=\"node\" id=\"node3\">\n<title>139899765697872</title>\n<polygon fill=\"none\" points=\"17,-498.5 17,-544.5 350,-544.5 350,-498.5 17,-498.5\" stroke=\"#000000\"/>\n<text fill=\"#000000\" font-family=\"Times,serif\" font-size=\"14.00\" text-anchor=\"middle\" x=\"48.5\" y=\"-529.3\">lstm_14</text>\n<polyline fill=\"none\" points=\"17,-521.5 80,-521.5 \" stroke=\"#000000\"/>\n<text fill=\"#000000\" font-family=\"Times,serif\" font-size=\"14.00\" text-anchor=\"middle\" x=\"48.5\" y=\"-506.3\">LSTM</text>\n<polyline fill=\"none\" points=\"80,-498.5 80,-544.5 \" stroke=\"#000000\"/>\n<text fill=\"#000000\" font-family=\"Times,serif\" font-size=\"14.00\" text-anchor=\"middle\" x=\"109\" y=\"-529.3\">input:</text>\n<polyline fill=\"none\" points=\"80,-521.5 138,-521.5 \" stroke=\"#000000\"/>\n<text fill=\"#000000\" font-family=\"Times,serif\" font-size=\"14.00\" text-anchor=\"middle\" x=\"109\" y=\"-506.3\">output:</text>\n<polyline fill=\"none\" points=\"138,-498.5 138,-544.5 \" stroke=\"#000000\"/>\n<text fill=\"#000000\" font-family=\"Times,serif\" font-size=\"14.00\" text-anchor=\"middle\" x=\"200.5\" y=\"-517.8\">(None, 20, 10000)</text>\n<polyline fill=\"none\" points=\"263,-498.5 263,-544.5 \" stroke=\"#000000\"/>\n<text fill=\"#000000\" font-family=\"Times,serif\" font-size=\"14.00\" text-anchor=\"middle\" x=\"306.5\" y=\"-517.8\">(None, 100)</text>\n</g>\n<!-- 139899760852880&#45;&gt;139899765697872 -->\n<g class=\"edge\" id=\"edge2\">\n<title>139899760852880-&gt;139899765697872</title>\n<path d=\"M183.5,-581.3799C183.5,-573.1745 183.5,-563.7679 183.5,-554.8786\" fill=\"none\" stroke=\"#000000\"/>\n<polygon fill=\"#000000\" points=\"187.0001,-554.784 183.5,-544.784 180.0001,-554.784 187.0001,-554.784\" stroke=\"#000000\"/>\n</g>\n<!-- 139899761920848 -->\n<g class=\"node\" id=\"node4\">\n<title>139899761920848</title>\n<polygon fill=\"none\" points=\"32,-415.5 32,-461.5 335,-461.5 335,-415.5 32,-415.5\" stroke=\"#000000\"/>\n<text fill=\"#000000\" font-family=\"Times,serif\" font-size=\"14.00\" text-anchor=\"middle\" x=\"67.5\" y=\"-446.3\">dense_61</text>\n<polyline fill=\"none\" points=\"32,-438.5 103,-438.5 \" stroke=\"#000000\"/>\n<text fill=\"#000000\" font-family=\"Times,serif\" font-size=\"14.00\" text-anchor=\"middle\" x=\"67.5\" y=\"-423.3\">Dense</text>\n<polyline fill=\"none\" points=\"103,-415.5 103,-461.5 \" stroke=\"#000000\"/>\n<text fill=\"#000000\" font-family=\"Times,serif\" font-size=\"14.00\" text-anchor=\"middle\" x=\"132\" y=\"-446.3\">input:</text>\n<polyline fill=\"none\" points=\"103,-438.5 161,-438.5 \" stroke=\"#000000\"/>\n<text fill=\"#000000\" font-family=\"Times,serif\" font-size=\"14.00\" text-anchor=\"middle\" x=\"132\" y=\"-423.3\">output:</text>\n<polyline fill=\"none\" points=\"161,-415.5 161,-461.5 \" stroke=\"#000000\"/>\n<text fill=\"#000000\" font-family=\"Times,serif\" font-size=\"14.00\" text-anchor=\"middle\" x=\"204.5\" y=\"-434.8\">(None, 100)</text>\n<polyline fill=\"none\" points=\"248,-415.5 248,-461.5 \" stroke=\"#000000\"/>\n<text fill=\"#000000\" font-family=\"Times,serif\" font-size=\"14.00\" text-anchor=\"middle\" x=\"291.5\" y=\"-434.8\">(None, 128)</text>\n</g>\n<!-- 139899765697872&#45;&gt;139899761920848 -->\n<g class=\"edge\" id=\"edge3\">\n<title>139899765697872-&gt;139899761920848</title>\n<path d=\"M183.5,-498.3799C183.5,-490.1745 183.5,-480.7679 183.5,-471.8786\" fill=\"none\" stroke=\"#000000\"/>\n<polygon fill=\"#000000\" points=\"187.0001,-471.784 183.5,-461.784 180.0001,-471.784 187.0001,-471.784\" stroke=\"#000000\"/>\n</g>\n<!-- 139899751653264 -->\n<g class=\"node\" id=\"node5\">\n<title>139899751653264</title>\n<polygon fill=\"none\" points=\"32,-332.5 32,-378.5 335,-378.5 335,-332.5 32,-332.5\" stroke=\"#000000\"/>\n<text fill=\"#000000\" font-family=\"Times,serif\" font-size=\"14.00\" text-anchor=\"middle\" x=\"67.5\" y=\"-363.3\">dense_62</text>\n<polyline fill=\"none\" points=\"32,-355.5 103,-355.5 \" stroke=\"#000000\"/>\n<text fill=\"#000000\" font-family=\"Times,serif\" font-size=\"14.00\" text-anchor=\"middle\" x=\"67.5\" y=\"-340.3\">Dense</text>\n<polyline fill=\"none\" points=\"103,-332.5 103,-378.5 \" stroke=\"#000000\"/>\n<text fill=\"#000000\" font-family=\"Times,serif\" font-size=\"14.00\" text-anchor=\"middle\" x=\"132\" y=\"-363.3\">input:</text>\n<polyline fill=\"none\" points=\"103,-355.5 161,-355.5 \" stroke=\"#000000\"/>\n<text fill=\"#000000\" font-family=\"Times,serif\" font-size=\"14.00\" text-anchor=\"middle\" x=\"132\" y=\"-340.3\">output:</text>\n<polyline fill=\"none\" points=\"161,-332.5 161,-378.5 \" stroke=\"#000000\"/>\n<text fill=\"#000000\" font-family=\"Times,serif\" font-size=\"14.00\" text-anchor=\"middle\" x=\"204.5\" y=\"-351.8\">(None, 128)</text>\n<polyline fill=\"none\" points=\"248,-332.5 248,-378.5 \" stroke=\"#000000\"/>\n<text fill=\"#000000\" font-family=\"Times,serif\" font-size=\"14.00\" text-anchor=\"middle\" x=\"291.5\" y=\"-351.8\">(None, 128)</text>\n</g>\n<!-- 139899761920848&#45;&gt;139899751653264 -->\n<g class=\"edge\" id=\"edge4\">\n<title>139899761920848-&gt;139899751653264</title>\n<path d=\"M183.5,-415.3799C183.5,-407.1745 183.5,-397.7679 183.5,-388.8786\" fill=\"none\" stroke=\"#000000\"/>\n<polygon fill=\"#000000\" points=\"187.0001,-388.784 183.5,-378.784 180.0001,-388.784 187.0001,-388.784\" stroke=\"#000000\"/>\n</g>\n<!-- 139899751404176 -->\n<g class=\"node\" id=\"node6\">\n<title>139899751404176</title>\n<polygon fill=\"none\" points=\"32,-249.5 32,-295.5 335,-295.5 335,-249.5 32,-249.5\" stroke=\"#000000\"/>\n<text fill=\"#000000\" font-family=\"Times,serif\" font-size=\"14.00\" text-anchor=\"middle\" x=\"67.5\" y=\"-280.3\">dense_63</text>\n<polyline fill=\"none\" points=\"32,-272.5 103,-272.5 \" stroke=\"#000000\"/>\n<text fill=\"#000000\" font-family=\"Times,serif\" font-size=\"14.00\" text-anchor=\"middle\" x=\"67.5\" y=\"-257.3\">Dense</text>\n<polyline fill=\"none\" points=\"103,-249.5 103,-295.5 \" stroke=\"#000000\"/>\n<text fill=\"#000000\" font-family=\"Times,serif\" font-size=\"14.00\" text-anchor=\"middle\" x=\"132\" y=\"-280.3\">input:</text>\n<polyline fill=\"none\" points=\"103,-272.5 161,-272.5 \" stroke=\"#000000\"/>\n<text fill=\"#000000\" font-family=\"Times,serif\" font-size=\"14.00\" text-anchor=\"middle\" x=\"132\" y=\"-257.3\">output:</text>\n<polyline fill=\"none\" points=\"161,-249.5 161,-295.5 \" stroke=\"#000000\"/>\n<text fill=\"#000000\" font-family=\"Times,serif\" font-size=\"14.00\" text-anchor=\"middle\" x=\"204.5\" y=\"-268.8\">(None, 128)</text>\n<polyline fill=\"none\" points=\"248,-249.5 248,-295.5 \" stroke=\"#000000\"/>\n<text fill=\"#000000\" font-family=\"Times,serif\" font-size=\"14.00\" text-anchor=\"middle\" x=\"291.5\" y=\"-268.8\">(None, 128)</text>\n</g>\n<!-- 139899751653264&#45;&gt;139899751404176 -->\n<g class=\"edge\" id=\"edge5\">\n<title>139899751653264-&gt;139899751404176</title>\n<path d=\"M183.5,-332.3799C183.5,-324.1745 183.5,-314.7679 183.5,-305.8786\" fill=\"none\" stroke=\"#000000\"/>\n<polygon fill=\"#000000\" points=\"187.0001,-305.784 183.5,-295.784 180.0001,-305.784 187.0001,-305.784\" stroke=\"#000000\"/>\n</g>\n<!-- 139899768822096 -->\n<g class=\"node\" id=\"node7\">\n<title>139899768822096</title>\n<polygon fill=\"none\" points=\"32,-166.5 32,-212.5 335,-212.5 335,-166.5 32,-166.5\" stroke=\"#000000\"/>\n<text fill=\"#000000\" font-family=\"Times,serif\" font-size=\"14.00\" text-anchor=\"middle\" x=\"67.5\" y=\"-197.3\">dense_64</text>\n<polyline fill=\"none\" points=\"32,-189.5 103,-189.5 \" stroke=\"#000000\"/>\n<text fill=\"#000000\" font-family=\"Times,serif\" font-size=\"14.00\" text-anchor=\"middle\" x=\"67.5\" y=\"-174.3\">Dense</text>\n<polyline fill=\"none\" points=\"103,-166.5 103,-212.5 \" stroke=\"#000000\"/>\n<text fill=\"#000000\" font-family=\"Times,serif\" font-size=\"14.00\" text-anchor=\"middle\" x=\"132\" y=\"-197.3\">input:</text>\n<polyline fill=\"none\" points=\"103,-189.5 161,-189.5 \" stroke=\"#000000\"/>\n<text fill=\"#000000\" font-family=\"Times,serif\" font-size=\"14.00\" text-anchor=\"middle\" x=\"132\" y=\"-174.3\">output:</text>\n<polyline fill=\"none\" points=\"161,-166.5 161,-212.5 \" stroke=\"#000000\"/>\n<text fill=\"#000000\" font-family=\"Times,serif\" font-size=\"14.00\" text-anchor=\"middle\" x=\"204.5\" y=\"-185.8\">(None, 128)</text>\n<polyline fill=\"none\" points=\"248,-166.5 248,-212.5 \" stroke=\"#000000\"/>\n<text fill=\"#000000\" font-family=\"Times,serif\" font-size=\"14.00\" text-anchor=\"middle\" x=\"291.5\" y=\"-185.8\">(None, 128)</text>\n</g>\n<!-- 139899751404176&#45;&gt;139899768822096 -->\n<g class=\"edge\" id=\"edge6\">\n<title>139899751404176-&gt;139899768822096</title>\n<path d=\"M183.5,-249.3799C183.5,-241.1745 183.5,-231.7679 183.5,-222.8786\" fill=\"none\" stroke=\"#000000\"/>\n<polygon fill=\"#000000\" points=\"187.0001,-222.784 183.5,-212.784 180.0001,-222.784 187.0001,-222.784\" stroke=\"#000000\"/>\n</g>\n<!-- 139899751406288 -->\n<g class=\"node\" id=\"node8\">\n<title>139899751406288</title>\n<polygon fill=\"none\" points=\"32,-83.5 32,-129.5 335,-129.5 335,-83.5 32,-83.5\" stroke=\"#000000\"/>\n<text fill=\"#000000\" font-family=\"Times,serif\" font-size=\"14.00\" text-anchor=\"middle\" x=\"67.5\" y=\"-114.3\">dense_65</text>\n<polyline fill=\"none\" points=\"32,-106.5 103,-106.5 \" stroke=\"#000000\"/>\n<text fill=\"#000000\" font-family=\"Times,serif\" font-size=\"14.00\" text-anchor=\"middle\" x=\"67.5\" y=\"-91.3\">Dense</text>\n<polyline fill=\"none\" points=\"103,-83.5 103,-129.5 \" stroke=\"#000000\"/>\n<text fill=\"#000000\" font-family=\"Times,serif\" font-size=\"14.00\" text-anchor=\"middle\" x=\"132\" y=\"-114.3\">input:</text>\n<polyline fill=\"none\" points=\"103,-106.5 161,-106.5 \" stroke=\"#000000\"/>\n<text fill=\"#000000\" font-family=\"Times,serif\" font-size=\"14.00\" text-anchor=\"middle\" x=\"132\" y=\"-91.3\">output:</text>\n<polyline fill=\"none\" points=\"161,-83.5 161,-129.5 \" stroke=\"#000000\"/>\n<text fill=\"#000000\" font-family=\"Times,serif\" font-size=\"14.00\" text-anchor=\"middle\" x=\"204.5\" y=\"-102.8\">(None, 128)</text>\n<polyline fill=\"none\" points=\"248,-83.5 248,-129.5 \" stroke=\"#000000\"/>\n<text fill=\"#000000\" font-family=\"Times,serif\" font-size=\"14.00\" text-anchor=\"middle\" x=\"291.5\" y=\"-102.8\">(None, 128)</text>\n</g>\n<!-- 139899768822096&#45;&gt;139899751406288 -->\n<g class=\"edge\" id=\"edge7\">\n<title>139899768822096-&gt;139899751406288</title>\n<path d=\"M183.5,-166.3799C183.5,-158.1745 183.5,-148.7679 183.5,-139.8786\" fill=\"none\" stroke=\"#000000\"/>\n<polygon fill=\"#000000\" points=\"187.0001,-139.784 183.5,-129.784 180.0001,-139.784 187.0001,-139.784\" stroke=\"#000000\"/>\n</g>\n<!-- 139899751407312 -->\n<g class=\"node\" id=\"node9\">\n<title>139899751407312</title>\n<polygon fill=\"none\" points=\"35.5,-.5 35.5,-46.5 331.5,-46.5 331.5,-.5 35.5,-.5\" stroke=\"#000000\"/>\n<text fill=\"#000000\" font-family=\"Times,serif\" font-size=\"14.00\" text-anchor=\"middle\" x=\"71\" y=\"-31.3\">dense_66</text>\n<polyline fill=\"none\" points=\"35.5,-23.5 106.5,-23.5 \" stroke=\"#000000\"/>\n<text fill=\"#000000\" font-family=\"Times,serif\" font-size=\"14.00\" text-anchor=\"middle\" x=\"71\" y=\"-8.3\">Dense</text>\n<polyline fill=\"none\" points=\"106.5,-.5 106.5,-46.5 \" stroke=\"#000000\"/>\n<text fill=\"#000000\" font-family=\"Times,serif\" font-size=\"14.00\" text-anchor=\"middle\" x=\"135.5\" y=\"-31.3\">input:</text>\n<polyline fill=\"none\" points=\"106.5,-23.5 164.5,-23.5 \" stroke=\"#000000\"/>\n<text fill=\"#000000\" font-family=\"Times,serif\" font-size=\"14.00\" text-anchor=\"middle\" x=\"135.5\" y=\"-8.3\">output:</text>\n<polyline fill=\"none\" points=\"164.5,-.5 164.5,-46.5 \" stroke=\"#000000\"/>\n<text fill=\"#000000\" font-family=\"Times,serif\" font-size=\"14.00\" text-anchor=\"middle\" x=\"208\" y=\"-19.8\">(None, 128)</text>\n<polyline fill=\"none\" points=\"251.5,-.5 251.5,-46.5 \" stroke=\"#000000\"/>\n<text fill=\"#000000\" font-family=\"Times,serif\" font-size=\"14.00\" text-anchor=\"middle\" x=\"291.5\" y=\"-19.8\">(None, 80)</text>\n</g>\n<!-- 139899751406288&#45;&gt;139899751407312 -->\n<g class=\"edge\" id=\"edge8\">\n<title>139899751406288-&gt;139899751407312</title>\n<path d=\"M183.5,-83.3799C183.5,-75.1745 183.5,-65.7679 183.5,-56.8786\" fill=\"none\" stroke=\"#000000\"/>\n<polygon fill=\"#000000\" points=\"187.0001,-56.784 183.5,-46.784 180.0001,-56.784 187.0001,-56.784\" stroke=\"#000000\"/>\n</g>\n</g>\n</svg>"
          },
          "metadata": {},
          "execution_count": 4
        }
      ]
    },
    {
      "cell_type": "markdown",
      "source": [
        "## Model Testing"
      ],
      "metadata": {
        "id": "qiTiNHQ3QkIc"
      },
      "id": "qiTiNHQ3QkIc"
    },
    {
      "cell_type": "code",
      "source": [
        "textContext.head()"
      ],
      "metadata": {
        "colab": {
          "base_uri": "https://localhost:8080/",
          "height": 354
        },
        "id": "F5VLSSRR4Veu",
        "outputId": "fab9566c-e3ed-4c36-d94a-d80aa31bc65e"
      },
      "id": "F5VLSSRR4Veu",
      "execution_count": null,
      "outputs": [
        {
          "output_type": "execute_result",
          "data": {
            "text/plain": [
              "   Unnamed: 0  Place_Id                         Place_Name  \\\n",
              "0           0         1                   Monumen Nasional   \n",
              "1           1         2                           Kota Tua   \n",
              "2           2         3                      Dunia Fantasi   \n",
              "3           3         4  Taman Mini Indonesia Indah (TMII)   \n",
              "4           4         5           Atlantis Water Adventure   \n",
              "\n",
              "                                         Description       Category     City  \\\n",
              "0  Monumen Nasional atau yang populer disingkat d...         Budaya  Jakarta   \n",
              "1  Kota tua di Jakarta, yang juga bernama Kota Tu...         Budaya  Jakarta   \n",
              "2  Dunia Fantasi atau disebut juga Dufan adalah t...  Taman Hiburan  Jakarta   \n",
              "3  Taman Mini Indonesia Indah merupakan suatu kaw...  Taman Hiburan  Jakarta   \n",
              "4  Atlantis Water Adventure atau dikenal dengan A...  Taman Hiburan  Jakarta   \n",
              "\n",
              "      Price  Rating  Time_Minutes  \\\n",
              "0   20000.0     4.6          15.0   \n",
              "1       0.0     4.6          90.0   \n",
              "2  270000.0     4.6         360.0   \n",
              "3   10000.0     4.5           NaN   \n",
              "4   94000.0     4.5          60.0   \n",
              "\n",
              "                                        Coordinate       Lat        Long  \n",
              "0          {'lat': -6.1753924, 'lng': 106.8271528} -6.175392  106.827153  \n",
              "1  {'lat': -6.137644799999999, 'lng': 106.8171245} -6.137645  106.817125  \n",
              "2  {'lat': -6.125312399999999, 'lng': 106.8335377} -6.125312  106.833538  \n",
              "3  {'lat': -6.302445899999999, 'lng': 106.8951559} -6.302446  106.895156  \n",
              "4             {'lat': -6.12419, 'lng': 106.839134} -6.124190  106.839134  "
            ],
            "text/html": [
              "\n",
              "  <div id=\"df-83b67136-7d05-40f4-ab0c-e1875a49eb03\">\n",
              "    <div class=\"colab-df-container\">\n",
              "      <div>\n",
              "<style scoped>\n",
              "    .dataframe tbody tr th:only-of-type {\n",
              "        vertical-align: middle;\n",
              "    }\n",
              "\n",
              "    .dataframe tbody tr th {\n",
              "        vertical-align: top;\n",
              "    }\n",
              "\n",
              "    .dataframe thead th {\n",
              "        text-align: right;\n",
              "    }\n",
              "</style>\n",
              "<table border=\"1\" class=\"dataframe\">\n",
              "  <thead>\n",
              "    <tr style=\"text-align: right;\">\n",
              "      <th></th>\n",
              "      <th>Unnamed: 0</th>\n",
              "      <th>Place_Id</th>\n",
              "      <th>Place_Name</th>\n",
              "      <th>Description</th>\n",
              "      <th>Category</th>\n",
              "      <th>City</th>\n",
              "      <th>Price</th>\n",
              "      <th>Rating</th>\n",
              "      <th>Time_Minutes</th>\n",
              "      <th>Coordinate</th>\n",
              "      <th>Lat</th>\n",
              "      <th>Long</th>\n",
              "    </tr>\n",
              "  </thead>\n",
              "  <tbody>\n",
              "    <tr>\n",
              "      <th>0</th>\n",
              "      <td>0</td>\n",
              "      <td>1</td>\n",
              "      <td>Monumen Nasional</td>\n",
              "      <td>Monumen Nasional atau yang populer disingkat d...</td>\n",
              "      <td>Budaya</td>\n",
              "      <td>Jakarta</td>\n",
              "      <td>20000.0</td>\n",
              "      <td>4.6</td>\n",
              "      <td>15.0</td>\n",
              "      <td>{'lat': -6.1753924, 'lng': 106.8271528}</td>\n",
              "      <td>-6.175392</td>\n",
              "      <td>106.827153</td>\n",
              "    </tr>\n",
              "    <tr>\n",
              "      <th>1</th>\n",
              "      <td>1</td>\n",
              "      <td>2</td>\n",
              "      <td>Kota Tua</td>\n",
              "      <td>Kota tua di Jakarta, yang juga bernama Kota Tu...</td>\n",
              "      <td>Budaya</td>\n",
              "      <td>Jakarta</td>\n",
              "      <td>0.0</td>\n",
              "      <td>4.6</td>\n",
              "      <td>90.0</td>\n",
              "      <td>{'lat': -6.137644799999999, 'lng': 106.8171245}</td>\n",
              "      <td>-6.137645</td>\n",
              "      <td>106.817125</td>\n",
              "    </tr>\n",
              "    <tr>\n",
              "      <th>2</th>\n",
              "      <td>2</td>\n",
              "      <td>3</td>\n",
              "      <td>Dunia Fantasi</td>\n",
              "      <td>Dunia Fantasi atau disebut juga Dufan adalah t...</td>\n",
              "      <td>Taman Hiburan</td>\n",
              "      <td>Jakarta</td>\n",
              "      <td>270000.0</td>\n",
              "      <td>4.6</td>\n",
              "      <td>360.0</td>\n",
              "      <td>{'lat': -6.125312399999999, 'lng': 106.8335377}</td>\n",
              "      <td>-6.125312</td>\n",
              "      <td>106.833538</td>\n",
              "    </tr>\n",
              "    <tr>\n",
              "      <th>3</th>\n",
              "      <td>3</td>\n",
              "      <td>4</td>\n",
              "      <td>Taman Mini Indonesia Indah (TMII)</td>\n",
              "      <td>Taman Mini Indonesia Indah merupakan suatu kaw...</td>\n",
              "      <td>Taman Hiburan</td>\n",
              "      <td>Jakarta</td>\n",
              "      <td>10000.0</td>\n",
              "      <td>4.5</td>\n",
              "      <td>NaN</td>\n",
              "      <td>{'lat': -6.302445899999999, 'lng': 106.8951559}</td>\n",
              "      <td>-6.302446</td>\n",
              "      <td>106.895156</td>\n",
              "    </tr>\n",
              "    <tr>\n",
              "      <th>4</th>\n",
              "      <td>4</td>\n",
              "      <td>5</td>\n",
              "      <td>Atlantis Water Adventure</td>\n",
              "      <td>Atlantis Water Adventure atau dikenal dengan A...</td>\n",
              "      <td>Taman Hiburan</td>\n",
              "      <td>Jakarta</td>\n",
              "      <td>94000.0</td>\n",
              "      <td>4.5</td>\n",
              "      <td>60.0</td>\n",
              "      <td>{'lat': -6.12419, 'lng': 106.839134}</td>\n",
              "      <td>-6.124190</td>\n",
              "      <td>106.839134</td>\n",
              "    </tr>\n",
              "  </tbody>\n",
              "</table>\n",
              "</div>\n",
              "      <button class=\"colab-df-convert\" onclick=\"convertToInteractive('df-83b67136-7d05-40f4-ab0c-e1875a49eb03')\"\n",
              "              title=\"Convert this dataframe to an interactive table.\"\n",
              "              style=\"display:none;\">\n",
              "        \n",
              "  <svg xmlns=\"http://www.w3.org/2000/svg\" height=\"24px\"viewBox=\"0 0 24 24\"\n",
              "       width=\"24px\">\n",
              "    <path d=\"M0 0h24v24H0V0z\" fill=\"none\"/>\n",
              "    <path d=\"M18.56 5.44l.94 2.06.94-2.06 2.06-.94-2.06-.94-.94-2.06-.94 2.06-2.06.94zm-11 1L8.5 8.5l.94-2.06 2.06-.94-2.06-.94L8.5 2.5l-.94 2.06-2.06.94zm10 10l.94 2.06.94-2.06 2.06-.94-2.06-.94-.94-2.06-.94 2.06-2.06.94z\"/><path d=\"M17.41 7.96l-1.37-1.37c-.4-.4-.92-.59-1.43-.59-.52 0-1.04.2-1.43.59L10.3 9.45l-7.72 7.72c-.78.78-.78 2.05 0 2.83L4 21.41c.39.39.9.59 1.41.59.51 0 1.02-.2 1.41-.59l7.78-7.78 2.81-2.81c.8-.78.8-2.07 0-2.86zM5.41 20L4 18.59l7.72-7.72 1.47 1.35L5.41 20z\"/>\n",
              "  </svg>\n",
              "      </button>\n",
              "      \n",
              "  <style>\n",
              "    .colab-df-container {\n",
              "      display:flex;\n",
              "      flex-wrap:wrap;\n",
              "      gap: 12px;\n",
              "    }\n",
              "\n",
              "    .colab-df-convert {\n",
              "      background-color: #E8F0FE;\n",
              "      border: none;\n",
              "      border-radius: 50%;\n",
              "      cursor: pointer;\n",
              "      display: none;\n",
              "      fill: #1967D2;\n",
              "      height: 32px;\n",
              "      padding: 0 0 0 0;\n",
              "      width: 32px;\n",
              "    }\n",
              "\n",
              "    .colab-df-convert:hover {\n",
              "      background-color: #E2EBFA;\n",
              "      box-shadow: 0px 1px 2px rgba(60, 64, 67, 0.3), 0px 1px 3px 1px rgba(60, 64, 67, 0.15);\n",
              "      fill: #174EA6;\n",
              "    }\n",
              "\n",
              "    [theme=dark] .colab-df-convert {\n",
              "      background-color: #3B4455;\n",
              "      fill: #D2E3FC;\n",
              "    }\n",
              "\n",
              "    [theme=dark] .colab-df-convert:hover {\n",
              "      background-color: #434B5C;\n",
              "      box-shadow: 0px 1px 3px 1px rgba(0, 0, 0, 0.15);\n",
              "      filter: drop-shadow(0px 1px 2px rgba(0, 0, 0, 0.3));\n",
              "      fill: #FFFFFF;\n",
              "    }\n",
              "  </style>\n",
              "\n",
              "      <script>\n",
              "        const buttonEl =\n",
              "          document.querySelector('#df-83b67136-7d05-40f4-ab0c-e1875a49eb03 button.colab-df-convert');\n",
              "        buttonEl.style.display =\n",
              "          google.colab.kernel.accessAllowed ? 'block' : 'none';\n",
              "\n",
              "        async function convertToInteractive(key) {\n",
              "          const element = document.querySelector('#df-83b67136-7d05-40f4-ab0c-e1875a49eb03');\n",
              "          const dataTable =\n",
              "            await google.colab.kernel.invokeFunction('convertToInteractive',\n",
              "                                                     [key], {});\n",
              "          if (!dataTable) return;\n",
              "\n",
              "          const docLinkHtml = 'Like what you see? Visit the ' +\n",
              "            '<a target=\"_blank\" href=https://colab.research.google.com/notebooks/data_table.ipynb>data table notebook</a>'\n",
              "            + ' to learn more about interactive tables.';\n",
              "          element.innerHTML = '';\n",
              "          dataTable['output_type'] = 'display_data';\n",
              "          await google.colab.output.renderOutput(dataTable, element);\n",
              "          const docLink = document.createElement('div');\n",
              "          docLink.innerHTML = docLinkHtml;\n",
              "          element.appendChild(docLink);\n",
              "        }\n",
              "      </script>\n",
              "    </div>\n",
              "  </div>\n",
              "  "
            ]
          },
          "metadata": {},
          "execution_count": 41
        }
      ]
    },
    {
      "cell_type": "code",
      "source": [
        "import tensorflow as tf\n",
        "# Import Model Text Classification\n",
        "LSTMKlasifikasi = tf.keras.models.load_model(\"/content/drive/MyDrive/Colab Notebooks/PA/saved_model_clasif/ClassificationLSTM.h5\")\n",
        "\n",
        "# Pengambilan token\n",
        "with open('/content/drive/MyDrive/Colab Notebooks/PA/tokenizerTextClassification.pickle', 'rb') as handle:\n",
        "    tokenizerTC = pickle.load(handle)\n",
        "\n",
        "# Import Model BERT untuk QAS\n",
        "tokenizerBERT = BertTokenizer.from_pretrained(\"/content/drive/MyDrive/Colab Notebooks/PA/best_save_model2\")\n",
        "model = BertForQuestionAnswering.from_pretrained(\"/content/drive/MyDrive/Colab Notebooks/PA/best_save_model2\")"
      ],
      "metadata": {
        "id": "HCnXTtOsrOMS"
      },
      "id": "HCnXTtOsrOMS",
      "execution_count": null,
      "outputs": []
    },
    {
      "cell_type": "code",
      "source": [
        "\"\"\"\n",
        "  Sebelum digunakan, konteks (deskripsi tempat wisata) \n",
        "  akan dibersihkan dari emoji, dan pattern url. Selain itu\n",
        "  akan dilakukan casefolding untuk mentransformasikan huruf menjadi\n",
        "  huruf kecil.\n",
        "\"\"\"\n",
        "import re\n",
        "def textPreprocessing(text):\n",
        "    text = text.casefold().strip()\n",
        "    text = re.sub(r'https?://\\S+|www\\.\\S+', '', text)\n",
        "    text = re.sub(\"[^A-Za-z0-9\\s.,']\",\"\",text)\n",
        "    return text"
      ],
      "metadata": {
        "id": "cK0v3MwseyDQ"
      },
      "id": "cK0v3MwseyDQ",
      "execution_count": null,
      "outputs": []
    },
    {
      "cell_type": "code",
      "source": [
        "\"\"\"\n",
        "  Modifikasi Data:\n",
        "  \n",
        "  * Penambahan harga tiket, dan rata-rata rating tempat wisata ke dalam description\n",
        "\"\"\"\n",
        "for i in range(len(textContext)):\n",
        "  textContext['Description'][i] += \" Tempat wisata ini memiliki Harga tiket sebesar \"+\\\n",
        "  str(int(textContext['Price'][i]))+\" dan memiliki rating \"+str(textContext['Rating'][i])"
      ],
      "metadata": {
        "colab": {
          "base_uri": "https://localhost:8080/"
        },
        "id": "3l1_p-iHzKch",
        "outputId": "ebc7359a-b4e4-400e-a53a-669e2c00786e"
      },
      "id": "3l1_p-iHzKch",
      "execution_count": null,
      "outputs": [
        {
          "output_type": "stream",
          "name": "stderr",
          "text": [
            "/usr/local/lib/python3.7/dist-packages/ipykernel_launcher.py:7: SettingWithCopyWarning: \n",
            "A value is trying to be set on a copy of a slice from a DataFrame\n",
            "\n",
            "See the caveats in the documentation: https://pandas.pydata.org/pandas-docs/stable/user_guide/indexing.html#returning-a-view-versus-a-copy\n",
            "  import sys\n"
          ]
        }
      ]
    },
    {
      "cell_type": "code",
      "source": [
        "textContext['Description'] = textContext['Description'].apply(textPreprocessing)"
      ],
      "metadata": {
        "id": "AyWA6umffT31"
      },
      "id": "AyWA6umffT31",
      "execution_count": null,
      "outputs": []
    },
    {
      "cell_type": "code",
      "source": [
        "print(textContext['Description'])"
      ],
      "metadata": {
        "colab": {
          "base_uri": "https://localhost:8080/"
        },
        "id": "61DS9pHb40Id",
        "outputId": "f64a5e69-0ac6-4cad-90d9-eb1d901b1957"
      },
      "id": "61DS9pHb40Id",
      "execution_count": null,
      "outputs": [
        {
          "output_type": "stream",
          "name": "stdout",
          "text": [
            "0      monumen nasional atau yang populer disingkat d...\n",
            "1      kota tua di jakarta, yang juga bernama kota tu...\n",
            "2      dunia fantasi atau disebut juga dufan adalah t...\n",
            "3      taman mini indonesia indah merupakan suatu kaw...\n",
            "4      atlantis water adventure atau dikenal dengan a...\n",
            "                             ...                        \n",
            "432    museum negeri mpu tantular adalah sebuah museu...\n",
            "433    taman bungkul adalah taman wisata kota yang te...\n",
            "434    air mancur menari atau dancing fountain juga a...\n",
            "435    taman flora adalah salah satu taman kota di su...\n",
            "436    gereja katolik kelahiran santa perawan maria m...\n",
            "Name: Description, Length: 437, dtype: object\n"
          ]
        }
      ]
    },
    {
      "cell_type": "code",
      "source": [
        "# Fungsi QAS yang menghasilkan jawaban berdasarkan konteks\n",
        "def qas(tokenizer,model,pertanyaan,text):\n",
        "  hasil = \"\"\n",
        "  \n",
        "  inputIds = tokenizer.encode(pertanyaan, text)\n",
        "  tokens = tokenizer.convert_ids_to_tokens(inputIds)\n",
        "  nilaiSEP = inputIds.index(tokenizer.sep_token_id)\n",
        "  segmen=[0]*(nilaiSEP+1) + [1]*(len(inputIds)-(nilaiSEP+1))\n",
        "  \n",
        "  outputLogits = model(torch.tensor([inputIds]), token_type_ids=torch.tensor([segmen]))\n",
        "  \n",
        "  indexAwalJawaban = torch.argmax(outputLogits.start_logits)\n",
        "  indexAkhirJawaban = torch.argmax(outputLogits.end_logits)\n",
        "  \n",
        "  if(indexAkhirJawaban >= indexAwalJawaban):\n",
        "    hasil = tokens[indexAwalJawaban]\n",
        "    for i in range(indexAwalJawaban+1, indexAkhirJawaban+1):\n",
        "      if(tokens[i][0:2] == '##'):\n",
        "        hasil += tokens[i][2:]\n",
        "      else:\n",
        "        hasil += ' ' + tokens[i]\n",
        "      \n",
        "    if hasil.startswith('[CLS]'):\n",
        "      hasil =\"Mohon maaf, kami tidak dapat menemukan jawaban.\"\n",
        "      \n",
        "    return hasil.capitalize()\n",
        "\n",
        "# Fungsi klasifikasi konteks\n",
        "def klasifikasiKonteks(model, pertanyaan):\n",
        "  X = pad_sequences(tokenizer.texts_to_sequences([pertanyaan.casefold()]),maxlen=20)\n",
        "\n",
        "  prediksi = [i+1 for i in np.argmax(model.predict(X), axis = 1)]\n",
        "  return prediksi\n",
        "\n",
        "# Pemanggilan QAS\n",
        "def jawabanPertanyaan(tokenizer,model,pertanyaan, label):\n",
        "  context = textContext[textContext.Place_Id == label]['Description'].values[0]\n",
        "  return qas(tokenizer,model,pertanyaan,context)"
      ],
      "metadata": {
        "id": "xA-lhD06QoGl"
      },
      "id": "xA-lhD06QoGl",
      "execution_count": null,
      "outputs": []
    },
    {
      "cell_type": "code",
      "source": [
        "pertanyaan = \"Apa itu monumen nasional?\"\n",
        "\n",
        "label = klasifikasiKonteks(LSTMKlasifikasi, pertanyaan)\n",
        "jawabanPertanyaan(tokenizerBERT,model,pertanyaan,label[0])"
      ],
      "metadata": {
        "colab": {
          "base_uri": "https://localhost:8080/",
          "height": 35
        },
        "id": "rRllnk9HtUjv",
        "outputId": "c5748f4a-5a7c-448a-d88a-adc343dabdf2"
      },
      "id": "rRllnk9HtUjv",
      "execution_count": null,
      "outputs": [
        {
          "output_type": "execute_result",
          "data": {
            "text/plain": [
              "'Monumen peringatan setinggi 132 meter 433 kaki'"
            ],
            "application/vnd.google.colaboratory.intrinsic+json": {
              "type": "string"
            }
          },
          "metadata": {},
          "execution_count": 51
        }
      ]
    },
    {
      "cell_type": "code",
      "source": [
        "# Pengujian klasifikasi\n",
        "X = pad_sequences(tokenizer.texts_to_sequences([\"Siapa yang membangun monumen nasional?\".casefold()]),maxlen=20)\n",
        "\n",
        "prediksi = [i+1 for i in np.argmax(LSTMKlasifikasi.predict(X), axis = 1)]\n",
        "prediksi"
      ],
      "metadata": {
        "colab": {
          "base_uri": "https://localhost:8080/"
        },
        "id": "sX6Tn6HxBkAP",
        "outputId": "c28341c9-9afb-4207-c547-2037a5c4cdda"
      },
      "id": "sX6Tn6HxBkAP",
      "execution_count": null,
      "outputs": [
        {
          "output_type": "execute_result",
          "data": {
            "text/plain": [
              "[1]"
            ]
          },
          "metadata": {},
          "execution_count": 52
        }
      ]
    },
    {
      "cell_type": "markdown",
      "source": [
        "# Percobaan Optimisasi Model Konversi TFLITE\n",
        "---\n",
        "Referensi:\n",
        "* https://colab.research.google.com/github/tensorflow/tensorflow/blob/master/tensorflow/lite/examples/experimental_new_converter/Keras_LSTM_fusion_Codelab.ipynb#scrollTo=0-b0IKK2FGuO\n",
        "* https://www.tensorflow.org/lite/performance/post_training_quant "
      ],
      "metadata": {
        "id": "6NIYeUdHEi3d"
      },
      "id": "6NIYeUdHEi3d"
    },
    {
      "cell_type": "markdown",
      "source": [
        "> Kami mengetahui bahwa, model untuk klasifikasi konteks menghasilkan file dengan besar 1GB, oleh karena itu, kami ingin melakukan optimisasi terhadap performa serta besar file yang dibutuhkan oleh model dengan menggunakan Tensorflow Lite"
      ],
      "metadata": {
        "id": "BNGFNWSuEkhe"
      },
      "id": "BNGFNWSuEkhe"
    },
    {
      "cell_type": "code",
      "source": [
        "import tensorflow as tf\n",
        "import os\n",
        "import pathlib"
      ],
      "metadata": {
        "id": "kED28-eDEy5I"
      },
      "id": "kED28-eDEy5I",
      "execution_count": null,
      "outputs": []
    },
    {
      "cell_type": "markdown",
      "source": [
        "> Model LSTM yang telah dilakukan training akan diimport"
      ],
      "metadata": {
        "id": "aPRt1LvyE7VH"
      },
      "id": "aPRt1LvyE7VH"
    },
    {
      "cell_type": "code",
      "source": [
        "LSTMKlasifikasi = tf.keras.models.load_model(\"/content/drive/MyDrive/Colab Notebooks/PA/saved_model_clasif/ClassificationLSTM.h5\")"
      ],
      "metadata": {
        "id": "amSQa6GXE_Aa"
      },
      "id": "amSQa6GXE_Aa",
      "execution_count": null,
      "outputs": []
    },
    {
      "cell_type": "markdown",
      "source": [
        "> Pengecekan input shape dan konversi model ke tflite"
      ],
      "metadata": {
        "id": "lNGS7HrkFF6F"
      },
      "id": "lNGS7HrkFF6F"
    },
    {
      "cell_type": "code",
      "source": [
        "LSTMKlasifikasi.inputs[0]"
      ],
      "metadata": {
        "colab": {
          "base_uri": "https://localhost:8080/"
        },
        "id": "EbSzJMALKDpf",
        "outputId": "572885a2-33ba-46bd-c1f5-a0f96023b4a6"
      },
      "id": "EbSzJMALKDpf",
      "execution_count": null,
      "outputs": [
        {
          "output_type": "execute_result",
          "data": {
            "text/plain": [
              "<KerasTensor: shape=(None, 20) dtype=float32 (created by layer 'input_7')>"
            ]
          },
          "metadata": {},
          "execution_count": 55
        }
      ]
    },
    {
      "cell_type": "code",
      "source": [
        "run_model = tf.function(lambda x: LSTMKlasifikasi(x))\n",
        "\n",
        "BATCH_SIZE = 1\n",
        "STEPS = 20\n",
        "# INPUT_SIZE = X_test.shape[1]\n",
        "concrete_func = run_model.get_concrete_function(\n",
        "    tf.TensorSpec([BATCH_SIZE, STEPS], LSTMKlasifikasi.inputs[0].dtype))\n",
        "\n",
        "MODEL_DIR = \"/content/drive/MyDrive/Colab Notebooks/PA/keras_lstm\"\n",
        "LSTMKlasifikasi.save(MODEL_DIR, save_format=\"tf\", signatures=concrete_func)\n",
        "\n",
        "converter = tf.lite.TFLiteConverter.from_saved_model(MODEL_DIR)\n",
        "tflite_model = converter.convert()"
      ],
      "metadata": {
        "colab": {
          "base_uri": "https://localhost:8080/"
        },
        "id": "YdMihrEGGZFm",
        "outputId": "38619cec-fdb4-4f01-cc60-5cb28a8a7db8"
      },
      "id": "YdMihrEGGZFm",
      "execution_count": null,
      "outputs": [
        {
          "output_type": "stream",
          "name": "stderr",
          "text": [
            "WARNING:absl:Found untraced functions such as lstm_cell_1_layer_call_fn, lstm_cell_1_layer_call_and_return_conditional_losses while saving (showing 2 of 2). These functions will not be directly callable after loading.\n"
          ]
        },
        {
          "output_type": "stream",
          "name": "stdout",
          "text": [
            "INFO:tensorflow:Assets written to: /content/drive/MyDrive/Colab Notebooks/PA/keras_lstm/assets\n"
          ]
        },
        {
          "output_type": "stream",
          "name": "stderr",
          "text": [
            "INFO:tensorflow:Assets written to: /content/drive/MyDrive/Colab Notebooks/PA/keras_lstm/assets\n",
            "WARNING:absl:<keras.layers.recurrent.LSTMCell object at 0x7fedb2a68a10> has the same name 'LSTMCell' as a built-in Keras object. Consider renaming <class 'keras.layers.recurrent.LSTMCell'> to avoid naming conflicts when loading with `tf.keras.models.load_model`. If renaming is not possible, pass the object in the `custom_objects` parameter of the load function.\n",
            "2022-06-06 07:01:18.042271: W tensorflow/compiler/mlir/lite/python/tf_tfl_flatbuffer_helpers.cc:357] Ignored output_format.\n",
            "2022-06-06 07:01:18.042333: W tensorflow/compiler/mlir/lite/python/tf_tfl_flatbuffer_helpers.cc:360] Ignored drop_control_dependency.\n",
            "WARNING:absl:Buffer deduplication procedure will be skipped when flatbuffer library is not properly loaded\n"
          ]
        }
      ]
    },
    {
      "cell_type": "code",
      "source": [
        "X_test[0:1, :]"
      ],
      "metadata": {
        "colab": {
          "base_uri": "https://localhost:8080/"
        },
        "id": "3XO7fneUcO8d",
        "outputId": "5f7f3b43-9dbc-488b-80f8-f91cc30fabd4"
      },
      "id": "3XO7fneUcO8d",
      "execution_count": null,
      "outputs": [
        {
          "output_type": "execute_result",
          "data": {
            "text/plain": [
              "array([[  0,   0,   0,   0,   0,   0,   0,   0,   0,   0,   0,   0,   0,\n",
              "          8,   4,  75,  15,  20,  74, 154]], dtype=int32)"
            ]
          },
          "metadata": {},
          "execution_count": 60
        }
      ]
    },
    {
      "cell_type": "code",
      "source": [
        "np.array([X_test[0, :]]).astype('float32')"
      ],
      "metadata": {
        "colab": {
          "base_uri": "https://localhost:8080/"
        },
        "id": "KJ2l5UXLcaRp",
        "outputId": "2ac8df87-0b14-4926-a4b4-852fd6872785"
      },
      "id": "KJ2l5UXLcaRp",
      "execution_count": null,
      "outputs": [
        {
          "output_type": "execute_result",
          "data": {
            "text/plain": [
              "array([[  0.,   0.,   0.,   0.,   0.,   0.,   0.,   0.,   0.,   0.,   0.,\n",
              "          0.,   0.,   8.,   4.,  75.,  15.,  20.,  74., 154.]],\n",
              "      dtype=float32)"
            ]
          },
          "metadata": {},
          "execution_count": 61
        }
      ]
    },
    {
      "cell_type": "code",
      "source": [
        "# Prediksi hasil klasifikasi menggunakan dataset X_test\n",
        "interpreter = tf.lite.Interpreter(model_content=tflite_model)\n",
        "interpreter.allocate_tensors()\n",
        "input_details = interpreter.get_input_details()\n",
        "output_details = interpreter.get_output_details()\n",
        "\n",
        "hasil = []\n",
        "for i in range(X_test.shape[0]):\n",
        "  interpreter.set_tensor(input_details[0][\"index\"], np.array([X_test[i, :]]).astype('float32'))\n",
        "  interpreter.invoke()\n",
        "  hasil.append(np.argmax(interpreter.get_tensor(output_details[0][\"index\"])))\n",
        "  interpreter.reset_all_variables()"
      ],
      "metadata": {
        "id": "lORyVLCvKVA_"
      },
      "id": "lORyVLCvKVA_",
      "execution_count": null,
      "outputs": []
    },
    {
      "cell_type": "code",
      "source": [
        "# Konversi nilai object prob menjadi kelas klasifikasinya\n",
        "hasil_model_asli = [np.argmax(i) for i in LSTMKlasifikasi.predict(X_test)]"
      ],
      "metadata": {
        "id": "XUxhwZBxcrJO"
      },
      "id": "XUxhwZBxcrJO",
      "execution_count": null,
      "outputs": []
    },
    {
      "cell_type": "code",
      "source": [
        "# Membandingkan dengan prediksi model hasil untuk mengetahui berapa jumlah loss setelah dilakukan compression\n",
        "salah = 0\n",
        "for i in range(len(hasil_model_asli)): \n",
        "  if hasil[i] != hasil_model_asli[i]:\n",
        "    salah += 1\n",
        "\n",
        "print(((len(hasil_model_asli)-salah)/len(hasil_model_asli))*100)"
      ],
      "metadata": {
        "colab": {
          "base_uri": "https://localhost:8080/"
        },
        "id": "mgsU_jdMdvbL",
        "outputId": "4e7f5640-33c3-4462-a47c-f751dd7f74e5"
      },
      "id": "mgsU_jdMdvbL",
      "execution_count": null,
      "outputs": [
        {
          "output_type": "stream",
          "name": "stdout",
          "text": [
            "100.0\n"
          ]
        }
      ]
    },
    {
      "cell_type": "markdown",
      "source": [
        "# Penyimpanan dalam file TFLITE"
      ],
      "metadata": {
        "id": "zxYBa2iQx9F1"
      },
      "id": "zxYBa2iQx9F1"
    },
    {
      "cell_type": "code",
      "source": [
        "import pathlib\n",
        "\n",
        "DIR = pathlib.Path(\"/content/drive/MyDrive/Colab Notebooks/PA/\")\n",
        "tflite_file = DIR/\"LSTMKlasifikasiKonteks.tflite\"\n",
        "tflite_file.write_bytes(tflite_model)"
      ],
      "metadata": {
        "colab": {
          "base_uri": "https://localhost:8080/"
        },
        "id": "gokZfVbnwzwT",
        "outputId": "fd87b0bd-dfcb-4814-e87e-e3c847760ac8"
      },
      "id": "gokZfVbnwzwT",
      "execution_count": null,
      "outputs": [
        {
          "output_type": "execute_result",
          "data": {
            "text/plain": [
              "416524532"
            ]
          },
          "metadata": {},
          "execution_count": 70
        }
      ]
    },
    {
      "cell_type": "code",
      "source": [
        "converter.optimizations = [tf.lite.Optimize.DEFAULT]\n",
        "tflite_quant_model = converter.convert()\n",
        "tflite_model_quant_file = DIR/\"LSTMKlasifikasiKonteksQuants.tflite\"\n",
        "tflite_model_quant_file.write_bytes(tflite_quant_model)"
      ],
      "metadata": {
        "colab": {
          "base_uri": "https://localhost:8080/"
        },
        "id": "J8mbX5YY0Iwt",
        "outputId": "b36230ba-d70c-4d9e-96dc-81d60d70b65b"
      },
      "id": "J8mbX5YY0Iwt",
      "execution_count": null,
      "outputs": [
        {
          "output_type": "stream",
          "name": "stderr",
          "text": [
            "2022-06-06 07:04:32.408608: W tensorflow/compiler/mlir/lite/python/tf_tfl_flatbuffer_helpers.cc:357] Ignored output_format.\n",
            "2022-06-06 07:04:32.409376: W tensorflow/compiler/mlir/lite/python/tf_tfl_flatbuffer_helpers.cc:360] Ignored drop_control_dependency.\n",
            "WARNING:absl:Buffer deduplication procedure will be skipped when flatbuffer library is not properly loaded\n"
          ]
        },
        {
          "output_type": "execute_result",
          "data": {
            "text/plain": [
              "104139840"
            ]
          },
          "metadata": {},
          "execution_count": 89
        }
      ]
    },
    {
      "cell_type": "markdown",
      "source": [
        "# Upload TFLITE"
      ],
      "metadata": {
        "id": "6nt1_cCiyA9F"
      },
      "id": "6nt1_cCiyA9F"
    },
    {
      "cell_type": "code",
      "source": [
        "# DIR\n",
        "DIR_MODEL = pathlib.Path(\"/content/drive/MyDrive/Colab Notebooks/PA/\")\n",
        "\n",
        "# Non Quant\n",
        "interpreter = tf.lite.Interpreter(model_path=str(DIR_MODEL/\"LSTMKlasifikasiKonteks.tflite\"))\n",
        "interpreter.allocate_tensors()\n",
        "\n",
        "# Quant\n",
        "interpreter_quant = tf.lite.Interpreter(model_path=str(DIR_MODEL/\"LSTMKlasifikasiKonteksQuants.tflite\"))\n",
        "interpreter_quant.allocate_tensors()"
      ],
      "metadata": {
        "id": "cYSiopzgyI92"
      },
      "id": "cYSiopzgyI92",
      "execution_count": null,
      "outputs": []
    },
    {
      "cell_type": "code",
      "source": [
        "interpreter.get_input_details()"
      ],
      "metadata": {
        "colab": {
          "base_uri": "https://localhost:8080/"
        },
        "id": "LL-oBOz-yh83",
        "outputId": "f6fe9106-5fdf-42ab-cb1b-33a14324565a"
      },
      "id": "LL-oBOz-yh83",
      "execution_count": null,
      "outputs": [
        {
          "output_type": "execute_result",
          "data": {
            "text/plain": [
              "[{'name': 'serving_default_x:0',\n",
              "  'index': 0,\n",
              "  'shape': array([ 1, 20], dtype=int32),\n",
              "  'shape_signature': array([ 1, 20], dtype=int32),\n",
              "  'dtype': numpy.float32,\n",
              "  'quantization': (0.0, 0),\n",
              "  'quantization_parameters': {'scales': array([], dtype=float32),\n",
              "   'zero_points': array([], dtype=int32),\n",
              "   'quantized_dimension': 0},\n",
              "  'sparsity_parameters': {}}]"
            ]
          },
          "metadata": {},
          "execution_count": 110
        }
      ]
    },
    {
      "cell_type": "code",
      "source": [
        "generateDataTensor(X_test[0,:])"
      ],
      "metadata": {
        "colab": {
          "base_uri": "https://localhost:8080/"
        },
        "id": "2JtNpk7m7ypv",
        "outputId": "d1d91bd8-58fb-4acb-f1e1-c0618566ac54"
      },
      "id": "2JtNpk7m7ypv",
      "execution_count": null,
      "outputs": [
        {
          "output_type": "execute_result",
          "data": {
            "text/plain": [
              "array([[  0.,   0.,   0.,   0.,   0.,   0.,   0.,   0.,   0.,   0.,   0.,\n",
              "          0.,   0.,   8.,   4.,  75.,  15.,  20.,  74., 154.]],\n",
              "      dtype=float32)"
            ]
          },
          "metadata": {},
          "execution_count": 117
        }
      ]
    },
    {
      "cell_type": "code",
      "source": [
        "X = pad_sequences(tokenizer.texts_to_sequences([\"Siapa yang membangun monumen nasional?\".casefold()]),maxlen=20)"
      ],
      "metadata": {
        "id": "DWC1N5TBHviQ"
      },
      "id": "DWC1N5TBHviQ",
      "execution_count": null,
      "outputs": []
    },
    {
      "cell_type": "code",
      "source": [
        "X.astype('float32')"
      ],
      "metadata": {
        "colab": {
          "base_uri": "https://localhost:8080/"
        },
        "id": "1YONbB_gHzG_",
        "outputId": "33aa50a8-0d96-4119-9b8e-4708f1a00414"
      },
      "id": "1YONbB_gHzG_",
      "execution_count": null,
      "outputs": [
        {
          "output_type": "execute_result",
          "data": {
            "text/plain": [
              "array([[  0.,   0.,   0.,   0.,   0.,   0.,   0.,   0.,   0.,   0.,   0.,\n",
              "          0.,   0.,   0.,   0.,  52.,   5., 152.,  22.,  14.]],\n",
              "      dtype=float32)"
            ]
          },
          "metadata": {},
          "execution_count": 134
        }
      ]
    },
    {
      "cell_type": "code",
      "source": [
        "def generateDataTensor(data, axis=0):\n",
        "    return np.expand_dims(data, axis=axis).astype(np.float32)\n",
        "\n",
        "def getRecommendation(interpreter):\n",
        "  input_index = interpreter.get_input_details()[0]['index']\n",
        "  output_index = interpreter.get_output_details()[0]['index']\n",
        "\n",
        "  print(input_index,\" \",output_index)\n",
        "  prediksi = []\n",
        "  for i in range(X_test.shape[0]):\n",
        "      interpreter.set_tensor(input_index, generateDataTensor(X_test[i,:]))\n",
        "      interpreter.invoke()\n",
        "      prediksi.append(np.argmax(interpreter.get_tensor(output_index)))\n",
        "  \n",
        "  salah = 0\n",
        "  for i in range(len(hasil_model_asli)): \n",
        "    if prediksi[i] != hasil_model_asli[i]:\n",
        "      salah += 1\n",
        "\n",
        "  print(((len(hasil_model_asli)-salah)/len(hasil_model_asli))*100)"
      ],
      "metadata": {
        "id": "ryySlMBRyWhI"
      },
      "id": "ryySlMBRyWhI",
      "execution_count": null,
      "outputs": []
    },
    {
      "cell_type": "code",
      "source": [
        "print(\"Model Non-Quantiz\")\n",
        "getRecommendation(interpreter)\n",
        "\n",
        "print(\"\\nModel Quantiz\")\n",
        "getRecommendation(interpreter_quant)"
      ],
      "metadata": {
        "colab": {
          "base_uri": "https://localhost:8080/"
        },
        "id": "hHlYvee7YSE2",
        "outputId": "f0ad5875-6da6-40e0-eee6-d7e38d673364"
      },
      "id": "hHlYvee7YSE2",
      "execution_count": null,
      "outputs": [
        {
          "output_type": "stream",
          "name": "stdout",
          "text": [
            "Model Non-Quantiz\n",
            "0   41\n",
            "100.0\n",
            "\n",
            "Model Quantiz\n",
            "0   41\n",
            "93.10344827586206\n"
          ]
        }
      ]
    },
    {
      "cell_type": "markdown",
      "source": [
        "> Ditemukan bila menggunakan TFLITE tanpa optimize akan menghasilkan besar berkas 397,2 MB, sedangkan model Quantized memiliki besar file 99,8 MB\n",
        "\n",
        "> Selain itu, ditemukan ada penurunan sebesar 6,9% antara model quantiz dibandingkan dengan hasil model LSTM tanpa optimisasi dan model tanpa metode quantize"
      ],
      "metadata": {
        "id": "N45R2NF-0oUe"
      },
      "id": "N45R2NF-0oUe"
    }
  ],
  "metadata": {
    "accelerator": "GPU",
    "colab": {
      "collapsed_sections": [
        "gUq7VK9zsPc9",
        "DbskWGcQsTgF"
      ],
      "name": "Copy of chatbot.ipynb",
      "provenance": []
    },
    "kernelspec": {
      "display_name": "Python 3 (ipykernel)",
      "language": "python",
      "name": "python3"
    },
    "language_info": {
      "codemirror_mode": {
        "name": "ipython",
        "version": 3
      },
      "file_extension": ".py",
      "mimetype": "text/x-python",
      "name": "python",
      "nbconvert_exporter": "python",
      "pygments_lexer": "ipython3",
      "version": "3.9.7"
    },
    "widgets": {
      "application/vnd.jupyter.widget-state+json": {
        "5ab2db8ab1764b20b5706d1f133ab550": {
          "model_module": "@jupyter-widgets/controls",
          "model_name": "HBoxModel",
          "model_module_version": "1.5.0",
          "state": {
            "_dom_classes": [],
            "_model_module": "@jupyter-widgets/controls",
            "_model_module_version": "1.5.0",
            "_model_name": "HBoxModel",
            "_view_count": null,
            "_view_module": "@jupyter-widgets/controls",
            "_view_module_version": "1.5.0",
            "_view_name": "HBoxView",
            "box_style": "",
            "children": [
              "IPY_MODEL_aa187dc4a51b43e681ecfbfc045c0bd6",
              "IPY_MODEL_30116de37b624401963effeca02f26e3",
              "IPY_MODEL_c9a11aaf5de44e5d9622ce54f25d7638"
            ],
            "layout": "IPY_MODEL_42da34bb7808429392d07030a332f358"
          }
        },
        "aa187dc4a51b43e681ecfbfc045c0bd6": {
          "model_module": "@jupyter-widgets/controls",
          "model_name": "HTMLModel",
          "model_module_version": "1.5.0",
          "state": {
            "_dom_classes": [],
            "_model_module": "@jupyter-widgets/controls",
            "_model_module_version": "1.5.0",
            "_model_name": "HTMLModel",
            "_view_count": null,
            "_view_module": "@jupyter-widgets/controls",
            "_view_module_version": "1.5.0",
            "_view_name": "HTMLView",
            "description": "",
            "description_tooltip": null,
            "layout": "IPY_MODEL_431500384e7e44eb9d812c0316805244",
            "placeholder": "​",
            "style": "IPY_MODEL_918e489b2e8241199d2d1e0c98065eb4",
            "value": "Epoch 1 of 10:  90%"
          }
        },
        "30116de37b624401963effeca02f26e3": {
          "model_module": "@jupyter-widgets/controls",
          "model_name": "FloatProgressModel",
          "model_module_version": "1.5.0",
          "state": {
            "_dom_classes": [],
            "_model_module": "@jupyter-widgets/controls",
            "_model_module_version": "1.5.0",
            "_model_name": "FloatProgressModel",
            "_view_count": null,
            "_view_module": "@jupyter-widgets/controls",
            "_view_module_version": "1.5.0",
            "_view_name": "ProgressView",
            "bar_style": "danger",
            "description": "",
            "description_tooltip": null,
            "layout": "IPY_MODEL_6b766143909b4079acb75c72b20f3831",
            "max": 10,
            "min": 0,
            "orientation": "horizontal",
            "style": "IPY_MODEL_b29dcbb1d63e41db843033d25917afd7",
            "value": 9
          }
        },
        "c9a11aaf5de44e5d9622ce54f25d7638": {
          "model_module": "@jupyter-widgets/controls",
          "model_name": "HTMLModel",
          "model_module_version": "1.5.0",
          "state": {
            "_dom_classes": [],
            "_model_module": "@jupyter-widgets/controls",
            "_model_module_version": "1.5.0",
            "_model_name": "HTMLModel",
            "_view_count": null,
            "_view_module": "@jupyter-widgets/controls",
            "_view_module_version": "1.5.0",
            "_view_name": "HTMLView",
            "description": "",
            "description_tooltip": null,
            "layout": "IPY_MODEL_d491fbcb0e6340539cf60b630e5158b5",
            "placeholder": "​",
            "style": "IPY_MODEL_43c715e52f6e4782a86b14a3807b38dd",
            "value": " 9/10 [04:39&lt;00:00, 168.69it/s]"
          }
        },
        "42da34bb7808429392d07030a332f358": {
          "model_module": "@jupyter-widgets/base",
          "model_name": "LayoutModel",
          "model_module_version": "1.2.0",
          "state": {
            "_model_module": "@jupyter-widgets/base",
            "_model_module_version": "1.2.0",
            "_model_name": "LayoutModel",
            "_view_count": null,
            "_view_module": "@jupyter-widgets/base",
            "_view_module_version": "1.2.0",
            "_view_name": "LayoutView",
            "align_content": null,
            "align_items": null,
            "align_self": null,
            "border": null,
            "bottom": null,
            "display": null,
            "flex": null,
            "flex_flow": null,
            "grid_area": null,
            "grid_auto_columns": null,
            "grid_auto_flow": null,
            "grid_auto_rows": null,
            "grid_column": null,
            "grid_gap": null,
            "grid_row": null,
            "grid_template_areas": null,
            "grid_template_columns": null,
            "grid_template_rows": null,
            "height": null,
            "justify_content": null,
            "justify_items": null,
            "left": null,
            "margin": null,
            "max_height": null,
            "max_width": null,
            "min_height": null,
            "min_width": null,
            "object_fit": null,
            "object_position": null,
            "order": null,
            "overflow": null,
            "overflow_x": null,
            "overflow_y": null,
            "padding": null,
            "right": null,
            "top": null,
            "visibility": null,
            "width": null
          }
        },
        "431500384e7e44eb9d812c0316805244": {
          "model_module": "@jupyter-widgets/base",
          "model_name": "LayoutModel",
          "model_module_version": "1.2.0",
          "state": {
            "_model_module": "@jupyter-widgets/base",
            "_model_module_version": "1.2.0",
            "_model_name": "LayoutModel",
            "_view_count": null,
            "_view_module": "@jupyter-widgets/base",
            "_view_module_version": "1.2.0",
            "_view_name": "LayoutView",
            "align_content": null,
            "align_items": null,
            "align_self": null,
            "border": null,
            "bottom": null,
            "display": null,
            "flex": null,
            "flex_flow": null,
            "grid_area": null,
            "grid_auto_columns": null,
            "grid_auto_flow": null,
            "grid_auto_rows": null,
            "grid_column": null,
            "grid_gap": null,
            "grid_row": null,
            "grid_template_areas": null,
            "grid_template_columns": null,
            "grid_template_rows": null,
            "height": null,
            "justify_content": null,
            "justify_items": null,
            "left": null,
            "margin": null,
            "max_height": null,
            "max_width": null,
            "min_height": null,
            "min_width": null,
            "object_fit": null,
            "object_position": null,
            "order": null,
            "overflow": null,
            "overflow_x": null,
            "overflow_y": null,
            "padding": null,
            "right": null,
            "top": null,
            "visibility": null,
            "width": null
          }
        },
        "918e489b2e8241199d2d1e0c98065eb4": {
          "model_module": "@jupyter-widgets/controls",
          "model_name": "DescriptionStyleModel",
          "model_module_version": "1.5.0",
          "state": {
            "_model_module": "@jupyter-widgets/controls",
            "_model_module_version": "1.5.0",
            "_model_name": "DescriptionStyleModel",
            "_view_count": null,
            "_view_module": "@jupyter-widgets/base",
            "_view_module_version": "1.2.0",
            "_view_name": "StyleView",
            "description_width": ""
          }
        },
        "6b766143909b4079acb75c72b20f3831": {
          "model_module": "@jupyter-widgets/base",
          "model_name": "LayoutModel",
          "model_module_version": "1.2.0",
          "state": {
            "_model_module": "@jupyter-widgets/base",
            "_model_module_version": "1.2.0",
            "_model_name": "LayoutModel",
            "_view_count": null,
            "_view_module": "@jupyter-widgets/base",
            "_view_module_version": "1.2.0",
            "_view_name": "LayoutView",
            "align_content": null,
            "align_items": null,
            "align_self": null,
            "border": null,
            "bottom": null,
            "display": null,
            "flex": null,
            "flex_flow": null,
            "grid_area": null,
            "grid_auto_columns": null,
            "grid_auto_flow": null,
            "grid_auto_rows": null,
            "grid_column": null,
            "grid_gap": null,
            "grid_row": null,
            "grid_template_areas": null,
            "grid_template_columns": null,
            "grid_template_rows": null,
            "height": null,
            "justify_content": null,
            "justify_items": null,
            "left": null,
            "margin": null,
            "max_height": null,
            "max_width": null,
            "min_height": null,
            "min_width": null,
            "object_fit": null,
            "object_position": null,
            "order": null,
            "overflow": null,
            "overflow_x": null,
            "overflow_y": null,
            "padding": null,
            "right": null,
            "top": null,
            "visibility": null,
            "width": null
          }
        },
        "b29dcbb1d63e41db843033d25917afd7": {
          "model_module": "@jupyter-widgets/controls",
          "model_name": "ProgressStyleModel",
          "model_module_version": "1.5.0",
          "state": {
            "_model_module": "@jupyter-widgets/controls",
            "_model_module_version": "1.5.0",
            "_model_name": "ProgressStyleModel",
            "_view_count": null,
            "_view_module": "@jupyter-widgets/base",
            "_view_module_version": "1.2.0",
            "_view_name": "StyleView",
            "bar_color": null,
            "description_width": ""
          }
        },
        "d491fbcb0e6340539cf60b630e5158b5": {
          "model_module": "@jupyter-widgets/base",
          "model_name": "LayoutModel",
          "model_module_version": "1.2.0",
          "state": {
            "_model_module": "@jupyter-widgets/base",
            "_model_module_version": "1.2.0",
            "_model_name": "LayoutModel",
            "_view_count": null,
            "_view_module": "@jupyter-widgets/base",
            "_view_module_version": "1.2.0",
            "_view_name": "LayoutView",
            "align_content": null,
            "align_items": null,
            "align_self": null,
            "border": null,
            "bottom": null,
            "display": null,
            "flex": null,
            "flex_flow": null,
            "grid_area": null,
            "grid_auto_columns": null,
            "grid_auto_flow": null,
            "grid_auto_rows": null,
            "grid_column": null,
            "grid_gap": null,
            "grid_row": null,
            "grid_template_areas": null,
            "grid_template_columns": null,
            "grid_template_rows": null,
            "height": null,
            "justify_content": null,
            "justify_items": null,
            "left": null,
            "margin": null,
            "max_height": null,
            "max_width": null,
            "min_height": null,
            "min_width": null,
            "object_fit": null,
            "object_position": null,
            "order": null,
            "overflow": null,
            "overflow_x": null,
            "overflow_y": null,
            "padding": null,
            "right": null,
            "top": null,
            "visibility": null,
            "width": null
          }
        },
        "43c715e52f6e4782a86b14a3807b38dd": {
          "model_module": "@jupyter-widgets/controls",
          "model_name": "DescriptionStyleModel",
          "model_module_version": "1.5.0",
          "state": {
            "_model_module": "@jupyter-widgets/controls",
            "_model_module_version": "1.5.0",
            "_model_name": "DescriptionStyleModel",
            "_view_count": null,
            "_view_module": "@jupyter-widgets/base",
            "_view_module_version": "1.2.0",
            "_view_name": "StyleView",
            "description_width": ""
          }
        },
        "c5f54ce9481e48738b56e01cbe529775": {
          "model_module": "@jupyter-widgets/controls",
          "model_name": "HBoxModel",
          "model_module_version": "1.5.0",
          "state": {
            "_dom_classes": [],
            "_model_module": "@jupyter-widgets/controls",
            "_model_module_version": "1.5.0",
            "_model_name": "HBoxModel",
            "_view_count": null,
            "_view_module": "@jupyter-widgets/controls",
            "_view_module_version": "1.5.0",
            "_view_name": "HBoxView",
            "box_style": "",
            "children": [
              "IPY_MODEL_5f610fd7ae7346b08b43f970ebec317c",
              "IPY_MODEL_d0c37b254e434a4bad7d9c46e7333b9e",
              "IPY_MODEL_0ccf5fe3bcd2487e8b83f68678cdef31"
            ],
            "layout": "IPY_MODEL_93a41857230b4824bb0d8ca754323186"
          }
        },
        "5f610fd7ae7346b08b43f970ebec317c": {
          "model_module": "@jupyter-widgets/controls",
          "model_name": "HTMLModel",
          "model_module_version": "1.5.0",
          "state": {
            "_dom_classes": [],
            "_model_module": "@jupyter-widgets/controls",
            "_model_module_version": "1.5.0",
            "_model_name": "HTMLModel",
            "_view_count": null,
            "_view_module": "@jupyter-widgets/controls",
            "_view_module_version": "1.5.0",
            "_view_name": "HTMLView",
            "description": "",
            "description_tooltip": null,
            "layout": "IPY_MODEL_e123b4b9c9ed41c28962c3b7b21e62d8",
            "placeholder": "​",
            "style": "IPY_MODEL_83aaaafe460e43cea4be5392c2d08f4c",
            "value": "Epochs 0/10. Running Loss:    0.0501:   3%"
          }
        },
        "d0c37b254e434a4bad7d9c46e7333b9e": {
          "model_module": "@jupyter-widgets/controls",
          "model_name": "FloatProgressModel",
          "model_module_version": "1.5.0",
          "state": {
            "_dom_classes": [],
            "_model_module": "@jupyter-widgets/controls",
            "_model_module_version": "1.5.0",
            "_model_name": "FloatProgressModel",
            "_view_count": null,
            "_view_module": "@jupyter-widgets/controls",
            "_view_module_version": "1.5.0",
            "_view_name": "ProgressView",
            "bar_style": "danger",
            "description": "",
            "description_tooltip": null,
            "layout": "IPY_MODEL_af13387eb2c944ceb1e155ca4e8c105b",
            "max": 5757,
            "min": 0,
            "orientation": "horizontal",
            "style": "IPY_MODEL_31476f07bb3f43be99476f3872c57785",
            "value": 186
          }
        },
        "0ccf5fe3bcd2487e8b83f68678cdef31": {
          "model_module": "@jupyter-widgets/controls",
          "model_name": "HTMLModel",
          "model_module_version": "1.5.0",
          "state": {
            "_dom_classes": [],
            "_model_module": "@jupyter-widgets/controls",
            "_model_module_version": "1.5.0",
            "_model_name": "HTMLModel",
            "_view_count": null,
            "_view_module": "@jupyter-widgets/controls",
            "_view_module_version": "1.5.0",
            "_view_name": "HTMLView",
            "description": "",
            "description_tooltip": null,
            "layout": "IPY_MODEL_9b0355c9865b458fb77d0e0305809d3d",
            "placeholder": "​",
            "style": "IPY_MODEL_af4543769f1c45d1a49b8e8812422f09",
            "value": " 186/5757 [04:39&lt;13:37,  6.82it/s]"
          }
        },
        "93a41857230b4824bb0d8ca754323186": {
          "model_module": "@jupyter-widgets/base",
          "model_name": "LayoutModel",
          "model_module_version": "1.2.0",
          "state": {
            "_model_module": "@jupyter-widgets/base",
            "_model_module_version": "1.2.0",
            "_model_name": "LayoutModel",
            "_view_count": null,
            "_view_module": "@jupyter-widgets/base",
            "_view_module_version": "1.2.0",
            "_view_name": "LayoutView",
            "align_content": null,
            "align_items": null,
            "align_self": null,
            "border": null,
            "bottom": null,
            "display": null,
            "flex": null,
            "flex_flow": null,
            "grid_area": null,
            "grid_auto_columns": null,
            "grid_auto_flow": null,
            "grid_auto_rows": null,
            "grid_column": null,
            "grid_gap": null,
            "grid_row": null,
            "grid_template_areas": null,
            "grid_template_columns": null,
            "grid_template_rows": null,
            "height": null,
            "justify_content": null,
            "justify_items": null,
            "left": null,
            "margin": null,
            "max_height": null,
            "max_width": null,
            "min_height": null,
            "min_width": null,
            "object_fit": null,
            "object_position": null,
            "order": null,
            "overflow": null,
            "overflow_x": null,
            "overflow_y": null,
            "padding": null,
            "right": null,
            "top": null,
            "visibility": null,
            "width": null
          }
        },
        "e123b4b9c9ed41c28962c3b7b21e62d8": {
          "model_module": "@jupyter-widgets/base",
          "model_name": "LayoutModel",
          "model_module_version": "1.2.0",
          "state": {
            "_model_module": "@jupyter-widgets/base",
            "_model_module_version": "1.2.0",
            "_model_name": "LayoutModel",
            "_view_count": null,
            "_view_module": "@jupyter-widgets/base",
            "_view_module_version": "1.2.0",
            "_view_name": "LayoutView",
            "align_content": null,
            "align_items": null,
            "align_self": null,
            "border": null,
            "bottom": null,
            "display": null,
            "flex": null,
            "flex_flow": null,
            "grid_area": null,
            "grid_auto_columns": null,
            "grid_auto_flow": null,
            "grid_auto_rows": null,
            "grid_column": null,
            "grid_gap": null,
            "grid_row": null,
            "grid_template_areas": null,
            "grid_template_columns": null,
            "grid_template_rows": null,
            "height": null,
            "justify_content": null,
            "justify_items": null,
            "left": null,
            "margin": null,
            "max_height": null,
            "max_width": null,
            "min_height": null,
            "min_width": null,
            "object_fit": null,
            "object_position": null,
            "order": null,
            "overflow": null,
            "overflow_x": null,
            "overflow_y": null,
            "padding": null,
            "right": null,
            "top": null,
            "visibility": null,
            "width": null
          }
        },
        "83aaaafe460e43cea4be5392c2d08f4c": {
          "model_module": "@jupyter-widgets/controls",
          "model_name": "DescriptionStyleModel",
          "model_module_version": "1.5.0",
          "state": {
            "_model_module": "@jupyter-widgets/controls",
            "_model_module_version": "1.5.0",
            "_model_name": "DescriptionStyleModel",
            "_view_count": null,
            "_view_module": "@jupyter-widgets/base",
            "_view_module_version": "1.2.0",
            "_view_name": "StyleView",
            "description_width": ""
          }
        },
        "af13387eb2c944ceb1e155ca4e8c105b": {
          "model_module": "@jupyter-widgets/base",
          "model_name": "LayoutModel",
          "model_module_version": "1.2.0",
          "state": {
            "_model_module": "@jupyter-widgets/base",
            "_model_module_version": "1.2.0",
            "_model_name": "LayoutModel",
            "_view_count": null,
            "_view_module": "@jupyter-widgets/base",
            "_view_module_version": "1.2.0",
            "_view_name": "LayoutView",
            "align_content": null,
            "align_items": null,
            "align_self": null,
            "border": null,
            "bottom": null,
            "display": null,
            "flex": null,
            "flex_flow": null,
            "grid_area": null,
            "grid_auto_columns": null,
            "grid_auto_flow": null,
            "grid_auto_rows": null,
            "grid_column": null,
            "grid_gap": null,
            "grid_row": null,
            "grid_template_areas": null,
            "grid_template_columns": null,
            "grid_template_rows": null,
            "height": null,
            "justify_content": null,
            "justify_items": null,
            "left": null,
            "margin": null,
            "max_height": null,
            "max_width": null,
            "min_height": null,
            "min_width": null,
            "object_fit": null,
            "object_position": null,
            "order": null,
            "overflow": null,
            "overflow_x": null,
            "overflow_y": null,
            "padding": null,
            "right": null,
            "top": null,
            "visibility": null,
            "width": null
          }
        },
        "31476f07bb3f43be99476f3872c57785": {
          "model_module": "@jupyter-widgets/controls",
          "model_name": "ProgressStyleModel",
          "model_module_version": "1.5.0",
          "state": {
            "_model_module": "@jupyter-widgets/controls",
            "_model_module_version": "1.5.0",
            "_model_name": "ProgressStyleModel",
            "_view_count": null,
            "_view_module": "@jupyter-widgets/base",
            "_view_module_version": "1.2.0",
            "_view_name": "StyleView",
            "bar_color": null,
            "description_width": ""
          }
        },
        "9b0355c9865b458fb77d0e0305809d3d": {
          "model_module": "@jupyter-widgets/base",
          "model_name": "LayoutModel",
          "model_module_version": "1.2.0",
          "state": {
            "_model_module": "@jupyter-widgets/base",
            "_model_module_version": "1.2.0",
            "_model_name": "LayoutModel",
            "_view_count": null,
            "_view_module": "@jupyter-widgets/base",
            "_view_module_version": "1.2.0",
            "_view_name": "LayoutView",
            "align_content": null,
            "align_items": null,
            "align_self": null,
            "border": null,
            "bottom": null,
            "display": null,
            "flex": null,
            "flex_flow": null,
            "grid_area": null,
            "grid_auto_columns": null,
            "grid_auto_flow": null,
            "grid_auto_rows": null,
            "grid_column": null,
            "grid_gap": null,
            "grid_row": null,
            "grid_template_areas": null,
            "grid_template_columns": null,
            "grid_template_rows": null,
            "height": null,
            "justify_content": null,
            "justify_items": null,
            "left": null,
            "margin": null,
            "max_height": null,
            "max_width": null,
            "min_height": null,
            "min_width": null,
            "object_fit": null,
            "object_position": null,
            "order": null,
            "overflow": null,
            "overflow_x": null,
            "overflow_y": null,
            "padding": null,
            "right": null,
            "top": null,
            "visibility": null,
            "width": null
          }
        },
        "af4543769f1c45d1a49b8e8812422f09": {
          "model_module": "@jupyter-widgets/controls",
          "model_name": "DescriptionStyleModel",
          "model_module_version": "1.5.0",
          "state": {
            "_model_module": "@jupyter-widgets/controls",
            "_model_module_version": "1.5.0",
            "_model_name": "DescriptionStyleModel",
            "_view_count": null,
            "_view_module": "@jupyter-widgets/base",
            "_view_module_version": "1.2.0",
            "_view_name": "StyleView",
            "description_width": ""
          }
        },
        "498db6a5044f4c9abe44c3b9e362960f": {
          "model_module": "@jupyter-widgets/controls",
          "model_name": "HBoxModel",
          "model_module_version": "1.5.0",
          "state": {
            "_dom_classes": [],
            "_model_module": "@jupyter-widgets/controls",
            "_model_module_version": "1.5.0",
            "_model_name": "HBoxModel",
            "_view_count": null,
            "_view_module": "@jupyter-widgets/controls",
            "_view_module_version": "1.5.0",
            "_view_name": "HBoxView",
            "box_style": "",
            "children": [
              "IPY_MODEL_0c8d8bcd5e13480a86a8d42ebe176480",
              "IPY_MODEL_bf3e733815394429a9dfe4459c7db380",
              "IPY_MODEL_09b047aba22c4eeeba4a47012819d43a"
            ],
            "layout": "IPY_MODEL_13dc533460114d39a1005d33ad282c6a"
          }
        },
        "0c8d8bcd5e13480a86a8d42ebe176480": {
          "model_module": "@jupyter-widgets/controls",
          "model_name": "HTMLModel",
          "model_module_version": "1.5.0",
          "state": {
            "_dom_classes": [],
            "_model_module": "@jupyter-widgets/controls",
            "_model_module_version": "1.5.0",
            "_model_name": "HTMLModel",
            "_view_count": null,
            "_view_module": "@jupyter-widgets/controls",
            "_view_module_version": "1.5.0",
            "_view_name": "HTMLView",
            "description": "",
            "description_tooltip": null,
            "layout": "IPY_MODEL_009fb21a47534f19b34165046ac7ee4b",
            "placeholder": "​",
            "style": "IPY_MODEL_87b766d86e77424bb49374783cad9147",
            "value": "Running Evaluation: 100%"
          }
        },
        "bf3e733815394429a9dfe4459c7db380": {
          "model_module": "@jupyter-widgets/controls",
          "model_name": "FloatProgressModel",
          "model_module_version": "1.5.0",
          "state": {
            "_dom_classes": [],
            "_model_module": "@jupyter-widgets/controls",
            "_model_module_version": "1.5.0",
            "_model_name": "FloatProgressModel",
            "_view_count": null,
            "_view_module": "@jupyter-widgets/controls",
            "_view_module_version": "1.5.0",
            "_view_name": "ProgressView",
            "bar_style": "success",
            "description": "",
            "description_tooltip": null,
            "layout": "IPY_MODEL_f98b38c3fa6a422e8660acd719922e71",
            "max": 2889,
            "min": 0,
            "orientation": "horizontal",
            "style": "IPY_MODEL_ba6de96c967743b7abd5b8430c1bb8c4",
            "value": 2889
          }
        },
        "09b047aba22c4eeeba4a47012819d43a": {
          "model_module": "@jupyter-widgets/controls",
          "model_name": "HTMLModel",
          "model_module_version": "1.5.0",
          "state": {
            "_dom_classes": [],
            "_model_module": "@jupyter-widgets/controls",
            "_model_module_version": "1.5.0",
            "_model_name": "HTMLModel",
            "_view_count": null,
            "_view_module": "@jupyter-widgets/controls",
            "_view_module_version": "1.5.0",
            "_view_name": "HTMLView",
            "description": "",
            "description_tooltip": null,
            "layout": "IPY_MODEL_1128474b7f43416fbfde261ea68ca4b1",
            "placeholder": "​",
            "style": "IPY_MODEL_e7c9ae162ddd4afc8df1b0a7b36ed653",
            "value": " 2889/2889 [01:01&lt;00:00, 47.14it/s]"
          }
        },
        "13dc533460114d39a1005d33ad282c6a": {
          "model_module": "@jupyter-widgets/base",
          "model_name": "LayoutModel",
          "model_module_version": "1.2.0",
          "state": {
            "_model_module": "@jupyter-widgets/base",
            "_model_module_version": "1.2.0",
            "_model_name": "LayoutModel",
            "_view_count": null,
            "_view_module": "@jupyter-widgets/base",
            "_view_module_version": "1.2.0",
            "_view_name": "LayoutView",
            "align_content": null,
            "align_items": null,
            "align_self": null,
            "border": null,
            "bottom": null,
            "display": null,
            "flex": null,
            "flex_flow": null,
            "grid_area": null,
            "grid_auto_columns": null,
            "grid_auto_flow": null,
            "grid_auto_rows": null,
            "grid_column": null,
            "grid_gap": null,
            "grid_row": null,
            "grid_template_areas": null,
            "grid_template_columns": null,
            "grid_template_rows": null,
            "height": null,
            "justify_content": null,
            "justify_items": null,
            "left": null,
            "margin": null,
            "max_height": null,
            "max_width": null,
            "min_height": null,
            "min_width": null,
            "object_fit": null,
            "object_position": null,
            "order": null,
            "overflow": null,
            "overflow_x": null,
            "overflow_y": null,
            "padding": null,
            "right": null,
            "top": null,
            "visibility": null,
            "width": null
          }
        },
        "009fb21a47534f19b34165046ac7ee4b": {
          "model_module": "@jupyter-widgets/base",
          "model_name": "LayoutModel",
          "model_module_version": "1.2.0",
          "state": {
            "_model_module": "@jupyter-widgets/base",
            "_model_module_version": "1.2.0",
            "_model_name": "LayoutModel",
            "_view_count": null,
            "_view_module": "@jupyter-widgets/base",
            "_view_module_version": "1.2.0",
            "_view_name": "LayoutView",
            "align_content": null,
            "align_items": null,
            "align_self": null,
            "border": null,
            "bottom": null,
            "display": null,
            "flex": null,
            "flex_flow": null,
            "grid_area": null,
            "grid_auto_columns": null,
            "grid_auto_flow": null,
            "grid_auto_rows": null,
            "grid_column": null,
            "grid_gap": null,
            "grid_row": null,
            "grid_template_areas": null,
            "grid_template_columns": null,
            "grid_template_rows": null,
            "height": null,
            "justify_content": null,
            "justify_items": null,
            "left": null,
            "margin": null,
            "max_height": null,
            "max_width": null,
            "min_height": null,
            "min_width": null,
            "object_fit": null,
            "object_position": null,
            "order": null,
            "overflow": null,
            "overflow_x": null,
            "overflow_y": null,
            "padding": null,
            "right": null,
            "top": null,
            "visibility": null,
            "width": null
          }
        },
        "87b766d86e77424bb49374783cad9147": {
          "model_module": "@jupyter-widgets/controls",
          "model_name": "DescriptionStyleModel",
          "model_module_version": "1.5.0",
          "state": {
            "_model_module": "@jupyter-widgets/controls",
            "_model_module_version": "1.5.0",
            "_model_name": "DescriptionStyleModel",
            "_view_count": null,
            "_view_module": "@jupyter-widgets/base",
            "_view_module_version": "1.2.0",
            "_view_name": "StyleView",
            "description_width": ""
          }
        },
        "f98b38c3fa6a422e8660acd719922e71": {
          "model_module": "@jupyter-widgets/base",
          "model_name": "LayoutModel",
          "model_module_version": "1.2.0",
          "state": {
            "_model_module": "@jupyter-widgets/base",
            "_model_module_version": "1.2.0",
            "_model_name": "LayoutModel",
            "_view_count": null,
            "_view_module": "@jupyter-widgets/base",
            "_view_module_version": "1.2.0",
            "_view_name": "LayoutView",
            "align_content": null,
            "align_items": null,
            "align_self": null,
            "border": null,
            "bottom": null,
            "display": null,
            "flex": null,
            "flex_flow": null,
            "grid_area": null,
            "grid_auto_columns": null,
            "grid_auto_flow": null,
            "grid_auto_rows": null,
            "grid_column": null,
            "grid_gap": null,
            "grid_row": null,
            "grid_template_areas": null,
            "grid_template_columns": null,
            "grid_template_rows": null,
            "height": null,
            "justify_content": null,
            "justify_items": null,
            "left": null,
            "margin": null,
            "max_height": null,
            "max_width": null,
            "min_height": null,
            "min_width": null,
            "object_fit": null,
            "object_position": null,
            "order": null,
            "overflow": null,
            "overflow_x": null,
            "overflow_y": null,
            "padding": null,
            "right": null,
            "top": null,
            "visibility": null,
            "width": null
          }
        },
        "ba6de96c967743b7abd5b8430c1bb8c4": {
          "model_module": "@jupyter-widgets/controls",
          "model_name": "ProgressStyleModel",
          "model_module_version": "1.5.0",
          "state": {
            "_model_module": "@jupyter-widgets/controls",
            "_model_module_version": "1.5.0",
            "_model_name": "ProgressStyleModel",
            "_view_count": null,
            "_view_module": "@jupyter-widgets/base",
            "_view_module_version": "1.2.0",
            "_view_name": "StyleView",
            "bar_color": null,
            "description_width": ""
          }
        },
        "1128474b7f43416fbfde261ea68ca4b1": {
          "model_module": "@jupyter-widgets/base",
          "model_name": "LayoutModel",
          "model_module_version": "1.2.0",
          "state": {
            "_model_module": "@jupyter-widgets/base",
            "_model_module_version": "1.2.0",
            "_model_name": "LayoutModel",
            "_view_count": null,
            "_view_module": "@jupyter-widgets/base",
            "_view_module_version": "1.2.0",
            "_view_name": "LayoutView",
            "align_content": null,
            "align_items": null,
            "align_self": null,
            "border": null,
            "bottom": null,
            "display": null,
            "flex": null,
            "flex_flow": null,
            "grid_area": null,
            "grid_auto_columns": null,
            "grid_auto_flow": null,
            "grid_auto_rows": null,
            "grid_column": null,
            "grid_gap": null,
            "grid_row": null,
            "grid_template_areas": null,
            "grid_template_columns": null,
            "grid_template_rows": null,
            "height": null,
            "justify_content": null,
            "justify_items": null,
            "left": null,
            "margin": null,
            "max_height": null,
            "max_width": null,
            "min_height": null,
            "min_width": null,
            "object_fit": null,
            "object_position": null,
            "order": null,
            "overflow": null,
            "overflow_x": null,
            "overflow_y": null,
            "padding": null,
            "right": null,
            "top": null,
            "visibility": null,
            "width": null
          }
        },
        "e7c9ae162ddd4afc8df1b0a7b36ed653": {
          "model_module": "@jupyter-widgets/controls",
          "model_name": "DescriptionStyleModel",
          "model_module_version": "1.5.0",
          "state": {
            "_model_module": "@jupyter-widgets/controls",
            "_model_module_version": "1.5.0",
            "_model_name": "DescriptionStyleModel",
            "_view_count": null,
            "_view_module": "@jupyter-widgets/base",
            "_view_module_version": "1.2.0",
            "_view_name": "StyleView",
            "description_width": ""
          }
        },
        "d53860df59794125bc5964ee153a07a2": {
          "model_module": "@jupyter-widgets/controls",
          "model_name": "HBoxModel",
          "model_module_version": "1.5.0",
          "state": {
            "_dom_classes": [],
            "_model_module": "@jupyter-widgets/controls",
            "_model_module_version": "1.5.0",
            "_model_name": "HBoxModel",
            "_view_count": null,
            "_view_module": "@jupyter-widgets/controls",
            "_view_module_version": "1.5.0",
            "_view_name": "HBoxView",
            "box_style": "",
            "children": [
              "IPY_MODEL_bac8e2e439dd41928885a2db99b51b7d",
              "IPY_MODEL_e59c9afe8fc145a78dc780058429ca7d",
              "IPY_MODEL_ef36aab465c64d3cb19a9297c91b1b62"
            ],
            "layout": "IPY_MODEL_4da115e8adc742dabb9a54c8540d0283"
          }
        },
        "bac8e2e439dd41928885a2db99b51b7d": {
          "model_module": "@jupyter-widgets/controls",
          "model_name": "HTMLModel",
          "model_module_version": "1.5.0",
          "state": {
            "_dom_classes": [],
            "_model_module": "@jupyter-widgets/controls",
            "_model_module_version": "1.5.0",
            "_model_name": "HTMLModel",
            "_view_count": null,
            "_view_module": "@jupyter-widgets/controls",
            "_view_module_version": "1.5.0",
            "_view_name": "HTMLView",
            "description": "",
            "description_tooltip": null,
            "layout": "IPY_MODEL_d7cbedc58491470fbd245fb5bac17198",
            "placeholder": "​",
            "style": "IPY_MODEL_f72d5c82d39a4837bd3b7c12146a10f7",
            "value": "Running Prediction: 100%"
          }
        },
        "e59c9afe8fc145a78dc780058429ca7d": {
          "model_module": "@jupyter-widgets/controls",
          "model_name": "FloatProgressModel",
          "model_module_version": "1.5.0",
          "state": {
            "_dom_classes": [],
            "_model_module": "@jupyter-widgets/controls",
            "_model_module_version": "1.5.0",
            "_model_name": "FloatProgressModel",
            "_view_count": null,
            "_view_module": "@jupyter-widgets/controls",
            "_view_module_version": "1.5.0",
            "_view_name": "ProgressView",
            "bar_style": "success",
            "description": "",
            "description_tooltip": null,
            "layout": "IPY_MODEL_a052f83da4e141ac85de1a1f77443ac6",
            "max": 17,
            "min": 0,
            "orientation": "horizontal",
            "style": "IPY_MODEL_4c0bfc062f354b97b4cc572329998521",
            "value": 17
          }
        },
        "ef36aab465c64d3cb19a9297c91b1b62": {
          "model_module": "@jupyter-widgets/controls",
          "model_name": "HTMLModel",
          "model_module_version": "1.5.0",
          "state": {
            "_dom_classes": [],
            "_model_module": "@jupyter-widgets/controls",
            "_model_module_version": "1.5.0",
            "_model_name": "HTMLModel",
            "_view_count": null,
            "_view_module": "@jupyter-widgets/controls",
            "_view_module_version": "1.5.0",
            "_view_name": "HTMLView",
            "description": "",
            "description_tooltip": null,
            "layout": "IPY_MODEL_edbc00ab04844272967e38b1c3ccad58",
            "placeholder": "​",
            "style": "IPY_MODEL_3a3e504946b542e58ee018379363c48e",
            "value": " 17/17 [00:00&lt;00:00, 30.40it/s]"
          }
        },
        "4da115e8adc742dabb9a54c8540d0283": {
          "model_module": "@jupyter-widgets/base",
          "model_name": "LayoutModel",
          "model_module_version": "1.2.0",
          "state": {
            "_model_module": "@jupyter-widgets/base",
            "_model_module_version": "1.2.0",
            "_model_name": "LayoutModel",
            "_view_count": null,
            "_view_module": "@jupyter-widgets/base",
            "_view_module_version": "1.2.0",
            "_view_name": "LayoutView",
            "align_content": null,
            "align_items": null,
            "align_self": null,
            "border": null,
            "bottom": null,
            "display": null,
            "flex": null,
            "flex_flow": null,
            "grid_area": null,
            "grid_auto_columns": null,
            "grid_auto_flow": null,
            "grid_auto_rows": null,
            "grid_column": null,
            "grid_gap": null,
            "grid_row": null,
            "grid_template_areas": null,
            "grid_template_columns": null,
            "grid_template_rows": null,
            "height": null,
            "justify_content": null,
            "justify_items": null,
            "left": null,
            "margin": null,
            "max_height": null,
            "max_width": null,
            "min_height": null,
            "min_width": null,
            "object_fit": null,
            "object_position": null,
            "order": null,
            "overflow": null,
            "overflow_x": null,
            "overflow_y": null,
            "padding": null,
            "right": null,
            "top": null,
            "visibility": null,
            "width": null
          }
        },
        "d7cbedc58491470fbd245fb5bac17198": {
          "model_module": "@jupyter-widgets/base",
          "model_name": "LayoutModel",
          "model_module_version": "1.2.0",
          "state": {
            "_model_module": "@jupyter-widgets/base",
            "_model_module_version": "1.2.0",
            "_model_name": "LayoutModel",
            "_view_count": null,
            "_view_module": "@jupyter-widgets/base",
            "_view_module_version": "1.2.0",
            "_view_name": "LayoutView",
            "align_content": null,
            "align_items": null,
            "align_self": null,
            "border": null,
            "bottom": null,
            "display": null,
            "flex": null,
            "flex_flow": null,
            "grid_area": null,
            "grid_auto_columns": null,
            "grid_auto_flow": null,
            "grid_auto_rows": null,
            "grid_column": null,
            "grid_gap": null,
            "grid_row": null,
            "grid_template_areas": null,
            "grid_template_columns": null,
            "grid_template_rows": null,
            "height": null,
            "justify_content": null,
            "justify_items": null,
            "left": null,
            "margin": null,
            "max_height": null,
            "max_width": null,
            "min_height": null,
            "min_width": null,
            "object_fit": null,
            "object_position": null,
            "order": null,
            "overflow": null,
            "overflow_x": null,
            "overflow_y": null,
            "padding": null,
            "right": null,
            "top": null,
            "visibility": null,
            "width": null
          }
        },
        "f72d5c82d39a4837bd3b7c12146a10f7": {
          "model_module": "@jupyter-widgets/controls",
          "model_name": "DescriptionStyleModel",
          "model_module_version": "1.5.0",
          "state": {
            "_model_module": "@jupyter-widgets/controls",
            "_model_module_version": "1.5.0",
            "_model_name": "DescriptionStyleModel",
            "_view_count": null,
            "_view_module": "@jupyter-widgets/base",
            "_view_module_version": "1.2.0",
            "_view_name": "StyleView",
            "description_width": ""
          }
        },
        "a052f83da4e141ac85de1a1f77443ac6": {
          "model_module": "@jupyter-widgets/base",
          "model_name": "LayoutModel",
          "model_module_version": "1.2.0",
          "state": {
            "_model_module": "@jupyter-widgets/base",
            "_model_module_version": "1.2.0",
            "_model_name": "LayoutModel",
            "_view_count": null,
            "_view_module": "@jupyter-widgets/base",
            "_view_module_version": "1.2.0",
            "_view_name": "LayoutView",
            "align_content": null,
            "align_items": null,
            "align_self": null,
            "border": null,
            "bottom": null,
            "display": null,
            "flex": null,
            "flex_flow": null,
            "grid_area": null,
            "grid_auto_columns": null,
            "grid_auto_flow": null,
            "grid_auto_rows": null,
            "grid_column": null,
            "grid_gap": null,
            "grid_row": null,
            "grid_template_areas": null,
            "grid_template_columns": null,
            "grid_template_rows": null,
            "height": null,
            "justify_content": null,
            "justify_items": null,
            "left": null,
            "margin": null,
            "max_height": null,
            "max_width": null,
            "min_height": null,
            "min_width": null,
            "object_fit": null,
            "object_position": null,
            "order": null,
            "overflow": null,
            "overflow_x": null,
            "overflow_y": null,
            "padding": null,
            "right": null,
            "top": null,
            "visibility": null,
            "width": null
          }
        },
        "4c0bfc062f354b97b4cc572329998521": {
          "model_module": "@jupyter-widgets/controls",
          "model_name": "ProgressStyleModel",
          "model_module_version": "1.5.0",
          "state": {
            "_model_module": "@jupyter-widgets/controls",
            "_model_module_version": "1.5.0",
            "_model_name": "ProgressStyleModel",
            "_view_count": null,
            "_view_module": "@jupyter-widgets/base",
            "_view_module_version": "1.2.0",
            "_view_name": "StyleView",
            "bar_color": null,
            "description_width": ""
          }
        },
        "edbc00ab04844272967e38b1c3ccad58": {
          "model_module": "@jupyter-widgets/base",
          "model_name": "LayoutModel",
          "model_module_version": "1.2.0",
          "state": {
            "_model_module": "@jupyter-widgets/base",
            "_model_module_version": "1.2.0",
            "_model_name": "LayoutModel",
            "_view_count": null,
            "_view_module": "@jupyter-widgets/base",
            "_view_module_version": "1.2.0",
            "_view_name": "LayoutView",
            "align_content": null,
            "align_items": null,
            "align_self": null,
            "border": null,
            "bottom": null,
            "display": null,
            "flex": null,
            "flex_flow": null,
            "grid_area": null,
            "grid_auto_columns": null,
            "grid_auto_flow": null,
            "grid_auto_rows": null,
            "grid_column": null,
            "grid_gap": null,
            "grid_row": null,
            "grid_template_areas": null,
            "grid_template_columns": null,
            "grid_template_rows": null,
            "height": null,
            "justify_content": null,
            "justify_items": null,
            "left": null,
            "margin": null,
            "max_height": null,
            "max_width": null,
            "min_height": null,
            "min_width": null,
            "object_fit": null,
            "object_position": null,
            "order": null,
            "overflow": null,
            "overflow_x": null,
            "overflow_y": null,
            "padding": null,
            "right": null,
            "top": null,
            "visibility": null,
            "width": null
          }
        },
        "3a3e504946b542e58ee018379363c48e": {
          "model_module": "@jupyter-widgets/controls",
          "model_name": "DescriptionStyleModel",
          "model_module_version": "1.5.0",
          "state": {
            "_model_module": "@jupyter-widgets/controls",
            "_model_module_version": "1.5.0",
            "_model_name": "DescriptionStyleModel",
            "_view_count": null,
            "_view_module": "@jupyter-widgets/base",
            "_view_module_version": "1.2.0",
            "_view_name": "StyleView",
            "description_width": ""
          }
        }
      }
    }
  },
  "nbformat": 4,
  "nbformat_minor": 5
}